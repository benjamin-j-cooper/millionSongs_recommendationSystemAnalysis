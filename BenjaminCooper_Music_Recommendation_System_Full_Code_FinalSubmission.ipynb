{
 "cells": [
  {
   "cell_type": "markdown",
   "metadata": {
    "id": "DyAjEw4OHmDb"
   },
   "source": [
    "# **Capstone Project:** Music Recommendation System\n",
    " **Author:** Benjamin Cooper\n",
    " <br>\n",
    " \n",
    " **Date:** 04/13/2023\n"
   ]
  },
  {
   "cell_type": "markdown",
   "metadata": {
    "id": "FMCaC7Q_tq1m"
   },
   "source": [
    "## **Problem Definition**\n",
    "\n",
    "### **The Context:**\n",
    "\n",
    "        With the advent of smartphones and the consumer economy, there has been a revolution in the ways that people consume products and content. At the same time, digital music and digital music distribution platforms have become some of the most widely accessible and highly consumed product markets in the world. Yet with this deluge of digital music content comes a challenge: how do users find new content that they enjoy, and how do digital music platforms enable music discovery by users? These challenges are exacerbated by the fact that in the modern fast-paced world, people are often time or attention limited, there are other platforms competing for user attention, and digital content-based company's revenue often relies on the time consumers spend on, or interact with, its platform. These companies need to be able to figure out what kind of content is needed in order to increase customer time spent on their platform, the ammount of interaction had with their platform, and the overall satisfaction with a users experience on the platform. The key challenge for companies is in figuring out what kind of content their users are most likely to consume. \n",
    "\n",
    "        Spotify is one such music content provider with a huge market base across the world. With the ever-increasing volume of streaming music becoming available, finding new music of interest has become a tedious task in and of itself. Spotify has grown significantly in the market because of its ability to make highly personalized music recommendations to each and every user of its platform based on a huge preference database gathered over time - millions of customers and billions of songs. This is done by using smart recommendation systems that can recommend songs based on users’ likes/dislikes, incorporating both content-based and latent features for song recommendations. However, the recommendation system used by Spotify and its parameter settings have remained a proprietary, closely-guarded secret. Here, I build a recommendation system to provide a top 10 of personalized song recommendations to a user that the user is most likely to enjoy/like/interact-with based on that users personal musical preferences.\n",
    "\n",
    "### **The objective:**\n",
    "\n",
    "Build a recommendation system to propose the top 10 songs for a user based on the likelihood of listening to those songs.\n",
    "\n",
    "### **The key questions:**\n",
    "\n",
    "- What is the structure of the dataset?\n",
    "- What variables will be used to make the recommendation system?\n",
    "- What is the distribution of the 'rating' variable?\n",
    "- Which models will be used to build a recommendation system?\n",
    "- How will models be evaluated?\n",
    "- Based on criteria, which model is 'best'?\n",
    "- Is this model good enough for production?\n",
    "\n",
    "### **The problem formulation**:\n",
    "\n",
    "Using data science, we are trying to provide personalized song recommendations (the 'best' songs) to a user that that user is most likely to enjoy/like/interact-with the most based on that users personal musical preferences. "
   ]
  },
  {
   "cell_type": "markdown",
   "metadata": {
    "id": "BVUiyhYTHS1t"
   },
   "source": [
    "## **Data Dictionary**\n",
    "\n",
    "The core data is the Taste Profile Subset released by the Echo Nest as part of the Million Song Dataset. There are two files in this dataset. The first file contains the details about the song id, titles, release, artist name, and the year of release. The second file contains the user id, song id, and the play count of users.\n",
    "\n",
    "__song_data__\n",
    "\n",
    "- song_id - A unique id given to every song\n",
    "\n",
    "- title - Title of the song\n",
    "\n",
    "- Release - Name of the released album\n",
    "\n",
    "- Artist_name - Name of the artist \n",
    "\n",
    "- year - Year of release\n",
    "\n",
    "__count_data__\n",
    "\n",
    "- user _id - A unique id given to the user\n",
    "\n",
    "- song_id - A unique id given to the song\n",
    "\n",
    "- play_count - Number of times the song was played\n",
    "\n",
    "## **Data Source**\n",
    "http://millionsongdataset.com/"
   ]
  },
  {
   "cell_type": "markdown",
   "metadata": {
    "id": "NRJtXkTrHxMQ"
   },
   "source": [
    "### **Importing Libraries and the Dataset**"
   ]
  },
  {
   "cell_type": "code",
   "execution_count": 21,
   "metadata": {},
   "outputs": [],
   "source": [
    "# Install the surprise package using pip. Only have do do this the first time, Uncomment and run the below code to do the same\n",
    "# !pip install surprise "
   ]
  },
  {
   "cell_type": "code",
   "execution_count": 173,
   "metadata": {
    "id": "R4YvKrpzId3K"
   },
   "outputs": [],
   "source": [
    "# Used to ignore the warning given as output of the code\n",
    "import warnings                                 \n",
    "warnings.filterwarnings('ignore')\n",
    "\n",
    "# Basic libraries of python for numeric and dataframe computations\n",
    "import numpy as np                              \n",
    "import pandas as pd\n",
    "\n",
    "# Basic library for data visualization\n",
    "import matplotlib.pyplot as plt   \n",
    "%matplotlib inline\n",
    "import matplotlib.ticker as ticker\n",
    "# Slightly advanced library for data visualization\n",
    "import seaborn as sns                           \n",
    "\n",
    "# A dictionary output that does not raise a key error\n",
    "from collections import defaultdict             \n",
    "\n",
    "# A performance metrics in sklearn\n",
    "from sklearn.metrics import mean_squared_error  \n",
    "\n",
    "# To compute the accuracy of models\n",
    "from surprise import accuracy\n",
    "\n",
    "# Class is used to parse a file containing ratings, data should be in structure - user ; item ; rating\n",
    "from surprise.reader import Reader\n",
    "\n",
    "# Class for loading datasets\n",
    "from surprise.dataset import Dataset\n",
    "\n",
    "# For tuning model hyperparameters\n",
    "from surprise.model_selection import GridSearchCV\n",
    "\n",
    "# For splitting the rating data in train and test datasets\n",
    "from surprise.model_selection import train_test_split\n",
    "\n",
    "# For model validation\n",
    "from surprise.model_selection import cross_validate\n",
    "\n",
    "# For implementing similarity-based recommendation system\n",
    "from surprise.prediction_algorithms.knns import KNNBasic\n",
    "\n",
    "# For implementing matrix factorization based recommendation system\n",
    "from surprise.prediction_algorithms.matrix_factorization import SVD\n",
    "\n",
    "# for implementing K-Fold cross-validation\n",
    "from surprise.model_selection import KFold\n",
    "\n",
    "# For implementing clustering-based recommendation system\n",
    "from surprise import CoClustering\n",
    "\n",
    "# model avaluation \n",
    "from surprise.accuracy import rmse, mae\n",
    "\n",
    "# For scaling the counts\n",
    "from sklearn import preprocessing\n",
    "\n",
    "from surprise import SVDpp\n",
    "from surprise import accuracy\n",
    "\n",
    "# Importing nltk (natural language toolkit library)\n",
    "import nltk\n",
    "\n",
    "# This is importing regular expression\n",
    "import re\n",
    "\n",
    "# Word_tokenize is used to do tokenization\n",
    "from nltk import word_tokenize\n",
    "\n",
    "# Importing the Lematizer \n",
    "from nltk.stem import WordNetLemmatizer\n",
    "\n",
    "# Importing the stopwords\n",
    "from nltk.corpus import stopwords\n",
    "\n",
    "# Tfidf vectorizer used to create the computational vectors\n",
    "from sklearn.feature_extraction.text import TfidfVectorizer\n",
    "\n",
    "# To find the similarity between two vectors\n",
    "from sklearn.metrics.pairwise import cosine_similarity "
   ]
  },
  {
   "cell_type": "code",
   "execution_count": 23,
   "metadata": {},
   "outputs": [],
   "source": [
    "# # Only have to download first time running:\n",
    "# nltk.download('omw-1.4')\n",
    "\n",
    "# # Downloading punctuations\n",
    "# nltk.download('punkt')\n",
    "\n",
    "# # Downloading stopwords\n",
    "# nltk.download('stopwords')\n",
    "\n",
    "# # Downloading wordnet\n",
    "# nltk.download('wordnet') "
   ]
  },
  {
   "cell_type": "markdown",
   "metadata": {
    "id": "bUGKX140wf-S"
   },
   "source": [
    "### **Load the dataset**"
   ]
  },
  {
   "cell_type": "code",
   "execution_count": 204,
   "metadata": {
    "id": "si6ulhIYImck"
   },
   "outputs": [],
   "source": [
    "# Importing the datasets\n",
    "sdf = pd.read_csv('./datasets/song_data.csv', header = 0) # There are headers in the data file\n",
    "cdf = pd.read_csv('./datasets/count_data.csv', header = 0) # There are headers in the data file\n",
    "cdf = cdf.drop('Unnamed: 0', axis = 1) # Dropping extra index"
   ]
  },
  {
   "cell_type": "markdown",
   "metadata": {
    "id": "12TKB2M7XyC6"
   },
   "source": [
    "### **Understanding the data by viewing a few observations**"
   ]
  },
  {
   "cell_type": "code",
   "execution_count": 25,
   "metadata": {
    "id": "GCLzBuYiXlPM"
   },
   "outputs": [
    {
     "data": {
      "text/html": [
       "<div>\n",
       "<style scoped>\n",
       "    .dataframe tbody tr th:only-of-type {\n",
       "        vertical-align: middle;\n",
       "    }\n",
       "\n",
       "    .dataframe tbody tr th {\n",
       "        vertical-align: top;\n",
       "    }\n",
       "\n",
       "    .dataframe thead th {\n",
       "        text-align: right;\n",
       "    }\n",
       "</style>\n",
       "<table border=\"1\" class=\"dataframe\">\n",
       "  <thead>\n",
       "    <tr style=\"text-align: right;\">\n",
       "      <th></th>\n",
       "      <th>user_id</th>\n",
       "      <th>song_id</th>\n",
       "      <th>play_count</th>\n",
       "    </tr>\n",
       "  </thead>\n",
       "  <tbody>\n",
       "    <tr>\n",
       "      <th>0</th>\n",
       "      <td>b80344d063b5ccb3212f76538f3d9e43d87dca9e</td>\n",
       "      <td>SOAKIMP12A8C130995</td>\n",
       "      <td>1</td>\n",
       "    </tr>\n",
       "    <tr>\n",
       "      <th>1</th>\n",
       "      <td>b80344d063b5ccb3212f76538f3d9e43d87dca9e</td>\n",
       "      <td>SOBBMDR12A8C13253B</td>\n",
       "      <td>2</td>\n",
       "    </tr>\n",
       "    <tr>\n",
       "      <th>2</th>\n",
       "      <td>b80344d063b5ccb3212f76538f3d9e43d87dca9e</td>\n",
       "      <td>SOBXHDL12A81C204C0</td>\n",
       "      <td>1</td>\n",
       "    </tr>\n",
       "    <tr>\n",
       "      <th>3</th>\n",
       "      <td>b80344d063b5ccb3212f76538f3d9e43d87dca9e</td>\n",
       "      <td>SOBYHAJ12A6701BF1D</td>\n",
       "      <td>1</td>\n",
       "    </tr>\n",
       "    <tr>\n",
       "      <th>4</th>\n",
       "      <td>b80344d063b5ccb3212f76538f3d9e43d87dca9e</td>\n",
       "      <td>SODACBL12A8C13C273</td>\n",
       "      <td>1</td>\n",
       "    </tr>\n",
       "    <tr>\n",
       "      <th>5</th>\n",
       "      <td>b80344d063b5ccb3212f76538f3d9e43d87dca9e</td>\n",
       "      <td>SODDNQT12A6D4F5F7E</td>\n",
       "      <td>5</td>\n",
       "    </tr>\n",
       "    <tr>\n",
       "      <th>6</th>\n",
       "      <td>b80344d063b5ccb3212f76538f3d9e43d87dca9e</td>\n",
       "      <td>SODXRTY12AB0180F3B</td>\n",
       "      <td>1</td>\n",
       "    </tr>\n",
       "    <tr>\n",
       "      <th>7</th>\n",
       "      <td>b80344d063b5ccb3212f76538f3d9e43d87dca9e</td>\n",
       "      <td>SOFGUAY12AB017B0A8</td>\n",
       "      <td>1</td>\n",
       "    </tr>\n",
       "    <tr>\n",
       "      <th>8</th>\n",
       "      <td>b80344d063b5ccb3212f76538f3d9e43d87dca9e</td>\n",
       "      <td>SOFRQTD12A81C233C0</td>\n",
       "      <td>1</td>\n",
       "    </tr>\n",
       "    <tr>\n",
       "      <th>9</th>\n",
       "      <td>b80344d063b5ccb3212f76538f3d9e43d87dca9e</td>\n",
       "      <td>SOHQWYZ12A6D4FA701</td>\n",
       "      <td>1</td>\n",
       "    </tr>\n",
       "  </tbody>\n",
       "</table>\n",
       "</div>"
      ],
      "text/plain": [
       "                                    user_id             song_id  play_count\n",
       "0  b80344d063b5ccb3212f76538f3d9e43d87dca9e  SOAKIMP12A8C130995           1\n",
       "1  b80344d063b5ccb3212f76538f3d9e43d87dca9e  SOBBMDR12A8C13253B           2\n",
       "2  b80344d063b5ccb3212f76538f3d9e43d87dca9e  SOBXHDL12A81C204C0           1\n",
       "3  b80344d063b5ccb3212f76538f3d9e43d87dca9e  SOBYHAJ12A6701BF1D           1\n",
       "4  b80344d063b5ccb3212f76538f3d9e43d87dca9e  SODACBL12A8C13C273           1\n",
       "5  b80344d063b5ccb3212f76538f3d9e43d87dca9e  SODDNQT12A6D4F5F7E           5\n",
       "6  b80344d063b5ccb3212f76538f3d9e43d87dca9e  SODXRTY12AB0180F3B           1\n",
       "7  b80344d063b5ccb3212f76538f3d9e43d87dca9e  SOFGUAY12AB017B0A8           1\n",
       "8  b80344d063b5ccb3212f76538f3d9e43d87dca9e  SOFRQTD12A81C233C0           1\n",
       "9  b80344d063b5ccb3212f76538f3d9e43d87dca9e  SOHQWYZ12A6D4FA701           1"
      ]
     },
     "execution_count": 25,
     "metadata": {},
     "output_type": "execute_result"
    }
   ],
   "source": [
    "# See top 10 records of count_df data\n",
    "cdf.head(10)"
   ]
  },
  {
   "cell_type": "code",
   "execution_count": 26,
   "metadata": {
    "id": "tV1ed0ApXpu3"
   },
   "outputs": [
    {
     "data": {
      "text/html": [
       "<div>\n",
       "<style scoped>\n",
       "    .dataframe tbody tr th:only-of-type {\n",
       "        vertical-align: middle;\n",
       "    }\n",
       "\n",
       "    .dataframe tbody tr th {\n",
       "        vertical-align: top;\n",
       "    }\n",
       "\n",
       "    .dataframe thead th {\n",
       "        text-align: right;\n",
       "    }\n",
       "</style>\n",
       "<table border=\"1\" class=\"dataframe\">\n",
       "  <thead>\n",
       "    <tr style=\"text-align: right;\">\n",
       "      <th></th>\n",
       "      <th>song_id</th>\n",
       "      <th>title</th>\n",
       "      <th>release</th>\n",
       "      <th>artist_name</th>\n",
       "      <th>year</th>\n",
       "    </tr>\n",
       "  </thead>\n",
       "  <tbody>\n",
       "    <tr>\n",
       "      <th>0</th>\n",
       "      <td>SOQMMHC12AB0180CB8</td>\n",
       "      <td>Silent Night</td>\n",
       "      <td>Monster Ballads X-Mas</td>\n",
       "      <td>Faster Pussy cat</td>\n",
       "      <td>2003</td>\n",
       "    </tr>\n",
       "    <tr>\n",
       "      <th>1</th>\n",
       "      <td>SOVFVAK12A8C1350D9</td>\n",
       "      <td>Tanssi vaan</td>\n",
       "      <td>Karkuteillä</td>\n",
       "      <td>Karkkiautomaatti</td>\n",
       "      <td>1995</td>\n",
       "    </tr>\n",
       "    <tr>\n",
       "      <th>2</th>\n",
       "      <td>SOGTUKN12AB017F4F1</td>\n",
       "      <td>No One Could Ever</td>\n",
       "      <td>Butter</td>\n",
       "      <td>Hudson Mohawke</td>\n",
       "      <td>2006</td>\n",
       "    </tr>\n",
       "    <tr>\n",
       "      <th>3</th>\n",
       "      <td>SOBNYVR12A8C13558C</td>\n",
       "      <td>Si Vos Querés</td>\n",
       "      <td>De Culo</td>\n",
       "      <td>Yerba Brava</td>\n",
       "      <td>2003</td>\n",
       "    </tr>\n",
       "    <tr>\n",
       "      <th>4</th>\n",
       "      <td>SOHSBXH12A8C13B0DF</td>\n",
       "      <td>Tangle Of Aspens</td>\n",
       "      <td>Rene Ablaze Presents Winter Sessions</td>\n",
       "      <td>Der Mystic</td>\n",
       "      <td>0</td>\n",
       "    </tr>\n",
       "    <tr>\n",
       "      <th>5</th>\n",
       "      <td>SOZVAPQ12A8C13B63C</td>\n",
       "      <td>Symphony No. 1 G minor \"Sinfonie Serieuse\"/All...</td>\n",
       "      <td>Berwald: Symphonies Nos. 1/2/3/4</td>\n",
       "      <td>David Montgomery</td>\n",
       "      <td>0</td>\n",
       "    </tr>\n",
       "    <tr>\n",
       "      <th>6</th>\n",
       "      <td>SOQVRHI12A6D4FB2D7</td>\n",
       "      <td>We Have Got Love</td>\n",
       "      <td>Strictly The Best Vol. 34</td>\n",
       "      <td>Sasha / Turbulence</td>\n",
       "      <td>0</td>\n",
       "    </tr>\n",
       "    <tr>\n",
       "      <th>7</th>\n",
       "      <td>SOEYRFT12AB018936C</td>\n",
       "      <td>2 Da Beat Ch'yall</td>\n",
       "      <td>Da Bomb</td>\n",
       "      <td>Kris Kross</td>\n",
       "      <td>1993</td>\n",
       "    </tr>\n",
       "    <tr>\n",
       "      <th>8</th>\n",
       "      <td>SOPMIYT12A6D4F851E</td>\n",
       "      <td>Goodbye</td>\n",
       "      <td>Danny Boy</td>\n",
       "      <td>Joseph Locke</td>\n",
       "      <td>0</td>\n",
       "    </tr>\n",
       "    <tr>\n",
       "      <th>9</th>\n",
       "      <td>SOJCFMH12A8C13B0C2</td>\n",
       "      <td>Mama_ mama can't you see ?</td>\n",
       "      <td>March to cadence with the US marines</td>\n",
       "      <td>The Sun Harbor's Chorus-Documentary Recordings</td>\n",
       "      <td>0</td>\n",
       "    </tr>\n",
       "  </tbody>\n",
       "</table>\n",
       "</div>"
      ],
      "text/plain": [
       "              song_id                                              title  \\\n",
       "0  SOQMMHC12AB0180CB8                                       Silent Night   \n",
       "1  SOVFVAK12A8C1350D9                                        Tanssi vaan   \n",
       "2  SOGTUKN12AB017F4F1                                  No One Could Ever   \n",
       "3  SOBNYVR12A8C13558C                                      Si Vos Querés   \n",
       "4  SOHSBXH12A8C13B0DF                                   Tangle Of Aspens   \n",
       "5  SOZVAPQ12A8C13B63C  Symphony No. 1 G minor \"Sinfonie Serieuse\"/All...   \n",
       "6  SOQVRHI12A6D4FB2D7                                   We Have Got Love   \n",
       "7  SOEYRFT12AB018936C                                  2 Da Beat Ch'yall   \n",
       "8  SOPMIYT12A6D4F851E                                            Goodbye   \n",
       "9  SOJCFMH12A8C13B0C2                         Mama_ mama can't you see ?   \n",
       "\n",
       "                                release  \\\n",
       "0                 Monster Ballads X-Mas   \n",
       "1                           Karkuteillä   \n",
       "2                                Butter   \n",
       "3                               De Culo   \n",
       "4  Rene Ablaze Presents Winter Sessions   \n",
       "5      Berwald: Symphonies Nos. 1/2/3/4   \n",
       "6             Strictly The Best Vol. 34   \n",
       "7                               Da Bomb   \n",
       "8                             Danny Boy   \n",
       "9  March to cadence with the US marines   \n",
       "\n",
       "                                      artist_name  year  \n",
       "0                                Faster Pussy cat  2003  \n",
       "1                                Karkkiautomaatti  1995  \n",
       "2                                  Hudson Mohawke  2006  \n",
       "3                                     Yerba Brava  2003  \n",
       "4                                      Der Mystic     0  \n",
       "5                                David Montgomery     0  \n",
       "6                              Sasha / Turbulence     0  \n",
       "7                                      Kris Kross  1993  \n",
       "8                                    Joseph Locke     0  \n",
       "9  The Sun Harbor's Chorus-Documentary Recordings     0  "
      ]
     },
     "execution_count": 26,
     "metadata": {},
     "output_type": "execute_result"
    }
   ],
   "source": [
    "# See top 10 records of song_df data\n",
    "sdf.head(10)"
   ]
  },
  {
   "cell_type": "markdown",
   "metadata": {
    "id": "bvKb5FHcXzcN"
   },
   "source": [
    "### **Let us check the data types and and missing values of each column**"
   ]
  },
  {
   "cell_type": "code",
   "execution_count": 27,
   "metadata": {
    "id": "yyoHc_cnX19J"
   },
   "outputs": [
    {
     "name": "stdout",
     "output_type": "stream",
     "text": [
      "<class 'pandas.core.frame.DataFrame'>\n",
      "RangeIndex: 2000000 entries, 0 to 1999999\n",
      "Data columns (total 3 columns):\n",
      " #   Column      Dtype \n",
      "---  ------      ----- \n",
      " 0   user_id     object\n",
      " 1   song_id     object\n",
      " 2   play_count  int64 \n",
      "dtypes: int64(1), object(2)\n",
      "memory usage: 45.8+ MB\n"
     ]
    }
   ],
   "source": [
    "# See the info of the count_df data\n",
    "cdf.info()"
   ]
  },
  {
   "cell_type": "code",
   "execution_count": 28,
   "metadata": {
    "id": "rz3zDx_LX42y"
   },
   "outputs": [
    {
     "name": "stdout",
     "output_type": "stream",
     "text": [
      "<class 'pandas.core.frame.DataFrame'>\n",
      "RangeIndex: 1000000 entries, 0 to 999999\n",
      "Data columns (total 5 columns):\n",
      " #   Column       Non-Null Count    Dtype \n",
      "---  ------       --------------    ----- \n",
      " 0   song_id      1000000 non-null  object\n",
      " 1   title        999985 non-null   object\n",
      " 2   release      999995 non-null   object\n",
      " 3   artist_name  1000000 non-null  object\n",
      " 4   year         1000000 non-null  int64 \n",
      "dtypes: int64(1), object(4)\n",
      "memory usage: 38.1+ MB\n"
     ]
    }
   ],
   "source": [
    "# See the info of the song_df data\n",
    "sdf.info()"
   ]
  },
  {
   "cell_type": "markdown",
   "metadata": {
    "id": "Ze2TlWxpYadn"
   },
   "source": [
    "#### **Observations and Insights:**\n",
    "- The Count dataset has 3 columns (user_id, song_id, and play_count)\n",
    "- The Count dataset has 2,000,000 observations\n",
    "- The Songs dataset has 5 columns (song_id,title,release,artist_name,year)\n",
    "- The Songs dataset has 1,000,000 observations\n",
    "- There are some missing titles and releases\n",
    "- The primary/foreign key to merge these two datasets is song_id"
   ]
  },
  {
   "cell_type": "code",
   "execution_count": 205,
   "metadata": {
    "id": "oTeurvID2T9U"
   },
   "outputs": [],
   "source": [
    "# Left merge the count_df and song_df data on \"song_id\". Drop duplicates from song_df data simultaneously \n",
    "cdf_full = pd.merge(cdf, sdf, on = 'song_id', how = 'left')\n",
    "# Drop uneeded columns\n",
    "cdf_full = cdf_full[['user_id','song_id','title','release','artist_name','year','play_count']]"
   ]
  },
  {
   "cell_type": "markdown",
   "metadata": {
    "id": "yWeY9ZT43XFX"
   },
   "source": [
    "#### **Observations and Insights:**\n",
    "- The user_id and song_id are encrypted and can be encoded. However, this could cause problems if we were working on a real life data science business problem where user_id and song_id might need to be retained, or if later on in this analysis we wanted to encorporate other features from the 1 million songs data set online. Therefore, I will not encode these. \n",
    "- As the data also contains users who have listened to very few songs and vice versa, filtering these records out of the data could 'get two birds with one stone' by decreasing the **cold start** problem, and decreasing the **computational resources** needed to analyze this large dataset."
   ]
  },
  {
   "cell_type": "markdown",
   "metadata": {
    "id": "gcY5LKAQvk9J"
   },
   "source": [
    "==> NOTE <== <br>\n",
    "A dataset of size 2000000 rows x 7 columns can be quite large and may require a lot of computing resources to process. This can lead to long processing times and can make it difficult to train and evaluate your model efficiently.\n",
    "In order to address this issue, here we filter the dataset.\n",
    "To do this, we will set a threshold and filter out all users who have listened to less than 90 songs,\n",
    "and any songs that have been listen to less than 120 times"
   ]
  },
  {
   "cell_type": "markdown",
   "metadata": {},
   "source": [
    "Now we will filter the dataset to decrease its size and reduce the class imbalance."
   ]
  },
  {
   "cell_type": "markdown",
   "metadata": {},
   "source": [
    "### Scaling play_count Method 1:\n",
    "Because there are very few users who have listened to a song more than 5 times, we will set a threshold at 5 plays. We dont want to drop records with more than 5 plays because this is important information on users likes, but we can clip anything > 5 to 5."
   ]
  },
  {
   "cell_type": "code",
   "execution_count": 191,
   "metadata": {},
   "outputs": [],
   "source": [
    "# first, we make a copy of the data frame\n",
    "cdf_filtered = cdf_full.copy()"
   ]
  },
  {
   "cell_type": "code",
   "execution_count": 227,
   "metadata": {},
   "outputs": [
    {
     "data": {
      "image/png": "[encoded data removed]",
      "text/plain": [
       "<Figure size 600x600 with 1 Axes>"
      ]
     },
     "metadata": {},
     "output_type": "display_data"
    }
   ],
   "source": [
    "x = np.linspace(0, 2*np.pi, 100)\n",
    "y = np.sin(x)\n",
    "\n",
    "plt.figure(figsize = (6,6))\n",
    "ax = plt.subplot(111)\n",
    "plt.hist(cdf['play_count'], bins=50)\n",
    "plt.ylabel('count')\n",
    "plt.xlabel('play_count')\n",
    "ax.plot(x, y)\n",
    "\n",
    "# Hide the right and top spines\n",
    "ax.spines[['right', 'top']].set_visible(False)\n",
    "\n",
    "plt.show()"
   ]
  },
  {
   "cell_type": "code",
   "execution_count": 192,
   "metadata": {},
   "outputs": [
    {
     "data": {
      "text/plain": [
       "<seaborn.axisgrid.FacetGrid at 0x176ede110>"
      ]
     },
     "execution_count": 192,
     "metadata": {},
     "output_type": "execute_result"
    },
    {
     "data": {
      "image/png": "[encoded data removed]",
      "text/plain": [
       "<Figure size 500x500 with 1 Axes>"
      ]
     },
     "metadata": {},
     "output_type": "display_data"
    }
   ],
   "source": [
    "sns.displot(cdf_full.groupby('user_id')['play_count'].count())"
   ]
  },
  {
   "cell_type": "markdown",
   "metadata": {},
   "source": [
    "From this distribution plot, we can see that the number of songs played by each user (lets call it user interactions) is heavily right skewed. There are many (thousands) users who have only listened to a few songs, so any matrix we build from this data will be extremely sparse. We will attempt to reduce this by filtering out users who have less than a minimum number of total plays (therefore we have very little user preference data for them)."
   ]
  },
  {
   "cell_type": "code",
   "execution_count": 195,
   "metadata": {},
   "outputs": [],
   "source": [
    "# filtering out users with less than 90 total plays, this gives us a data set of more active users\n",
    "user_counts = cdf_filtered.groupby('user_id')['play_count'].sum()\n",
    "user_counts = user_counts[user_counts >= 90]\n",
    "# now apply mask filter\n",
    "cdf_filtered = cdf_filtered[cdf_filtered.user_id.isin(user_counts.index)]\n",
    "cdf_filtered.reset_index(drop=True, inplace=True)"
   ]
  },
  {
   "cell_type": "code",
   "execution_count": 196,
   "metadata": {},
   "outputs": [
    {
     "data": {
      "text/plain": [
       "<seaborn.axisgrid.FacetGrid at 0x1dd2270a0>"
      ]
     },
     "execution_count": 196,
     "metadata": {},
     "output_type": "execute_result"
    },
    {
     "data": {
      "image/png": "[encoded data removed]",
      "text/plain": [
       "<Figure size 500x500 with 1 Axes>"
      ]
     },
     "metadata": {},
     "output_type": "display_data"
    }
   ],
   "source": [
    "sns.displot(cdf_filtered.groupby('user_id')['play_count'].count())"
   ]
  },
  {
   "cell_type": "code",
   "execution_count": 197,
   "metadata": {},
   "outputs": [
    {
     "name": "stdout",
     "output_type": "stream",
     "text": [
      "<class 'pandas.core.frame.DataFrame'>\n",
      "RangeIndex: 1224498 entries, 0 to 1224497\n",
      "Data columns (total 7 columns):\n",
      " #   Column       Non-Null Count    Dtype \n",
      "---  ------       --------------    ----- \n",
      " 0   user_id      1224498 non-null  object\n",
      " 1   song_id      1224498 non-null  object\n",
      " 2   title        1224498 non-null  object\n",
      " 3   release      1224498 non-null  object\n",
      " 4   artist_name  1224498 non-null  object\n",
      " 5   year         1224498 non-null  int64 \n",
      " 6   play_count   1224498 non-null  int64 \n",
      "dtypes: int64(2), object(5)\n",
      "memory usage: 65.4+ MB\n"
     ]
    }
   ],
   "source": [
    "cdf_filtered.info()"
   ]
  },
  {
   "cell_type": "markdown",
   "metadata": {},
   "source": [
    "Filtering out less active users has decreased the imbalance somewhat. We still have a heavily right skewed distribution plot, but the class imbalance has been reduced by a factor of 5 (y limit is 1200 instead of 7000). This has also decreased the size of the dataset to 1.2 million records down from 2 million. <br><br>\n",
    "Now lets continue to decrease the sparcity and imbalance of the data by filtering out any user/song records that have a play count less than 6. There are many more songs that users have only listened to 1 or a few times. We are trying to recommend highly rated songs, so we will get rid of these songs with low interactions and assume they are uninteracted with 'not-liked'."
   ]
  },
  {
   "cell_type": "code",
   "execution_count": 198,
   "metadata": {},
   "outputs": [],
   "source": [
    "# filtering out songs with less than 6 plays for a user\n",
    "play_counts = cdf_filtered[['user_id','play_count']]\n",
    "play_counts = play_counts.loc[play_counts['play_count'] > 5,]\n",
    "# now apply mask filter\n",
    "cdf_filtered = cdf_filtered[cdf_filtered.index.isin(play_counts.index)]\n",
    "cdf_filtered.reset_index(drop=True, inplace=True)"
   ]
  },
  {
   "cell_type": "code",
   "execution_count": 199,
   "metadata": {},
   "outputs": [
    {
     "data": {
      "text/plain": [
       "<seaborn.axisgrid.FacetGrid at 0x1dd80b970>"
      ]
     },
     "execution_count": 199,
     "metadata": {},
     "output_type": "execute_result"
    },
    {
     "data": {
      "image/png": "[encoded data removed]",
      "text/plain": [
       "<Figure size 500x500 with 1 Axes>"
      ]
     },
     "metadata": {},
     "output_type": "display_data"
    }
   ],
   "source": [
    "sns.displot(cdf_filtered.groupby('song_id')['play_count'].count())"
   ]
  },
  {
   "cell_type": "code",
   "execution_count": 200,
   "metadata": {},
   "outputs": [
    {
     "name": "stdout",
     "output_type": "stream",
     "text": [
      "<class 'pandas.core.frame.DataFrame'>\n",
      "RangeIndex: 185694 entries, 0 to 185693\n",
      "Data columns (total 7 columns):\n",
      " #   Column       Non-Null Count   Dtype \n",
      "---  ------       --------------   ----- \n",
      " 0   user_id      185694 non-null  object\n",
      " 1   song_id      185694 non-null  object\n",
      " 2   title        185694 non-null  object\n",
      " 3   release      185694 non-null  object\n",
      " 4   artist_name  185694 non-null  object\n",
      " 5   year         185694 non-null  int64 \n",
      " 6   play_count   185694 non-null  int64 \n",
      "dtypes: int64(2), object(5)\n",
      "memory usage: 9.9+ MB\n"
     ]
    }
   ],
   "source": [
    "cdf_filtered.info()"
   ]
  },
  {
   "cell_type": "markdown",
   "metadata": {},
   "source": [
    "We were able to dramatically reduce the size of the dataset with the previous step by 85%, this will speed up processing times for our models and also make the predictions more accurate by reducing the class imbalance. We can see in the above plot however, that there are still many songs that have only been played for a few users. This means that the matrix resulting from this data will still have a lot of sparcity. \n",
    "<br><br>Lets filter out all songs that have less than 20 user interactions:"
   ]
  },
  {
   "cell_type": "code",
   "execution_count": 201,
   "metadata": {},
   "outputs": [],
   "source": [
    "# filtering out songs with less than 200 interactions\n",
    "song_counts = cdf_filtered.groupby('song_id')['play_count'].count().sort_values(ascending=False)\n",
    "song_counts = song_counts[song_counts >= 20]\n",
    "# now apply mask filter\n",
    "cdf_filtered = cdf_filtered[cdf_filtered.song_id.isin(song_counts.index)]\n",
    "cdf_filtered.reset_index(drop=True, inplace=True)"
   ]
  },
  {
   "cell_type": "code",
   "execution_count": 202,
   "metadata": {},
   "outputs": [
    {
     "data": {
      "text/plain": [
       "<seaborn.axisgrid.FacetGrid at 0x176f6bc70>"
      ]
     },
     "execution_count": 202,
     "metadata": {},
     "output_type": "execute_result"
    },
    {
     "data": {
      "image/png": "[encoded data removed]",
      "text/plain": [
       "<Figure size 500x500 with 1 Axes>"
      ]
     },
     "metadata": {},
     "output_type": "display_data"
    }
   ],
   "source": [
    "sns.displot(cdf_filtered.groupby('song_id')['play_count'].count())"
   ]
  },
  {
   "cell_type": "code",
   "execution_count": 41,
   "metadata": {},
   "outputs": [
    {
     "data": {
      "text/plain": [
       "<AxesSubplot: >"
      ]
     },
     "execution_count": 41,
     "metadata": {},
     "output_type": "execute_result"
    },
    {
     "data": {
      "image/png": "[encoded data removed]",
      "text/plain": [
       "<Figure size 640x480 with 1 Axes>"
      ]
     },
     "metadata": {},
     "output_type": "display_data"
    }
   ],
   "source": [
    "#still a lot of 1's\n",
    "sns.boxplot(cdf_filtered['play_count'])"
   ]
  },
  {
   "cell_type": "code",
   "execution_count": 42,
   "metadata": {},
   "outputs": [
    {
     "name": "stdout",
     "output_type": "stream",
     "text": [
      "<class 'pandas.core.frame.DataFrame'>\n",
      "RangeIndex: 124147 entries, 0 to 124146\n",
      "Data columns (total 7 columns):\n",
      " #   Column       Non-Null Count   Dtype \n",
      "---  ------       --------------   ----- \n",
      " 0   user_id      124147 non-null  object\n",
      " 1   song_id      124147 non-null  object\n",
      " 2   title        124147 non-null  object\n",
      " 3   release      124147 non-null  object\n",
      " 4   artist_name  124147 non-null  object\n",
      " 5   year         124147 non-null  int64 \n",
      " 6   play_count   124147 non-null  int64 \n",
      "dtypes: int64(2), object(5)\n",
      "memory usage: 6.6+ MB\n"
     ]
    }
   ],
   "source": [
    "cdf_filtered.info()"
   ]
  },
  {
   "cell_type": "markdown",
   "metadata": {},
   "source": [
    "With these filtering steps, we have reduced the class imbalance, decreased the size of the dataset to make models and gridsearch more tracteable, and we have decreased the extreme sparcity of our resulting recommendations matrices. Now we apply a threshhold limit to further reduce class imblance and the play_count range, and then apply a min max scalar to standardize the play_counts as a proxy for a 1-10 rating."
   ]
  },
  {
   "cell_type": "markdown",
   "metadata": {},
   "source": [
    "### Clipping and Scaling play_count:\n",
    "Because there are very few users who have listened to a song more than 25 times, we will set a threshold at 25 plays. We dont want to drop records with more than 5 plays because this is important information on users likes, but we can clip anything > 25 to 25. Then we will apply a MinMaxScalar function from the sklearn package to scale the playcounts from 1-10."
   ]
  },
  {
   "cell_type": "code",
   "execution_count": 43,
   "metadata": {},
   "outputs": [],
   "source": [
    "# First make a copy of the dataframe\n",
    "cdf_filtered = cdf_filtered.copy()\n",
    "# Clip records with play_count more than(>) 5\n",
    "cdf_filtered['play_count_scaled'] = cdf_filtered['play_count'].clip(upper=25).astype(int)\n",
    "trans = preprocessing.MinMaxScaler(feature_range=(1,10))\n",
    "cdf_filtered['play_count_scaled'] = trans.fit_transform(cdf_filtered['play_count_scaled'].array.reshape(-1, 1))"
   ]
  },
  {
   "cell_type": "code",
   "execution_count": 44,
   "metadata": {},
   "outputs": [],
   "source": [
    "cdf_filtered.drop_duplicates(inplace=True)\n",
    "cdf_filtered.reset_index(drop=True, inplace=True)"
   ]
  },
  {
   "cell_type": "code",
   "execution_count": 194,
   "metadata": {},
   "outputs": [
    {
     "data": {
      "text/plain": [
       "<seaborn.axisgrid.FacetGrid at 0x191a1b3a0>"
      ]
     },
     "execution_count": 194,
     "metadata": {},
     "output_type": "execute_result"
    },
    {
     "data": {
      "image/png": "[encoded data removed]",
      "text/plain": [
       "<Figure size 500x500 with 1 Axes>"
      ]
     },
     "metadata": {},
     "output_type": "display_data"
    }
   ],
   "source": [
    "sns.displot(cdf_filtered.groupby('user_id')['play_count'].count())"
   ]
  },
  {
   "cell_type": "code",
   "execution_count": 45,
   "metadata": {},
   "outputs": [
    {
     "data": {
      "text/plain": [
       "<seaborn.axisgrid.FacetGrid at 0x186305d20>"
      ]
     },
     "execution_count": 45,
     "metadata": {},
     "output_type": "execute_result"
    },
    {
     "data": {
      "image/png": "[encoded data removed]",
      "text/plain": [
       "<Figure size 500x500 with 1 Axes>"
      ]
     },
     "metadata": {},
     "output_type": "display_data"
    }
   ],
   "source": [
    "# plot distribution of scaled play_counts\n",
    "sns.displot(cdf_filtered,x=cdf_filtered['play_count_scaled'])"
   ]
  },
  {
   "cell_type": "markdown",
   "metadata": {},
   "source": [
    "Our final play_counts, filtered, clipped and scaled look pretty good. The class imbalance between the left side of the X axis and the higher play_counts has been reduced, The play_counts are scaled from 1-10, and we have kept the records containing the highest ratings as 10's."
   ]
  },
  {
   "cell_type": "code",
   "execution_count": 46,
   "metadata": {},
   "outputs": [
    {
     "data": {
      "text/plain": [
       "(121900, 8)"
      ]
     },
     "execution_count": 46,
     "metadata": {},
     "output_type": "execute_result"
    }
   ],
   "source": [
    "# Check the shape of the data\n",
    "cdf_filtered.shape"
   ]
  },
  {
   "cell_type": "markdown",
   "metadata": {},
   "source": [
    "The final dataset has 121,900 records. This is a much more maneagable number of records for training and testing models. We want to check tht we did not drop too many users or songs. After previous iterations testing the filtering, I had dropped over 90% of the songs so the final recommendations that were being made were not diverse and nearly the same for every user. Lets take a look at this and some other parts of the dataset in Exploratory Data Analysis..."
   ]
  },
  {
   "cell_type": "markdown",
   "metadata": {
    "id": "uZcr1Eke2T9W"
   },
   "source": [
    "## **Exploratory Data Analysis**"
   ]
  },
  {
   "cell_type": "markdown",
   "metadata": {
    "id": "ByuHmvWDeBJI"
   },
   "source": [
    "### **Let's check the total number of unique users, songs, artists in the data**"
   ]
  },
  {
   "cell_type": "markdown",
   "metadata": {
    "id": "DE_gukSJ2T9W"
   },
   "source": [
    "Total number of unique user id"
   ]
  },
  {
   "cell_type": "code",
   "execution_count": 47,
   "metadata": {
    "id": "n5E24_Ec2T9W"
   },
   "outputs": [
    {
     "name": "stdout",
     "output_type": "stream",
     "text": [
      "Number of unique USERS =  19212\n"
     ]
    }
   ],
   "source": [
    "# Display total number of unique user_id\n",
    "print('Number of unique USERS = ',cdf_filtered['user_id'].nunique())"
   ]
  },
  {
   "cell_type": "markdown",
   "metadata": {
    "id": "wV3BOTdJII-t"
   },
   "source": [
    "Total number of unique song id"
   ]
  },
  {
   "cell_type": "code",
   "execution_count": 48,
   "metadata": {
    "id": "5SlpPkIE2T9W"
   },
   "outputs": [
    {
     "name": "stdout",
     "output_type": "stream",
     "text": [
      "Number of unique SONGS =  2210\n"
     ]
    }
   ],
   "source": [
    "# Display total number of unique song_id\n",
    "print('Number of unique SONGS = ',cdf_filtered['song_id'].nunique())"
   ]
  },
  {
   "cell_type": "markdown",
   "metadata": {
    "id": "eGXPsCjXVpUW"
   },
   "source": [
    "Total number of unique artists"
   ]
  },
  {
   "cell_type": "code",
   "execution_count": 49,
   "metadata": {
    "id": "qSVUwb8h2T9X"
   },
   "outputs": [
    {
     "name": "stdout",
     "output_type": "stream",
     "text": [
      "Number of unique artists =  1194\n"
     ]
    }
   ],
   "source": [
    "# Display total number of unique artists\n",
    "print('Number of unique artists = ',cdf_filtered['artist_name'].nunique())"
   ]
  },
  {
   "cell_type": "markdown",
   "metadata": {
    "id": "bvk-YAo-eGGW"
   },
   "source": [
    "#### **Observations and Insights:**\n",
    "- There are 19212 unique users remaining in the dataset after filtering\n",
    "- There are 2210 unique songs remaining in the dataset after filtering \n",
    "- There are 1194 Unique artists remaining in the dataset after filtering\n",
    "- This looks like a great balance, we have filtered out rare users and songs but retained many different users and we have a diversity of songs and artists."
   ]
  },
  {
   "cell_type": "markdown",
   "metadata": {
    "id": "rLdIfv22ISBK"
   },
   "source": [
    "### **Let's find out about the most interacted songs and interacted users**"
   ]
  },
  {
   "cell_type": "markdown",
   "metadata": {
    "id": "W3DyN_8atsCx"
   },
   "source": [
    "Most interacted songs"
   ]
  },
  {
   "cell_type": "code",
   "execution_count": 50,
   "metadata": {
    "id": "qWDrvIFF2T9X"
   },
   "outputs": [
    {
     "data": {
      "text/html": [
       "<div>\n",
       "<style scoped>\n",
       "    .dataframe tbody tr th:only-of-type {\n",
       "        vertical-align: middle;\n",
       "    }\n",
       "\n",
       "    .dataframe tbody tr th {\n",
       "        vertical-align: top;\n",
       "    }\n",
       "\n",
       "    .dataframe thead th {\n",
       "        text-align: right;\n",
       "    }\n",
       "</style>\n",
       "<table border=\"1\" class=\"dataframe\">\n",
       "  <thead>\n",
       "    <tr style=\"text-align: right;\">\n",
       "      <th></th>\n",
       "      <th>song_id</th>\n",
       "      <th>play_count</th>\n",
       "    </tr>\n",
       "  </thead>\n",
       "  <tbody>\n",
       "    <tr>\n",
       "      <th>138</th>\n",
       "      <td>SOBONKR12A58A7A7E0</td>\n",
       "      <td>1466</td>\n",
       "    </tr>\n",
       "    <tr>\n",
       "      <th>80</th>\n",
       "      <td>SOAUWYT12A81C206F1</td>\n",
       "      <td>1445</td>\n",
       "    </tr>\n",
       "    <tr>\n",
       "      <th>1624</th>\n",
       "      <td>SOSXLTC12AF72A7F54</td>\n",
       "      <td>1186</td>\n",
       "    </tr>\n",
       "    <tr>\n",
       "      <th>478</th>\n",
       "      <td>SOFRQTD12A81C233C0</td>\n",
       "      <td>1133</td>\n",
       "    </tr>\n",
       "    <tr>\n",
       "      <th>88</th>\n",
       "      <td>SOAXGDH12A8C13F8A1</td>\n",
       "      <td>1024</td>\n",
       "    </tr>\n",
       "    <tr>\n",
       "      <th>357</th>\n",
       "      <td>SOEGIYH12A6D4FC0E3</td>\n",
       "      <td>993</td>\n",
       "    </tr>\n",
       "    <tr>\n",
       "      <th>1188</th>\n",
       "      <td>SONYKOW12AB01849C9</td>\n",
       "      <td>831</td>\n",
       "    </tr>\n",
       "    <tr>\n",
       "      <th>1901</th>\n",
       "      <td>SOWCKVR12A8C142411</td>\n",
       "      <td>748</td>\n",
       "    </tr>\n",
       "    <tr>\n",
       "      <th>1343</th>\n",
       "      <td>SOPUCYA12A8C13A694</td>\n",
       "      <td>744</td>\n",
       "    </tr>\n",
       "    <tr>\n",
       "      <th>647</th>\n",
       "      <td>SOHTKMO12AB01843B0</td>\n",
       "      <td>616</td>\n",
       "    </tr>\n",
       "  </tbody>\n",
       "</table>\n",
       "</div>"
      ],
      "text/plain": [
       "                 song_id  play_count\n",
       "138   SOBONKR12A58A7A7E0        1466\n",
       "80    SOAUWYT12A81C206F1        1445\n",
       "1624  SOSXLTC12AF72A7F54        1186\n",
       "478   SOFRQTD12A81C233C0        1133\n",
       "88    SOAXGDH12A8C13F8A1        1024\n",
       "357   SOEGIYH12A6D4FC0E3         993\n",
       "1188  SONYKOW12AB01849C9         831\n",
       "1901  SOWCKVR12A8C142411         748\n",
       "1343  SOPUCYA12A8C13A694         744\n",
       "647   SOHTKMO12AB01843B0         616"
      ]
     },
     "execution_count": 50,
     "metadata": {},
     "output_type": "execute_result"
    }
   ],
   "source": [
    "# The top 10 most interacted songs:\n",
    "cdf_filtered.groupby('song_id')['play_count'].count().reset_index().sort_values('play_count', ascending=False)[:10]"
   ]
  },
  {
   "cell_type": "markdown",
   "metadata": {
    "id": "nnoXCc9zIV45"
   },
   "source": [
    "Most interacted users"
   ]
  },
  {
   "cell_type": "code",
   "execution_count": 51,
   "metadata": {
    "id": "971EiBdf2T9X"
   },
   "outputs": [
    {
     "data": {
      "text/html": [
       "<div>\n",
       "<style scoped>\n",
       "    .dataframe tbody tr th:only-of-type {\n",
       "        vertical-align: middle;\n",
       "    }\n",
       "\n",
       "    .dataframe tbody tr th {\n",
       "        vertical-align: top;\n",
       "    }\n",
       "\n",
       "    .dataframe thead th {\n",
       "        text-align: right;\n",
       "    }\n",
       "</style>\n",
       "<table border=\"1\" class=\"dataframe\">\n",
       "  <thead>\n",
       "    <tr style=\"text-align: right;\">\n",
       "      <th></th>\n",
       "      <th>user_id</th>\n",
       "      <th>play_count</th>\n",
       "    </tr>\n",
       "  </thead>\n",
       "  <tbody>\n",
       "    <tr>\n",
       "      <th>5683</th>\n",
       "      <td>4be305e02f4e72dad1b8ac78e630403543bab994</td>\n",
       "      <td>106</td>\n",
       "    </tr>\n",
       "    <tr>\n",
       "      <th>766</th>\n",
       "      <td>0a4c3c6999c74af7d8a44e96b44bf64e513c0f8b</td>\n",
       "      <td>82</td>\n",
       "    </tr>\n",
       "    <tr>\n",
       "      <th>827</th>\n",
       "      <td>0b19fe0fad7ca85693846f7dad047c449784647e</td>\n",
       "      <td>81</td>\n",
       "    </tr>\n",
       "    <tr>\n",
       "      <th>8262</th>\n",
       "      <td>6d625c6557df84b60d90426c0116138b617b9449</td>\n",
       "      <td>74</td>\n",
       "    </tr>\n",
       "    <tr>\n",
       "      <th>16334</th>\n",
       "      <td>da3890400751de76f0f05ef0e93aa1cd898e7dbc</td>\n",
       "      <td>69</td>\n",
       "    </tr>\n",
       "    <tr>\n",
       "      <th>7930</th>\n",
       "      <td>695179610d0b1fbb9d66267a3bd24946617af7fb</td>\n",
       "      <td>67</td>\n",
       "    </tr>\n",
       "    <tr>\n",
       "      <th>17477</th>\n",
       "      <td>e9a7dba8248ced646ea192016660e3c9056c0d03</td>\n",
       "      <td>66</td>\n",
       "    </tr>\n",
       "    <tr>\n",
       "      <th>2996</th>\n",
       "      <td>283882c3d18ff2ad0e17124002ec02b847d06e9a</td>\n",
       "      <td>65</td>\n",
       "    </tr>\n",
       "    <tr>\n",
       "      <th>5405</th>\n",
       "      <td>48567d388c6a7dda0e9d0a7b6648bdb42440475c</td>\n",
       "      <td>65</td>\n",
       "    </tr>\n",
       "    <tr>\n",
       "      <th>10463</th>\n",
       "      <td>8c78c69701072e204f4340ca4d6ee44fe39e40cc</td>\n",
       "      <td>64</td>\n",
       "    </tr>\n",
       "  </tbody>\n",
       "</table>\n",
       "</div>"
      ],
      "text/plain": [
       "                                        user_id  play_count\n",
       "5683   4be305e02f4e72dad1b8ac78e630403543bab994         106\n",
       "766    0a4c3c6999c74af7d8a44e96b44bf64e513c0f8b          82\n",
       "827    0b19fe0fad7ca85693846f7dad047c449784647e          81\n",
       "8262   6d625c6557df84b60d90426c0116138b617b9449          74\n",
       "16334  da3890400751de76f0f05ef0e93aa1cd898e7dbc          69\n",
       "7930   695179610d0b1fbb9d66267a3bd24946617af7fb          67\n",
       "17477  e9a7dba8248ced646ea192016660e3c9056c0d03          66\n",
       "2996   283882c3d18ff2ad0e17124002ec02b847d06e9a          65\n",
       "5405   48567d388c6a7dda0e9d0a7b6648bdb42440475c          65\n",
       "10463  8c78c69701072e204f4340ca4d6ee44fe39e40cc          64"
      ]
     },
     "execution_count": 51,
     "metadata": {},
     "output_type": "execute_result"
    }
   ],
   "source": [
    "# The top 10 most active users:\n",
    "cdf_filtered.groupby('user_id')['play_count'].count().reset_index().sort_values('play_count', ascending=False)[:10]"
   ]
  },
  {
   "cell_type": "markdown",
   "metadata": {
    "id": "tPZRc1e-eyyO"
   },
   "source": [
    "#### **Observations and Insights:**\n",
    "- The most interacted song is 'SOBONKR12A58A7A7E0' which has been interacted with by 1466 different users\n",
    "- The most active user is '4be305e02f4e72dad1b8ac78e630403543bab994', they have listened to 106 different songs"
   ]
  },
  {
   "cell_type": "markdown",
   "metadata": {
    "id": "joFF5zndX1Dk"
   },
   "source": [
    "Songs played in a year"
   ]
  },
  {
   "cell_type": "code",
   "execution_count": 52,
   "metadata": {
    "id": "bQp2iVMC2T9Y"
   },
   "outputs": [
    {
     "data": {
      "text/html": [
       "<div>\n",
       "<style scoped>\n",
       "    .dataframe tbody tr th:only-of-type {\n",
       "        vertical-align: middle;\n",
       "    }\n",
       "\n",
       "    .dataframe tbody tr th {\n",
       "        vertical-align: top;\n",
       "    }\n",
       "\n",
       "    .dataframe thead th {\n",
       "        text-align: right;\n",
       "    }\n",
       "</style>\n",
       "<table border=\"1\" class=\"dataframe\">\n",
       "  <thead>\n",
       "    <tr style=\"text-align: right;\">\n",
       "      <th></th>\n",
       "      <th>0</th>\n",
       "      <th>49</th>\n",
       "      <th>48</th>\n",
       "      <th>47</th>\n",
       "      <th>46</th>\n",
       "      <th>43</th>\n",
       "      <th>45</th>\n",
       "      <th>50</th>\n",
       "      <th>41</th>\n",
       "      <th>42</th>\n",
       "      <th>...</th>\n",
       "      <th>17</th>\n",
       "      <th>21</th>\n",
       "      <th>7</th>\n",
       "      <th>6</th>\n",
       "      <th>3</th>\n",
       "      <th>5</th>\n",
       "      <th>12</th>\n",
       "      <th>1</th>\n",
       "      <th>2</th>\n",
       "      <th>4</th>\n",
       "    </tr>\n",
       "  </thead>\n",
       "  <tbody>\n",
       "    <tr>\n",
       "      <th>year</th>\n",
       "      <td>0</td>\n",
       "      <td>2009</td>\n",
       "      <td>2008</td>\n",
       "      <td>2007</td>\n",
       "      <td>2006</td>\n",
       "      <td>2003</td>\n",
       "      <td>2005</td>\n",
       "      <td>2010</td>\n",
       "      <td>2001</td>\n",
       "      <td>2002</td>\n",
       "      <td>...</td>\n",
       "      <td>1977</td>\n",
       "      <td>1981</td>\n",
       "      <td>1967</td>\n",
       "      <td>1966</td>\n",
       "      <td>1962</td>\n",
       "      <td>1965</td>\n",
       "      <td>1972</td>\n",
       "      <td>1958</td>\n",
       "      <td>1960</td>\n",
       "      <td>1963</td>\n",
       "    </tr>\n",
       "    <tr>\n",
       "      <th>play_count</th>\n",
       "      <td>26580</td>\n",
       "      <td>12782</td>\n",
       "      <td>10616</td>\n",
       "      <td>7499</td>\n",
       "      <td>6693</td>\n",
       "      <td>5718</td>\n",
       "      <td>4861</td>\n",
       "      <td>4617</td>\n",
       "      <td>4316</td>\n",
       "      <td>4147</td>\n",
       "      <td>...</td>\n",
       "      <td>151</td>\n",
       "      <td>145</td>\n",
       "      <td>137</td>\n",
       "      <td>134</td>\n",
       "      <td>113</td>\n",
       "      <td>110</td>\n",
       "      <td>77</td>\n",
       "      <td>66</td>\n",
       "      <td>62</td>\n",
       "      <td>61</td>\n",
       "    </tr>\n",
       "  </tbody>\n",
       "</table>\n",
       "<p>2 rows × 51 columns</p>\n",
       "</div>"
      ],
      "text/plain": [
       "               0      49     48    47    46    43    45    50    41    42  \\\n",
       "year            0   2009   2008  2007  2006  2003  2005  2010  2001  2002   \n",
       "play_count  26580  12782  10616  7499  6693  5718  4861  4617  4316  4147   \n",
       "\n",
       "            ...    17    21    7     6     3     5     12    1     2     4   \n",
       "year        ...  1977  1981  1967  1966  1962  1965  1972  1958  1960  1963  \n",
       "play_count  ...   151   145   137   134   113   110    77    66    62    61  \n",
       "\n",
       "[2 rows x 51 columns]"
      ]
     },
     "execution_count": 52,
     "metadata": {},
     "output_type": "execute_result"
    }
   ],
   "source": [
    "# Find out the number of songs released in a year\n",
    "cdf_filtered.groupby('year')['play_count'].count().reset_index().sort_values('play_count', ascending=False).T"
   ]
  },
  {
   "cell_type": "code",
   "execution_count": 53,
   "metadata": {
    "id": "bZCkOiAB2T9Y"
   },
   "outputs": [
    {
     "data": {
      "text/plain": [
       "Text(0, 0.5, 'number of releases')"
      ]
     },
     "execution_count": 53,
     "metadata": {},
     "output_type": "execute_result"
    },
    {
     "data": {
      "image/png": "[encoded data removed]",
      "text/plain": [
       "<Figure size 640x480 with 1 Axes>"
      ]
     },
     "metadata": {},
     "output_type": "display_data"
    }
   ],
   "source": [
    "# Create a barplot plot with y label as \"number of titles released\" and x -axis year and remove '0' year\n",
    "sns.lineplot(cdf_filtered.loc[cdf_filtered['year']>0,['year','play_count']].groupby('year').count().reset_index(), x='year', y='play_count')\n",
    "# set x lims to years of data\n",
    "plt.xlim(1960,2008)\n",
    "# set plot axis labels\n",
    "plt.ylabel(\"number of releases\")"
   ]
  },
  {
   "cell_type": "markdown",
   "metadata": {
    "id": "VUcXc7ZYfaGl"
   },
   "source": [
    "#### **Observations and Insights:** \n",
    "- It is not clear whether the 'year' feature is, but it is most likely the year a song/album was released.\n",
    "- We can clearly see that there in an increasing trend from 1960-2008 in the number of songs released\n",
    "- This makes sense as there are more people, more artists, and musical equiptment, recording equiptment, and streaming platforms have made it easier to produce music"
   ]
  },
  {
   "cell_type": "markdown",
   "metadata": {
    "id": "OWO4C8KsK_5e"
   },
   "source": [
    "Now that we have explored the data, let's apply different algorithms to build recommendation systems."
   ]
  },
  {
   "cell_type": "markdown",
   "metadata": {
    "id": "9VThYg7voGIz"
   },
   "source": [
    "## Building a baseline popularity-based recommendation systems"
   ]
  },
  {
   "cell_type": "markdown",
   "metadata": {
    "id": "Ituk9wA4Idib"
   },
   "source": [
    "### **Popularity-Based Recommendation Systems**"
   ]
  },
  {
   "cell_type": "markdown",
   "metadata": {
    "id": "462hsbxaI1ED"
   },
   "source": [
    "Let's take the count and sum of play counts of the songs and build the popularity recommendation systems based on the sum of play counts."
   ]
  },
  {
   "cell_type": "markdown",
   "metadata": {},
   "source": [
    "#### Function for Rank Based Recommendation System"
   ]
  },
  {
   "cell_type": "markdown",
   "metadata": {
    "id": "WnCT-A7RK_5g"
   },
   "source": [
    "Let's create a function to find the top n songs for a recommendation based on the average play count of song. We will also add a threshold for a minimum number of playcounts for a song to be considered for recommendation."
   ]
  },
  {
   "cell_type": "code",
   "execution_count": 54,
   "metadata": {
    "id": "UXhBZlDE-jEu"
   },
   "outputs": [],
   "source": [
    "def rank_based_rs(n, min_interaction=1):\n",
    "    '''\n",
    "    popularity-based recommender function to find top n songs with minimum number of interactions\n",
    "    parameters:\n",
    "    n = top number of songs to recommend\n",
    "    min_interaction = minimum number of interactions a song needs to have to be conidered (optional, default =1)\n",
    "    '''\n",
    "    # Calculate the average play_count/user for each song \n",
    "    average_plays= cdf_filtered.groupby(['song_id']).mean()['play_count']\n",
    "\n",
    "    # Calculate the total number of interactions for each song\n",
    "    count_plays = cdf_filtered.groupby(['song_id']).count()['play_count']\n",
    "\n",
    "    # Calculate the total number of plays for each song\n",
    "    sum_plays = cdf_filtered.groupby(['song_id']).sum()['play_count']\n",
    "\n",
    "    # Create a dataframe with calculated average, interactions, and counts of plays\n",
    "    final_counts = pd.DataFrame({'avg_plays' : average_plays, 'count_plays' : count_plays, 'sum_plays' : sum_plays})\n",
    "\n",
    "    # Sort the dataframe by average of ratings in the descending order\n",
    "    final_counts = final_counts.sort_values('avg_plays',ascending=False)\n",
    "\n",
    "    # Finding products with minimum number of interactions\n",
    "    recommendations = final_counts[final_counts['count_plays'] > min_interaction]\n",
    "    \n",
    "    # Sorting values with respect to average rating \n",
    "    recommendations = recommendations.sort_values(by = 'avg_plays', ascending = False)\n",
    "    \n",
    "    recommendations = pd.DataFrame({'song_id':recommendations.index[:n]})\n",
    "\n",
    "    # df_rec = cdf_filtered.loc[cdf_filtered['song_id'].isin(recommendations),['song_id','title','artist_name','year']]\n",
    "    recommendations = pd.merge(recommendations,cdf_filtered, on ='song_id', how =\"left\")\n",
    "    recommendations = recommendations[['title','artist_name']].drop_duplicates().reset_index(drop=True)\n",
    "    return recommendations"
   ]
  },
  {
   "cell_type": "code",
   "execution_count": 55,
   "metadata": {
    "id": "GpZt_BeXgz4F"
   },
   "outputs": [
    {
     "data": {
      "text/html": [
       "<div>\n",
       "<style scoped>\n",
       "    .dataframe tbody tr th:only-of-type {\n",
       "        vertical-align: middle;\n",
       "    }\n",
       "\n",
       "    .dataframe tbody tr th {\n",
       "        vertical-align: top;\n",
       "    }\n",
       "\n",
       "    .dataframe thead th {\n",
       "        text-align: right;\n",
       "    }\n",
       "</style>\n",
       "<table border=\"1\" class=\"dataframe\">\n",
       "  <thead>\n",
       "    <tr style=\"text-align: right;\">\n",
       "      <th></th>\n",
       "      <th>title</th>\n",
       "      <th>artist_name</th>\n",
       "    </tr>\n",
       "  </thead>\n",
       "  <tbody>\n",
       "    <tr>\n",
       "      <th>0</th>\n",
       "      <td>221</td>\n",
       "      <td>keller williams</td>\n",
       "    </tr>\n",
       "    <tr>\n",
       "      <th>1</th>\n",
       "      <td>Call It Off (Album Version)</td>\n",
       "      <td>Tegan And Sara</td>\n",
       "    </tr>\n",
       "    <tr>\n",
       "      <th>2</th>\n",
       "      <td>Clara meets Slope - Hard To Say</td>\n",
       "      <td>Clara Hill</td>\n",
       "    </tr>\n",
       "    <tr>\n",
       "      <th>3</th>\n",
       "      <td>Kelma</td>\n",
       "      <td>Rachid Taha</td>\n",
       "    </tr>\n",
       "    <tr>\n",
       "      <th>4</th>\n",
       "      <td>Numb (Album Version)</td>\n",
       "      <td>Disturbed</td>\n",
       "    </tr>\n",
       "    <tr>\n",
       "      <th>5</th>\n",
       "      <td>Voices On A String (Album Version)</td>\n",
       "      <td>Thursday</td>\n",
       "    </tr>\n",
       "    <tr>\n",
       "      <th>6</th>\n",
       "      <td>What If I Do?</td>\n",
       "      <td>Foo Fighters</td>\n",
       "    </tr>\n",
       "    <tr>\n",
       "      <th>7</th>\n",
       "      <td>Encore Break</td>\n",
       "      <td>Pearl Jam</td>\n",
       "    </tr>\n",
       "    <tr>\n",
       "      <th>8</th>\n",
       "      <td>Reign Of The Tyrants</td>\n",
       "      <td>Jag Panzer</td>\n",
       "    </tr>\n",
       "    <tr>\n",
       "      <th>9</th>\n",
       "      <td>Dance_ Dance</td>\n",
       "      <td>Fall Out Boy</td>\n",
       "    </tr>\n",
       "  </tbody>\n",
       "</table>\n",
       "</div>"
      ],
      "text/plain": [
       "                                title      artist_name\n",
       "0                                 221  keller williams\n",
       "1         Call It Off (Album Version)   Tegan And Sara\n",
       "2     Clara meets Slope - Hard To Say       Clara Hill\n",
       "3                               Kelma      Rachid Taha\n",
       "4                Numb (Album Version)        Disturbed\n",
       "5  Voices On A String (Album Version)         Thursday\n",
       "6                       What If I Do?     Foo Fighters\n",
       "7                        Encore Break        Pearl Jam\n",
       "8                Reign Of The Tyrants       Jag Panzer\n",
       "9                        Dance_ Dance     Fall Out Boy"
      ]
     },
     "execution_count": 55,
     "metadata": {},
     "output_type": "execute_result"
    }
   ],
   "source": [
    "# Recommend top 10 songs using the function defined above, with minimum 50 interactions\n",
    "popularity_recommendations = rank_based_rs(10,50)\n",
    "popularity_recommendations"
   ]
  },
  {
   "cell_type": "markdown",
   "metadata": {},
   "source": [
    "# Part I: Collaborative Filtering, Matrix Factorization, and Clustering"
   ]
  },
  {
   "cell_type": "markdown",
   "metadata": {
    "id": "jBW4BUhWTsnm"
   },
   "source": [
    "### Some useful functions"
   ]
  },
  {
   "cell_type": "markdown",
   "metadata": {
    "id": "ZOvOgjGWrMVV"
   },
   "source": [
    "**Think About It:** Which metric should be used for this problem to compare different models?"
   ]
  },
  {
   "cell_type": "markdown",
   "metadata": {
    "id": "ZhFa_4aHHchr"
   },
   "source": [
    "Function to calculate precision@k and recall@k, RMSE, and F1_Score@k to evaluate the model performance:"
   ]
  },
  {
   "cell_type": "code",
   "execution_count": 57,
   "metadata": {},
   "outputs": [],
   "source": [
    "def precision_recall_at_k(model, k = 10, threshold = 1.5):\n",
    "    \"\"\"Return precision and recall at k metrics for each user\"\"\"\n",
    "\n",
    "    # First map the predictions to each user\n",
    "    user_est_true = defaultdict(list)\n",
    "    \n",
    "    # Making predictions on the test data\n",
    "    predictions = model.test(testset)\n",
    "    \n",
    "    for uid, _, true_r, est, _ in predictions:\n",
    "        user_est_true[uid].append((est, true_r))\n",
    "\n",
    "    precisions = dict()\n",
    "    recalls = dict()\n",
    "    for uid, user_ratings in user_est_true.items():\n",
    "\n",
    "        # Sort user ratings by estimated value\n",
    "        user_ratings.sort(key = lambda x: x[0], reverse = True)\n",
    "\n",
    "        # Number of relevant items\n",
    "        n_rel = sum((true_r >= threshold) for (_, true_r) in user_ratings)\n",
    "\n",
    "        # Number of recommended items in top k\n",
    "        n_rec_k = sum((est >= threshold) for (est, _) in user_ratings[:k])\n",
    "\n",
    "        # Number of relevant and recommended items in top k\n",
    "        n_rel_and_rec_k = sum(((true_r >= threshold) and (est >= threshold))\n",
    "                              for (est, true_r) in user_ratings[:k])\n",
    "\n",
    "        # Precision@K: Proportion of recommended items that are relevant\n",
    "        # When n_rec_k is 0, Precision is undefined. Therefore, we are setting Precision to 0 when n_rec_k is 0\n",
    "\n",
    "        precisions[uid] = n_rel_and_rec_k / n_rec_k if n_rec_k != 0 else 0\n",
    "\n",
    "        # Recall@K: Proportion of relevant items that are recommended\n",
    "        # When n_rel is 0, Recall is undefined. Therefore, we are setting Recall to 0 when n_rel is 0\n",
    "\n",
    "        recalls[uid] = n_rel_and_rec_k / n_rel if n_rel != 0 else 0\n",
    "\n",
    "    # Mean of all the predicted precisions are calculated.\n",
    "    precision = round((sum(prec for prec in precisions.values()) / len(precisions)), 3)\n",
    "    \n",
    "    # Mean of all the predicted recalls are calculated.\n",
    "    recall = round((sum(rec for rec in recalls.values()) / len(recalls)), 3)\n",
    "    \n",
    "    rmse = accuracy.rmse(predictions)\n",
    "    \n",
    "    mae = accuracy.mae(predictions)\n",
    "    \n",
    "    # print('Precision: ', precision) # Command to print the overall precision\n",
    "    \n",
    "    # print('Recall: ', recall) # Command to print the overall recall\n",
    "    try:\n",
    "        f1_score = round((2*precision*recall)/(precision+recall), 3)\n",
    "        # print('F_1 score: ', round((2*precision*recall)/(precision+recall), 3)) # Formula to compute the F-1 score\n",
    "    except: \n",
    "        f1_score = 'NaN'\n",
    "        \n",
    "    return rmse, mae, precision, recall, f1_score"
   ]
  },
  {
   "cell_type": "markdown",
   "metadata": {},
   "source": [
    "Function to get top n recommendations for a user based on model predictions:"
   ]
  },
  {
   "cell_type": "code",
   "execution_count": 58,
   "metadata": {},
   "outputs": [],
   "source": [
    "def get_recommendations(data, user_id, algo, top_n=10):\n",
    "    '''\n",
    "    Below we will be implementing a function where the input parameters are:\n",
    "\n",
    "    - data: A **rating** dataset\n",
    "    - user_id: A user id **against which we want the recommendations**\n",
    "    - top_n: The **number of movies we want to recommend**\n",
    "    - algo: The algorithm we want to use **for predicting the ratings**\n",
    "    - The output of the function is a **set of top_n items** recommended for the given user id based on the given algorithm\n",
    "    \n",
    "    '''\n",
    "    # Creating an empty list to store the recommended song IDs\n",
    "    recommendations = []\n",
    "    \n",
    "    # Creating an user-item interactions matrix \n",
    "    user_item_interactions_matrix = data.pivot_table(index = 'user_id', columns = 'song_id', values = 'play_count_scaled')\n",
    "    \n",
    "    # Extracting those movie IDs which the userId has not interacted yet\n",
    "    non_interacted_movies = user_item_interactions_matrix.loc[user_id][user_item_interactions_matrix.loc[user_id].isnull()].index.tolist()\n",
    "    \n",
    "    # Looping through each of the movie IDs which userId has not interacted yet\n",
    "    for item_id in non_interacted_movies:\n",
    "        \n",
    "        # Predicting the ratings for those non interacted movie IDs by this user\n",
    "        est = algo.predict(user_id, item_id).est\n",
    "        \n",
    "        # Appending the predicted ratings\n",
    "        recommendations.append((item_id, est))\n",
    "\n",
    "    # Sorting the predicted ratings in descending order\n",
    "    recommendations.sort(key = lambda x: x[1], reverse = True)\n",
    "    \n",
    "    # This is for making a rec list with actually song names instead of song id's:\n",
    "    df_recs = pd.DataFrame(recommendations[:top_n], columns = ['song_id','plays_count_scaled'])\n",
    "    df_recs = pd.merge(df_recs,cdf_filtered[['song_id','title','artist_name']], on ='song_id', how =\"left\")\n",
    "    df_recs = df_recs[['title','artist_name']].drop_duplicates().reset_index(drop=True)\n",
    "    # print(df_recs)\n",
    "    # Returing top n highest predicted rating movies for this user\n",
    "    return recommendations[:top_n]"
   ]
  },
  {
   "cell_type": "markdown",
   "metadata": {},
   "source": [
    "Function to **tune recommendations by song popularity** - corrects the predicted interaction with a song by applying a weight to increase the 'rating' of songs that are in general more popular among users:"
   ]
  },
  {
   "cell_type": "code",
   "execution_count": 59,
   "metadata": {},
   "outputs": [],
   "source": [
    "def ranking_songs(recommendations):\n",
    "    '''\n",
    "    While comparing the ratings of two products, it is not only the ratings that describe the likelihood of the user to that product. \n",
    "    Along with the rating, the number of users who have seen that product also becomes important to consider. \n",
    "    Due to this, we have calculated the \"corrected_ratings\" for each product. \n",
    "    Commonly higher the \"rating_count\" of a product more it is liked by users. To interpret the above concept, \n",
    "    a product rated 4 with rating_count 3 is less liked in comparison to a product rated 3 with a rating count of 50. \n",
    "    It has been empirically found that the likelihood of the product is directly proportional to the inverse of the square root of the rating_count of the product.\n",
    "    \n",
    "    Note: For corrected rating, we can add the quantity `1 / np.sqrt(n)` instead of subtracting it to get more optimistic predictions. \n",
    "    Here we are subtracting this quantity, as there are no play counts above 10 after scaling.\n",
    "    '''\n",
    "    # Calculate the average play_count/user for each song \n",
    "    average_plays= cdf_filtered.groupby(['song_id']).mean()['play_count']\n",
    "\n",
    "    # Calculate the total number of interactions for each song\n",
    "    count_plays = cdf_filtered.groupby(['song_id']).count()['play_count']\n",
    "\n",
    "    # Calculate the total number of plays for each song\n",
    "    sum_plays = cdf_filtered.groupby(['song_id']).sum()['play_count']\n",
    "\n",
    "    # Create a dataframe with calculated average, interactions, and counts of plays\n",
    "    final_counts = pd.DataFrame({'avg_plays' : average_plays, 'count_plays' : count_plays, 'sum_plays' : sum_plays})\n",
    "\n",
    "    # Sort the dataframe by average of ratings in the descending order\n",
    "    final_counts = final_counts.sort_values('avg_plays',ascending=False)\n",
    "\n",
    "    # Sort the products based on ratings count\n",
    "    ranked_songs = final_counts.loc[[items[0] for items in recommendations]].sort_values('count_plays', ascending = False)[['count_plays']].reset_index()\n",
    "    \n",
    "    # Merge with the recommended products to get predicted ratings\n",
    "    ranked_songs = ranked_songs.merge(pd.DataFrame(recommendations, columns = ['song_id', 'predicted_interaction']), on = 'song_id', how = 'inner')\n",
    "\n",
    "    # Rank the products based on corrected ratings\n",
    "    ranked_songs['corrected_ratings'] = ranked_songs['predicted_interaction'] - 1 / np.sqrt(ranked_songs['count_plays'])\n",
    "\n",
    "    # Sort the products based on corrected ratings\n",
    "    ranked_songs = ranked_songs.sort_values('corrected_ratings', ascending = False)\n",
    "\n",
    "    # df_rec = cdf_filtered.loc[cdf_filtered['song_id'].isin(recommendations),['song_id','title','artist_name','year']]\n",
    "    recommendations = pd.merge(ranked_songs,cdf_filtered, on ='song_id', how =\"left\")\n",
    "    recommendations = recommendations[['title','artist_name','count_plays','predicted_interaction','corrected_ratings']].drop_duplicates().reset_index(drop=True)\n",
    "    \n",
    "    return recommendations"
   ]
  },
  {
   "cell_type": "markdown",
   "metadata": {},
   "source": [
    "Function to compare metrics from different models:"
   ]
  },
  {
   "cell_type": "code",
   "execution_count": 60,
   "metadata": {},
   "outputs": [],
   "source": [
    "def model_compare(mod_comp, algo, rmse, mae, precision, recall, f1_score, popularity, clean='no'):\n",
    "    '''\n",
    "    This function takes the output of the function 'precision_recall_at_k' and appends the model metrics to a dataframe to compare with other models\n",
    "    - mod_comp = the name of the dataframe to append to\n",
    "    - algo = the name of the model (a string)\n",
    "    - rmse = root mean square error, output from precision_recall_at_k\n",
    "    - mae = mean average error, output from precision_recall_at_k\n",
    "    - precision = precision, output from precision_recall_at_k\n",
    "    - recall = recall, output from precision_recall_at_k\n",
    "    - f1_score = output from precision_recall_at_k\n",
    "    - popularity = average count of plays from ranked recommendation \n",
    "    - clean = 'yes' or 'no', new dataframe or appending record to existing mod_comp dataframe\n",
    "    \n",
    "    '''\n",
    "    # if this is the first run, or you want to start over, remake blank dataframe:\n",
    "    if clean == 'yes':\n",
    "        # object With column names only\n",
    "        mod_comp = pd.DataFrame(columns = ['algorithm', 'rmse', 'mae', 'precision','recall','f1_score', 'popularity'])\n",
    "\n",
    "    # append rows to an empty DataFrame\n",
    "    mod_comp = mod_comp.append({'algorithm' : algo, 'rmse' : rmse, 'mae' : mae, 'precision' : precision, 'recall' : recall, 'f1_score' : f1_score, 'popularity' : popularity},\n",
    "            ignore_index = True)\n",
    "\n",
    "    return mod_comp"
   ]
  },
  {
   "cell_type": "markdown",
   "metadata": {},
   "source": [
    "Function to return predictions for a user for 3 songs:"
   ]
  },
  {
   "cell_type": "code",
   "execution_count": 91,
   "metadata": {},
   "outputs": [],
   "source": [
    "def make_pred(algo):\n",
    "    '''\n",
    "    This function returns predictions for a user for a song they have seen, a song they have not seen from an artist they 'like' and a song they have not seen from an unkown artist\n",
    "    Currently it is hardcoded.\n",
    "    '''\n",
    "    print(f'predictions using {algo} for user 6d625c6557df84b60d90426c0116138b617b9449:')\n",
    "    print('*'*25)\n",
    "    # Making prediction for userId and song_id\n",
    "    print('prediction for Red Dirt Road by Brooks and Dunn')\n",
    "    algo.predict('6d625c6557df84b60d90426c0116138b617b9449', 'SODBSUF12A8C141975', r_ui = 10, verbose = True)\n",
    "    # Making prediction for userId and song_id\n",
    "    print('*'*25)\n",
    "    print('predictions for Till I collapse by Eminem and Nate Dogg')\n",
    "    algo.predict('6d625c6557df84b60d90426c0116138b617b9449', 'SOBPKPW12A6701E8F9', r_ui = 1, verbose = True)\n",
    "    # Making prediction for userId and song_id\n",
    "    print('*'*25)\n",
    "    print('prediction for SOTTGXB12A6701FA0B by Phoenix (other pheonix songs are 7.6')\n",
    "    algo.predict('6d625c6557df84b60d90426c0116138b617b9449', 'SOTTGXB12A6701FA0B', verbose = True)"
   ]
  },
  {
   "cell_type": "markdown",
   "metadata": {},
   "source": [
    "### Split the Data into Train and Test"
   ]
  },
  {
   "cell_type": "code",
   "execution_count": 62,
   "metadata": {
    "id": "rGfYDiOCpe4X"
   },
   "outputs": [],
   "source": [
    "# Instantiating Reader scale with expected rating scale\n",
    "reader = Reader(rating_scale = (1,10))\n",
    "\n",
    "# Loading the rating dataset\n",
    "data = Dataset.load_from_df(cdf_filtered[['user_id', 'song_id', 'play_count_scaled']], reader)\n",
    "\n",
    "# Splitting the data into train and test datasets\n",
    "trainset, testset = train_test_split(data, test_size = 0.2, random_state = 42)"
   ]
  },
  {
   "cell_type": "markdown",
   "metadata": {
    "id": "gf13HrPPJeWT"
   },
   "source": [
    "### **User User Similarity-Based Collaborative Filtering**"
   ]
  },
  {
   "cell_type": "markdown",
   "metadata": {
    "id": "ROcEpduohdua"
   },
   "source": [
    "To build the user-user-similarity-based and subsequent models we will use the \"surprise\" library."
   ]
  },
  {
   "cell_type": "code",
   "execution_count": 63,
   "metadata": {
    "id": "vO3FL7iape8A"
   },
   "outputs": [
    {
     "name": "stdout",
     "output_type": "stream",
     "text": [
      "RMSE: 3.1852\n",
      "MAE:  2.5755\n",
      "  algorithm      rmse       mae  precision  recall  f1_score  popularity\n",
      "0  KNNbasic  3.185239  2.575525      0.682   0.772     0.724        24.3\n"
     ]
    }
   ],
   "source": [
    "# Build the default user-user-similarity model\n",
    "# Declaring the similarity options\n",
    "sim_options = {'name': 'cosine',\n",
    "               'user_based': True}\n",
    "\n",
    "# Initialize the KNNBasic model using sim_options provided, Verbose = False, and setting random_state = 1\n",
    "sim_user_user = KNNBasic(sim_options = sim_options, verbose = False, random_state = 1)\n",
    "\n",
    "# Fit the model on the training data\n",
    "sim_user_user.fit(trainset)\n",
    "\n",
    "# Let us compute precision@k, recall@k, and F_1 score with k = 10, and return the top 10 recommended songs:\n",
    "rmse, mae, precision, recall, f1_score = precision_recall_at_k(sim_user_user)\n",
    "popularity = ranking_songs(get_recommendations(cdf_filtered,'6d625c6557df84b60d90426c0116138b617b9449', sim_user_user))['count_plays'].mean()\n",
    "mod_comp = []\n",
    "mod_comp = model_compare(mod_comp,'KNNbasic',rmse, mae, precision, recall, f1_score, popularity, clean='yes')\n",
    "print(mod_comp)"
   ]
  },
  {
   "cell_type": "markdown",
   "metadata": {
    "id": "mzcdlWmer6GA"
   },
   "source": [
    "**Observations and Insights:**<br>\n",
    "For the untuned User-user similarity-based model,\n",
    "- The RMSE is 3.18\n",
    "- The MAE is 2.57\n",
    "- The f1 score is 0.72\n",
    "- The average popularity of recommended songs is 24.3"
   ]
  },
  {
   "cell_type": "code",
   "execution_count": 86,
   "metadata": {
    "id": "Sxd23bZ9pe_x"
   },
   "outputs": [
    {
     "name": "stdout",
     "output_type": "stream",
     "text": [
      "predictions using <surprise.prediction_algorithms.knns.KNNBasic object at 0x18512cfa0> for user 6ccd111af9b4baa497aacd6d1863cbf5a141acc6:\n",
      "*************************\n",
      "prediction for Red Dirt Road by Brooks and Dunn\n",
      "user: 6d625c6557df84b60d90426c0116138b617b9449 item: SODBSUF12A8C141975 r_ui = 10.00   est = 3.97   {'actual_k': 21, 'was_impossible': False}\n",
      "*************************\n",
      "predictions for Till I collapse by Eminem and Nate Dogg\n",
      "user: 6d625c6557df84b60d90426c0116138b617b9449 item: SOBPKPW12A6701E8F9 r_ui = 1.00   est = 3.74   {'actual_k': 40, 'was_impossible': False}\n",
      "*************************\n",
      "prediction for SOTTGXB12A6701FA0B by Phoenix (other pheonix songs are 7.6\n",
      "user: 6d625c6557df84b60d90426c0116138b617b9449 item: SOTTGXB12A6701FA0B r_ui = None   est = 3.45   {'actual_k': 21, 'was_impossible': False}\n"
     ]
    }
   ],
   "source": [
    "# Predicting play_count for a sample user with a listened song and unlistened song\n",
    "make_pred(sim_user_user)"
   ]
  },
  {
   "cell_type": "markdown",
   "metadata": {
    "id": "P9EVM7DysC47"
   },
   "source": [
    "**Observations and Insights:**\n",
    "- For the song the user has seen with a rating of 10, the model predicted a rating of 3.97\n",
    "- For the song the user has seen with a rating of 1, the model predicted a rating of 3.74\n",
    "- For the unheard songs by the user, the model predicted 3.45\n",
    "- The user-user similarity-based collaborative filtering method has good RMSE, MAE and f1_score, but...\n",
    "- The user-user model isnt predicting ratings very well\n",
    "- All three songs have similar predicted 'ratings' for this user"
   ]
  },
  {
   "cell_type": "markdown",
   "metadata": {
    "id": "Lt1QBiylsIOm"
   },
   "source": [
    "Now, let's try to tune the model and see if we can improve the model performance."
   ]
  },
  {
   "cell_type": "code",
   "execution_count": 87,
   "metadata": {
    "id": "T3diJPL7-tVw"
   },
   "outputs": [
    {
     "name": "stdout",
     "output_type": "stream",
     "text": [
      "2.8805243519619927\n",
      "{'k': 50, 'min_k': 9, 'sim_options': {'name': 'msd', 'user_based': True}}\n",
      "Computing the cosine similarity matrix...\n",
      "Done computing similarity matrix.\n",
      "Computing the cosine similarity matrix...\n",
      "Done computing similarity matrix.\n",
      "Computing the cosine similarity matrix...\n",
      "Done computing similarity matrix.\n",
      "Computing the msd similarity matrix...\n",
      "Done computing similarity matrix.\n",
      "Computing the msd similarity matrix...\n",
      "Done computing similarity matrix.\n",
      "Computing the msd similarity matrix...\n",
      "Done computing similarity matrix.\n",
      "Computing the msd similarity matrix...\n",
      "Done computing similarity matrix.\n",
      "Computing the msd similarity matrix...\n",
      "Done computing similarity matrix.\n",
      "Computing the msd similarity matrix...\n",
      "Done computing similarity matrix.\n",
      "Computing the cosine similarity matrix...\n",
      "Done computing similarity matrix.\n",
      "Computing the cosine similarity matrix...\n",
      "Done computing similarity matrix.\n",
      "Computing the msd similarity matrix...\n",
      "Done computing similarity matrix.\n",
      "Computing the msd similarity matrix...\n",
      "Done computing similarity matrix.\n",
      "Computing the cosine similarity matrix...\n",
      "Done computing similarity matrix.\n",
      "Computing the cosine similarity matrix...\n",
      "Done computing similarity matrix.\n",
      "Computing the cosine similarity matrix...\n",
      "Done computing similarity matrix.\n",
      "Computing the cosine similarity matrix...\n",
      "Done computing similarity matrix.\n",
      "Computing the cosine similarity matrix...\n",
      "Done computing similarity matrix.\n",
      "Computing the cosine similarity matrix...\n",
      "Done computing similarity matrix.\n",
      "Computing the cosine similarity matrix...\n",
      "Done computing similarity matrix.\n",
      "Computing the cosine similarity matrix...\n",
      "Done computing similarity matrix.\n",
      "Computing the cosine similarity matrix...\n",
      "Done computing similarity matrix.\n",
      "Computing the cosine similarity matrix...\n",
      "Done computing similarity matrix.\n",
      "Computing the cosine similarity matrix...\n",
      "Done computing similarity matrix.\n",
      "Computing the cosine similarity matrix...\n",
      "Done computing similarity matrix.\n",
      "Computing the cosine similarity matrix...\n",
      "Done computing similarity matrix.\n",
      "Computing the cosine similarity matrix...\n",
      "Done computing similarity matrix.\n",
      "Computing the cosine similarity matrix...\n",
      "Done computing similarity matrix.\n",
      "Computing the cosine similarity matrix...\n",
      "Done computing similarity matrix.\n",
      "Computing the msd similarity matrix...\n",
      "Done computing similarity matrix.\n",
      "Computing the cosine similarity matrix...\n",
      "Done computing similarity matrix.\n",
      "Computing the cosine similarity matrix...\n",
      "Done computing similarity matrix.\n",
      "Computing the cosine similarity matrix...\n",
      "Done computing similarity matrix.\n",
      "Computing the cosine similarity matrix...\n",
      "Done computing similarity matrix.\n",
      "Computing the cosine similarity matrix...\n",
      "Done computing similarity matrix.\n",
      "Computing the msd similarity matrix...\n",
      "Done computing similarity matrix.\n",
      "Computing the msd similarity matrix...\n",
      "Done computing similarity matrix.\n",
      "Computing the msd similarity matrix...\n",
      "Done computing similarity matrix.\n",
      "Computing the cosine similarity matrix...\n",
      "Done computing similarity matrix.\n",
      "Computing the msd similarity matrix...\n",
      "Done computing similarity matrix.\n",
      "Computing the cosine similarity matrix...\n",
      "Done computing similarity matrix.\n",
      "Computing the cosine similarity matrix...\n",
      "Done computing similarity matrix.\n",
      "Computing the cosine similarity matrix...\n",
      "Done computing similarity matrix.\n",
      "Computing the cosine similarity matrix...\n",
      "Done computing similarity matrix.\n",
      "Computing the cosine similarity matrix...\n",
      "Done computing similarity matrix.\n",
      "Computing the cosine similarity matrix...\n",
      "Done computing similarity matrix.\n",
      "Computing the cosine similarity matrix...\n",
      "Done computing similarity matrix.\n",
      "Computing the cosine similarity matrix...\n",
      "Done computing similarity matrix.\n",
      "Computing the msd similarity matrix...\n",
      "Done computing similarity matrix.\n",
      "Computing the cosine similarity matrix...\n",
      "Done computing similarity matrix.\n",
      "Computing the msd similarity matrix...\n",
      "Done computing similarity matrix.\n",
      "Computing the msd similarity matrix...\n",
      "Done computing similarity matrix.\n",
      "Computing the msd similarity matrix...\n",
      "Done computing similarity matrix.\n",
      "Computing the cosine similarity matrix...\n",
      "Done computing similarity matrix.\n",
      "Computing the cosine similarity matrix...\n",
      "Done computing similarity matrix.\n",
      "Computing the msd similarity matrix...\n",
      "Done computing similarity matrix.\n",
      "Computing the msd similarity matrix...\n",
      "Done computing similarity matrix.\n",
      "Computing the msd similarity matrix...\n",
      "Done computing similarity matrix.\n",
      "Computing the cosine similarity matrix...\n",
      "Done computing similarity matrix.\n",
      "Computing the cosine similarity matrix...\n",
      "Done computing similarity matrix.\n",
      "Computing the msd similarity matrix...\n",
      "Done computing similarity matrix.\n",
      "Computing the cosine similarity matrix...\n",
      "Done computing similarity matrix.\n",
      "Computing the msd similarity matrix...\n",
      "Done computing similarity matrix.\n",
      "Computing the msd similarity matrix...\n",
      "Done computing similarity matrix.\n",
      "Computing the msd similarity matrix...\n",
      "Done computing similarity matrix.\n",
      "Computing the msd similarity matrix...\n",
      "Done computing similarity matrix.\n",
      "Computing the msd similarity matrix...\n",
      "Done computing similarity matrix.\n",
      "Computing the msd similarity matrix...\n",
      "Done computing similarity matrix.\n",
      "Computing the msd similarity matrix...\n",
      "Done computing similarity matrix.\n",
      "Computing the msd similarity matrix...\n",
      "Done computing similarity matrix.\n",
      "Computing the cosine similarity matrix...\n",
      "Done computing similarity matrix.\n",
      "Computing the cosine similarity matrix...\n",
      "Done computing similarity matrix.\n",
      "Computing the msd similarity matrix...\n",
      "Done computing similarity matrix.\n",
      "Computing the msd similarity matrix...\n",
      "Done computing similarity matrix.\n",
      "Computing the msd similarity matrix...\n",
      "Done computing similarity matrix.\n",
      "Computing the msd similarity matrix...\n",
      "Done computing similarity matrix.\n",
      "Computing the msd similarity matrix...\n",
      "Done computing similarity matrix.\n",
      "Computing the cosine similarity matrix...\n",
      "Done computing similarity matrix.\n",
      "Computing the msd similarity matrix...\n",
      "Done computing similarity matrix.\n",
      "Computing the msd similarity matrix...\n",
      "Done computing similarity matrix.\n",
      "Computing the msd similarity matrix...\n",
      "Done computing similarity matrix.\n",
      "Computing the msd similarity matrix...\n",
      "Done computing similarity matrix.\n",
      "Computing the cosine similarity matrix...\n",
      "Done computing similarity matrix.\n",
      "Computing the msd similarity matrix...\n",
      "Done computing similarity matrix.\n",
      "Computing the msd similarity matrix...\n",
      "Done computing similarity matrix.\n",
      "Computing the msd similarity matrix...\n",
      "Done computing similarity matrix.\n",
      "Computing the msd similarity matrix...\n",
      "Done computing similarity matrix.\n",
      "Computing the msd similarity matrix...\n",
      "Done computing similarity matrix.\n",
      "Computing the msd similarity matrix...\n",
      "Done computing similarity matrix.\n",
      "Computing the msd similarity matrix...\n",
      "Done computing similarity matrix.\n",
      "Computing the cosine similarity matrix...\n",
      "Done computing similarity matrix.\n",
      "Computing the cosine similarity matrix...\n",
      "Done computing similarity matrix.\n",
      "Computing the msd similarity matrix...\n",
      "Done computing similarity matrix.\n",
      "Computing the msd similarity matrix...\n",
      "Done computing similarity matrix.\n",
      "Computing the msd similarity matrix...\n",
      "Done computing similarity matrix.\n",
      "Computing the cosine similarity matrix...\n",
      "Done computing similarity matrix.\n"
     ]
    }
   ],
   "source": [
    "# Setting up parameter grid to tune the hyperparameters\n",
    "param_grid = {'k': [10, 25, 50, 100], 'min_k': [3, 6, 9,12],\n",
    "              'sim_options': {'name': ['msd','cosine'],\n",
    "                              'user_based': [True]}\n",
    "              }\n",
    "\n",
    "# Performing 3-fold cross-validation to tune the hyperparameters\n",
    "gs = GridSearchCV(KNNBasic, param_grid, measures = ['rmse'], cv = 3, n_jobs = -1)\n",
    "\n",
    "# Fitting the data\n",
    "gs.fit(data)\n",
    "\n",
    "# Best RMSE score\n",
    "print(gs.best_score['rmse'])\n",
    "\n",
    "# Combination of parameters that gave the best RMSE score\n",
    "print(gs.best_params['rmse'])"
   ]
  },
  {
   "cell_type": "code",
   "execution_count": 88,
   "metadata": {
    "id": "PujRJA8X_JEJ"
   },
   "outputs": [
    {
     "name": "stdout",
     "output_type": "stream",
     "text": [
      "RMSE: 2.8309\n",
      "MAE:  2.2550\n",
      "        algorithm      rmse       mae  precision  recall  f1_score  popularity\n",
      "0        KNNbasic  3.185239  2.575525      0.682   0.772     0.724        24.3\n",
      "1  KNNbasic_tuned  2.830942  2.254989      0.698   0.799     0.745        64.9\n"
     ]
    }
   ],
   "source": [
    "# Train the best model found in above gridsearch\n",
    "# Using the optimal similarity measure for user-user based collaborative filtering\n",
    "sim_options = {'name': 'msd',\n",
    "               'user_based': True}\n",
    "\n",
    "# Creating an instance of KNNBasic with optimal hyperparameter values\n",
    "sim_user_user_optimized = KNNBasic(sim_options = sim_options, k = 50, min_k = 9, random_state = 1, verbose = False)\n",
    "\n",
    "# Training the algorithm on the train set\n",
    "sim_user_user_optimized.fit(trainset)\n",
    "\n",
    "# Let us compute precision@k, recall@k, and F_1 score with k = 10, and return the top 10 recommended songs:\n",
    "rmse, mae, precision, recall, f1_score = precision_recall_at_k(sim_user_user_optimized)\n",
    "popularity = ranking_songs(get_recommendations(cdf_filtered,'6d625c6557df84b60d90426c0116138b617b9449', sim_user_user_optimized))['count_plays'].mean()\n",
    "mod_comp = model_compare(mod_comp,'KNNbasic_tuned',rmse, mae, precision, recall, f1_score, popularity, clean='no')\n",
    "print(mod_comp)"
   ]
  },
  {
   "cell_type": "markdown",
   "metadata": {
    "id": "MH5OBZ7Nse6m"
   },
   "source": [
    "**Observations and Insights:**<br>\n",
    "After tuning the user-user model,\n",
    "- The RMSE has decreased over the untuned model\n",
    "- The MAE has also decreased\n",
    "- The f1 score has increased\n",
    "- The popularity of recommended songs has increased"
   ]
  },
  {
   "cell_type": "code",
   "execution_count": 89,
   "metadata": {
    "id": "FgV63lHiq1TV"
   },
   "outputs": [
    {
     "name": "stdout",
     "output_type": "stream",
     "text": [
      "predictions using <surprise.prediction_algorithms.knns.KNNBasic object at 0x18b1b8730> for user 6ccd111af9b4baa497aacd6d1863cbf5a141acc6:\n",
      "*************************\n",
      "prediction for Red Dirt Road by Brooks and Dunn\n",
      "user: 6d625c6557df84b60d90426c0116138b617b9449 item: SODBSUF12A8C141975 r_ui = 10.00   est = 8.95   {'actual_k': 21, 'was_impossible': False}\n",
      "*************************\n",
      "predictions for Till I collapse by Eminem and Nate Dogg\n",
      "user: 6d625c6557df84b60d90426c0116138b617b9449 item: SOBPKPW12A6701E8F9 r_ui = 1.00   est = 3.14   {'actual_k': 40, 'was_impossible': False}\n",
      "*************************\n",
      "prediction for SOTTGXB12A6701FA0B by Phoenix (other pheonix songs are 7.6\n",
      "user: 6d625c6557df84b60d90426c0116138b617b9449 item: SOTTGXB12A6701FA0B r_ui = None   est = 3.38   {'actual_k': 21, 'was_impossible': False}\n"
     ]
    }
   ],
   "source": [
    "# Predict the play count for a user heard and unheard songs\n",
    "make_pred(sim_user_user_optimized)"
   ]
  },
  {
   "cell_type": "markdown",
   "metadata": {
    "id": "SdpJ--8QWuzz"
   },
   "source": [
    "**Observations and Insights:**\n",
    "- The model is predicting a rating of 8.95 for the song the user has heard and rated a 10, this is very good.\n",
    "- The model is predicting a rating of 3.14 for the song the user has heard and rated a 1, this is not bad.\n",
    "- The model is rating the unheard song 3.38.\n",
    "- It seems that tuning the model has improved its ability to predict ratings"
   ]
  },
  {
   "cell_type": "markdown",
   "metadata": {
    "id": "ghwEJY2e7INB"
   },
   "source": [
    "#### Correcting the play_counts and Ranking the recommended songs"
   ]
  },
  {
   "cell_type": "code",
   "execution_count": 92,
   "metadata": {
    "id": "xoiAL_vH8miC"
   },
   "outputs": [
    {
     "data": {
      "text/html": [
       "<div>\n",
       "<style scoped>\n",
       "    .dataframe tbody tr th:only-of-type {\n",
       "        vertical-align: middle;\n",
       "    }\n",
       "\n",
       "    .dataframe tbody tr th {\n",
       "        vertical-align: top;\n",
       "    }\n",
       "\n",
       "    .dataframe thead th {\n",
       "        text-align: right;\n",
       "    }\n",
       "</style>\n",
       "<table border=\"1\" class=\"dataframe\">\n",
       "  <thead>\n",
       "    <tr style=\"text-align: right;\">\n",
       "      <th></th>\n",
       "      <th>title</th>\n",
       "      <th>artist_name</th>\n",
       "      <th>count_plays</th>\n",
       "      <th>predicted_interaction</th>\n",
       "      <th>corrected_ratings</th>\n",
       "    </tr>\n",
       "  </thead>\n",
       "  <tbody>\n",
       "    <tr>\n",
       "      <th>0</th>\n",
       "      <td>Clara meets Slope - Hard To Say</td>\n",
       "      <td>Clara Hill</td>\n",
       "      <td>89</td>\n",
       "      <td>9.205088</td>\n",
       "      <td>9.099088</td>\n",
       "    </tr>\n",
       "    <tr>\n",
       "      <th>1</th>\n",
       "      <td>Numb (Album Version)</td>\n",
       "      <td>Disturbed</td>\n",
       "      <td>68</td>\n",
       "      <td>8.825430</td>\n",
       "      <td>8.704162</td>\n",
       "    </tr>\n",
       "    <tr>\n",
       "      <th>2</th>\n",
       "      <td>When You're Gone</td>\n",
       "      <td>Avril Lavigne</td>\n",
       "      <td>76</td>\n",
       "      <td>8.568666</td>\n",
       "      <td>8.453958</td>\n",
       "    </tr>\n",
       "    <tr>\n",
       "      <th>3</th>\n",
       "      <td>#40</td>\n",
       "      <td>DAVE MATTHEWS BAND</td>\n",
       "      <td>72</td>\n",
       "      <td>8.503340</td>\n",
       "      <td>8.385488</td>\n",
       "    </tr>\n",
       "    <tr>\n",
       "      <th>4</th>\n",
       "      <td>Speechless (Album Version)</td>\n",
       "      <td>The Veronicas</td>\n",
       "      <td>45</td>\n",
       "      <td>8.512847</td>\n",
       "      <td>8.363776</td>\n",
       "    </tr>\n",
       "    <tr>\n",
       "      <th>5</th>\n",
       "      <td>XRDS</td>\n",
       "      <td>Covenant</td>\n",
       "      <td>51</td>\n",
       "      <td>8.475145</td>\n",
       "      <td>8.335117</td>\n",
       "    </tr>\n",
       "    <tr>\n",
       "      <th>6</th>\n",
       "      <td>(iii)</td>\n",
       "      <td>The Gerbils</td>\n",
       "      <td>88</td>\n",
       "      <td>8.352223</td>\n",
       "      <td>8.245623</td>\n",
       "    </tr>\n",
       "    <tr>\n",
       "      <th>7</th>\n",
       "      <td>Modern world</td>\n",
       "      <td>Modern Lovers</td>\n",
       "      <td>51</td>\n",
       "      <td>8.274458</td>\n",
       "      <td>8.134430</td>\n",
       "    </tr>\n",
       "    <tr>\n",
       "      <th>8</th>\n",
       "      <td>The Memory Remains</td>\n",
       "      <td>Metallica / Marianne Faithfull</td>\n",
       "      <td>94</td>\n",
       "      <td>8.209485</td>\n",
       "      <td>8.106343</td>\n",
       "    </tr>\n",
       "    <tr>\n",
       "      <th>9</th>\n",
       "      <td>Sunburn</td>\n",
       "      <td>Muse</td>\n",
       "      <td>15</td>\n",
       "      <td>8.156890</td>\n",
       "      <td>7.898691</td>\n",
       "    </tr>\n",
       "  </tbody>\n",
       "</table>\n",
       "</div>"
      ],
      "text/plain": [
       "                             title                     artist_name  \\\n",
       "0  Clara meets Slope - Hard To Say                      Clara Hill   \n",
       "1             Numb (Album Version)                       Disturbed   \n",
       "2                 When You're Gone                   Avril Lavigne   \n",
       "3                              #40              DAVE MATTHEWS BAND   \n",
       "4       Speechless (Album Version)                   The Veronicas   \n",
       "5                             XRDS                        Covenant   \n",
       "6                            (iii)                     The Gerbils   \n",
       "7                     Modern world                   Modern Lovers   \n",
       "8               The Memory Remains  Metallica / Marianne Faithfull   \n",
       "9                          Sunburn                            Muse   \n",
       "\n",
       "   count_plays  predicted_interaction  corrected_ratings  \n",
       "0           89               9.205088           9.099088  \n",
       "1           68               8.825430           8.704162  \n",
       "2           76               8.568666           8.453958  \n",
       "3           72               8.503340           8.385488  \n",
       "4           45               8.512847           8.363776  \n",
       "5           51               8.475145           8.335117  \n",
       "6           88               8.352223           8.245623  \n",
       "7           51               8.274458           8.134430  \n",
       "8           94               8.209485           8.106343  \n",
       "9           15               8.156890           7.898691  "
      ]
     },
     "execution_count": 92,
     "metadata": {},
     "output_type": "execute_result"
    }
   ],
   "source": [
    "# Applying the ranking_songs function on the final_play data\n",
    "ranking_songs(get_recommendations(cdf_filtered,'6d625c6557df84b60d90426c0116138b617b9449', sim_user_user_optimized))"
   ]
  },
  {
   "cell_type": "markdown",
   "metadata": {
    "id": "KOwwGsH8toLG"
   },
   "source": [
    "**Observations and Insights:**\n",
    "- Here we have predicted 10 songs for the user '6d625c6557df84b60d90426c0116138b617b9449' with the user-user collaborative filtering method\n",
    "- Some of the songs that are recommended to the user have a predicted rating close to 10, this is very good. \n",
    "- Evaluating the tuned and untuned models, the tuned model has improved performance. "
   ]
  },
  {
   "cell_type": "markdown",
   "metadata": {
    "id": "QgbzJKk7Tsnr"
   },
   "source": [
    "### Item Item Similarity-based collaborative filtering recommendation systems "
   ]
  },
  {
   "cell_type": "code",
   "execution_count": 93,
   "metadata": {
    "id": "W5RMcdzjTsns"
   },
   "outputs": [
    {
     "name": "stdout",
     "output_type": "stream",
     "text": [
      "RMSE: 2.9990\n",
      "MAE:  2.2550\n",
      "        algorithm      rmse       mae  precision  recall  f1_score  popularity\n",
      "0        KNNbasic  3.185239  2.575525      0.682   0.772     0.724        24.3\n",
      "1  KNNbasic_tuned  2.830942  2.254989      0.698   0.799     0.745        64.9\n",
      "2   KNNbasic_item  2.998977  2.254952      0.658   0.736     0.695        25.1\n"
     ]
    }
   ],
   "source": [
    "# Apply the item-item similarity collaborative filtering model with random_state = 1 and evaluate the model performance\n",
    "# Declaring the similarity options\n",
    "sim_options = {'name': 'cosine',\n",
    "               'user_based': False}\n",
    "\n",
    "# KNN algorithm is used to find desired similar items\n",
    "sim_item_item = KNNBasic(sim_options = sim_options, random_state = 1, verbose = False)\n",
    "\n",
    "# Train the algorithm on the train set, and predict ratings for the test set\n",
    "sim_item_item.fit(trainset)\n",
    "\n",
    "\n",
    "# Let us compute precision@k, recall@k, and F_1 score with k = 10, and return the top 10 recommended songs:\n",
    "rmse, mae, precision, recall, f1_score = precision_recall_at_k(sim_item_item)\n",
    "popularity = ranking_songs(get_recommendations(cdf_filtered,'6d625c6557df84b60d90426c0116138b617b9449', sim_item_item))['count_plays'].mean()\n",
    "mod_comp = model_compare(mod_comp,'KNNbasic_item',rmse, mae, precision, recall, f1_score, popularity, clean='no')\n",
    "print(mod_comp)"
   ]
  },
  {
   "cell_type": "markdown",
   "metadata": {
    "id": "JfdIJ6XWunx0"
   },
   "source": [
    "**Observations and Insights:**\n",
    "- The RMSE for the item-item model is 2.99\n",
    "- The item-item collaborative filtering model has nearly the the same MAE as the tuned user-user model\n",
    "- the f1 score is 0.695\n",
    "- The popularity of recommended songs is 25"
   ]
  },
  {
   "cell_type": "code",
   "execution_count": 94,
   "metadata": {
    "id": "5yILOxXRTsns"
   },
   "outputs": [
    {
     "name": "stdout",
     "output_type": "stream",
     "text": [
      "predictions using <surprise.prediction_algorithms.knns.KNNBasic object at 0x18baaaf80> for user 6d625c6557df84b60d90426c0116138b617b9449:\n",
      "*************************\n",
      "prediction for Red Dirt Road by Brooks and Dunn\n",
      "user: 6d625c6557df84b60d90426c0116138b617b9449 item: SODBSUF12A8C141975 r_ui = 10.00   est = 4.40   {'actual_k': 40, 'was_impossible': False}\n",
      "*************************\n",
      "predictions for Till I collapse by Eminem and Nate Dogg\n",
      "user: 6d625c6557df84b60d90426c0116138b617b9449 item: SOBPKPW12A6701E8F9 r_ui = 1.00   est = 4.44   {'actual_k': 23, 'was_impossible': False}\n",
      "*************************\n",
      "prediction for SOTTGXB12A6701FA0B by Phoenix (other pheonix songs are 7.6\n",
      "user: 6d625c6557df84b60d90426c0116138b617b9449 item: SOTTGXB12A6701FA0B r_ui = None   est = 4.72   {'actual_k': 12, 'was_impossible': False}\n"
     ]
    }
   ],
   "source": [
    "# Predict the play count for a user for heard and unheard songs\n",
    "make_pred(sim_item_item)"
   ]
  },
  {
   "cell_type": "markdown",
   "metadata": {
    "id": "dxE9fJ8Dupby"
   },
   "source": [
    "**Observations and Insights:**\n",
    "- The model is predicting 4.4 for the heard song that had rating of 10\n",
    "- The model is predicting 4.44 for the heard song that had rating of 1\n",
    "- The model is predicting 4.72 for the unheard song\n",
    "- Overall, the prediction of ratings is poor"
   ]
  },
  {
   "cell_type": "code",
   "execution_count": 96,
   "metadata": {
    "id": "f5bcZ3HgTsnt"
   },
   "outputs": [
    {
     "name": "stdout",
     "output_type": "stream",
     "text": [
      "2.9243151529965794\n",
      "{'k': 50, 'min_k': 3, 'sim_options': {'name': 'cosine', 'user_based': False}}\n"
     ]
    }
   ],
   "source": [
    "# Setting up parameter grid to tune the hyperparameters\n",
    "param_grid = {'k': [10, 25, 50, 100], 'min_k': [3, 6, 9, 12],\n",
    "              'sim_options': {'name': ['msd', 'cosine', 'pearson_baseline'],\n",
    "                              'user_based': [False]}\n",
    "              }\n",
    "\n",
    "# Performing 3-fold cross validation to tune the hyperparameters\n",
    "gs = GridSearchCV(KNNBasic, param_grid, measures = ['rmse'], cv = 3, n_jobs = -1)\n",
    "\n",
    "# Fitting the data\n",
    "gs.fit(data)\n",
    "\n",
    "# Find the best RMSE score\n",
    "print(gs.best_score['rmse'])\n",
    "\n",
    "# Find the combination of parameters that gave the best RMSE score\n",
    "print(gs.best_params['rmse'])"
   ]
  },
  {
   "cell_type": "code",
   "execution_count": 97,
   "metadata": {
    "id": "dSeiM1qeTsnt"
   },
   "outputs": [
    {
     "name": "stdout",
     "output_type": "stream",
     "text": [
      "RMSE: 2.9040\n",
      "MAE:  2.3017\n",
      "             algorithm      rmse       mae  precision  recall  f1_score  \\\n",
      "0             KNNbasic  3.185239  2.575525      0.682   0.772     0.724   \n",
      "1       KNNbasic_tuned  2.830942  2.254989      0.698   0.799     0.745   \n",
      "2        KNNbasic_item  2.998977  2.254952      0.658   0.736     0.695   \n",
      "3  KNNbasic_item_tuned  2.903997  2.301706      0.688   0.785     0.733   \n",
      "\n",
      "   popularity  \n",
      "0        24.3  \n",
      "1        64.9  \n",
      "2        25.1  \n",
      "3        25.5  \n"
     ]
    }
   ],
   "source": [
    "# Apply the best modle found in the grid search\n",
    "# Using the optimal similarity measure for item-item based collaborative filtering\n",
    "sim_options = {'name': 'cosine',\n",
    "               'user_based': False}\n",
    "\n",
    "# Creating an instance of KNNBasic with optimal hyperparameter values\n",
    "sim_item_item_optimized = KNNBasic(sim_options = sim_options, k = 50, min_k = 3, random_state = 1, verbose = False)\n",
    "\n",
    "# Training the algorithm on the train set\n",
    "sim_item_item_optimized.fit(trainset)\n",
    "\n",
    "\n",
    "# Let us compute precision@k, recall@k, and F_1 score with k = 10, and return the top 10 recommended songs:\n",
    "rmse, mae, precision, recall, f1_score = precision_recall_at_k(sim_item_item_optimized)\n",
    "popularity = ranking_songs(get_recommendations(cdf_filtered,'6d625c6557df84b60d90426c0116138b617b9449', sim_item_item_optimized))['count_plays'].mean()\n",
    "mod_comp = model_compare(mod_comp,'KNNbasic_item_tuned',rmse, mae, precision, recall, f1_score, popularity, clean='no')\n",
    "print(mod_comp)"
   ]
  },
  {
   "cell_type": "markdown",
   "metadata": {
    "id": "XxXelRIluvfh"
   },
   "source": [
    "**Observations and Insights:**\n",
    "- The RMSE decreased slightly after tuning\n",
    "- The MAE has increased slightly\n",
    "- The f1 score increased  \n",
    "- The popularity is the same"
   ]
  },
  {
   "cell_type": "markdown",
   "metadata": {},
   "source": [
    "We can also find out **similar items** to a given item or its nearest neighbors based on this **KNNBasic algorithm**. Below we are finding the 5 most similar items to the item 0"
   ]
  },
  {
   "cell_type": "code",
   "execution_count": 98,
   "metadata": {},
   "outputs": [
    {
     "data": {
      "text/plain": [
       "[35, 288, 291, 392, 500]"
      ]
     },
     "execution_count": 98,
     "metadata": {},
     "output_type": "execute_result"
    }
   ],
   "source": [
    "# Identifying similar items to a given item (nearest neighbors)\n",
    "sim_item_item_optimized.get_neighbors(0, k = 5)"
   ]
  },
  {
   "cell_type": "code",
   "execution_count": 99,
   "metadata": {
    "id": "gIBRRvdoTsnt"
   },
   "outputs": [
    {
     "name": "stdout",
     "output_type": "stream",
     "text": [
      "predictions using <surprise.prediction_algorithms.knns.KNNBasic object at 0x18a1774c0> for user 6d625c6557df84b60d90426c0116138b617b9449:\n",
      "*************************\n",
      "prediction for Red Dirt Road by Brooks and Dunn\n",
      "user: 6d625c6557df84b60d90426c0116138b617b9449 item: SODBSUF12A8C141975 r_ui = 10.00   est = 4.61   {'actual_k': 50, 'was_impossible': False}\n",
      "*************************\n",
      "predictions for Till I collapse by Eminem and Nate Dogg\n",
      "user: 6d625c6557df84b60d90426c0116138b617b9449 item: SOBPKPW12A6701E8F9 r_ui = 1.00   est = 4.44   {'actual_k': 23, 'was_impossible': False}\n",
      "*************************\n",
      "prediction for SOTTGXB12A6701FA0B by Phoenix (other pheonix songs are 7.6\n",
      "user: 6d625c6557df84b60d90426c0116138b617b9449 item: SOTTGXB12A6701FA0B r_ui = None   est = 4.72   {'actual_k': 12, 'was_impossible': False}\n"
     ]
    }
   ],
   "source": [
    "# Predict the play_count by user for heard and unheard songs\n",
    "make_pred(sim_item_item_optimized)"
   ]
  },
  {
   "cell_type": "markdown",
   "metadata": {
    "id": "yf3kDSepuwcw"
   },
   "source": [
    "**Observations and Insights:**\n",
    "- similar to the untuned item-item model, our predictions are rather poor\n",
    "- In general, the predicted ratings of all the songs are about the same as the untuned model\n",
    "- Given that all of these songs are quite different, these predictions may not reflect the users actually taste. "
   ]
  },
  {
   "cell_type": "code",
   "execution_count": 101,
   "metadata": {
    "id": "ZRJS4oDFTsnu"
   },
   "outputs": [
    {
     "data": {
      "text/html": [
       "<div>\n",
       "<style scoped>\n",
       "    .dataframe tbody tr th:only-of-type {\n",
       "        vertical-align: middle;\n",
       "    }\n",
       "\n",
       "    .dataframe tbody tr th {\n",
       "        vertical-align: top;\n",
       "    }\n",
       "\n",
       "    .dataframe thead th {\n",
       "        text-align: right;\n",
       "    }\n",
       "</style>\n",
       "<table border=\"1\" class=\"dataframe\">\n",
       "  <thead>\n",
       "    <tr style=\"text-align: right;\">\n",
       "      <th></th>\n",
       "      <th>title</th>\n",
       "      <th>artist_name</th>\n",
       "      <th>count_plays</th>\n",
       "      <th>predicted_interaction</th>\n",
       "      <th>corrected_ratings</th>\n",
       "    </tr>\n",
       "  </thead>\n",
       "  <tbody>\n",
       "    <tr>\n",
       "      <th>0</th>\n",
       "      <td>Ni Tú Ni Nadie (Versión Demo)</td>\n",
       "      <td>Alaska Y Dinarama</td>\n",
       "      <td>31</td>\n",
       "      <td>10.000000</td>\n",
       "      <td>9.820395</td>\n",
       "    </tr>\n",
       "    <tr>\n",
       "      <th>1</th>\n",
       "      <td>My Perfect Cousin</td>\n",
       "      <td>The Undertones</td>\n",
       "      <td>21</td>\n",
       "      <td>9.842105</td>\n",
       "      <td>9.623887</td>\n",
       "    </tr>\n",
       "    <tr>\n",
       "      <th>2</th>\n",
       "      <td>Walk On Water Or Drown (Album)</td>\n",
       "      <td>Mayday Parade</td>\n",
       "      <td>24</td>\n",
       "      <td>9.684211</td>\n",
       "      <td>9.480086</td>\n",
       "    </tr>\n",
       "    <tr>\n",
       "      <th>3</th>\n",
       "      <td>Docking Bay 94</td>\n",
       "      <td>The Alter Boys</td>\n",
       "      <td>25</td>\n",
       "      <td>9.661287</td>\n",
       "      <td>9.461287</td>\n",
       "    </tr>\n",
       "    <tr>\n",
       "      <th>4</th>\n",
       "      <td>Waters Of Nazareth (album version)</td>\n",
       "      <td>Justice</td>\n",
       "      <td>29</td>\n",
       "      <td>9.210526</td>\n",
       "      <td>9.024831</td>\n",
       "    </tr>\n",
       "    <tr>\n",
       "      <th>5</th>\n",
       "      <td>Valentine</td>\n",
       "      <td>Justice</td>\n",
       "      <td>24</td>\n",
       "      <td>8.934211</td>\n",
       "      <td>8.730086</td>\n",
       "    </tr>\n",
       "    <tr>\n",
       "      <th>6</th>\n",
       "      <td>Please_ Before I Go</td>\n",
       "      <td>Derek Webb</td>\n",
       "      <td>32</td>\n",
       "      <td>8.905551</td>\n",
       "      <td>8.728775</td>\n",
       "    </tr>\n",
       "    <tr>\n",
       "      <th>7</th>\n",
       "      <td>Hitsville U.K.</td>\n",
       "      <td>The Clash</td>\n",
       "      <td>25</td>\n",
       "      <td>8.421053</td>\n",
       "      <td>8.221053</td>\n",
       "    </tr>\n",
       "    <tr>\n",
       "      <th>8</th>\n",
       "      <td>Go Places</td>\n",
       "      <td>The New Pornographers</td>\n",
       "      <td>20</td>\n",
       "      <td>8.342105</td>\n",
       "      <td>8.118498</td>\n",
       "    </tr>\n",
       "    <tr>\n",
       "      <th>9</th>\n",
       "      <td>Uptown</td>\n",
       "      <td>Drake / Bun B / Lil Wayne</td>\n",
       "      <td>24</td>\n",
       "      <td>8.061607</td>\n",
       "      <td>7.857483</td>\n",
       "    </tr>\n",
       "  </tbody>\n",
       "</table>\n",
       "</div>"
      ],
      "text/plain": [
       "                                title                artist_name  count_plays  \\\n",
       "0       Ni Tú Ni Nadie (Versión Demo)          Alaska Y Dinarama           31   \n",
       "1                   My Perfect Cousin             The Undertones           21   \n",
       "2      Walk On Water Or Drown (Album)              Mayday Parade           24   \n",
       "3                      Docking Bay 94             The Alter Boys           25   \n",
       "4  Waters Of Nazareth (album version)                    Justice           29   \n",
       "5                           Valentine                    Justice           24   \n",
       "6                 Please_ Before I Go                 Derek Webb           32   \n",
       "7                      Hitsville U.K.                  The Clash           25   \n",
       "8                           Go Places      The New Pornographers           20   \n",
       "9                              Uptown  Drake / Bun B / Lil Wayne           24   \n",
       "\n",
       "   predicted_interaction  corrected_ratings  \n",
       "0              10.000000           9.820395  \n",
       "1               9.842105           9.623887  \n",
       "2               9.684211           9.480086  \n",
       "3               9.661287           9.461287  \n",
       "4               9.210526           9.024831  \n",
       "5               8.934211           8.730086  \n",
       "6               8.905551           8.728775  \n",
       "7               8.421053           8.221053  \n",
       "8               8.342105           8.118498  \n",
       "9               8.061607           7.857483  "
      ]
     },
     "execution_count": 101,
     "metadata": {},
     "output_type": "execute_result"
    }
   ],
   "source": [
    "# Find five most similar items to the item with inner id 0\n",
    "ranking_songs(get_recommendations(cdf_filtered,'6d625c6557df84b60d90426c0116138b617b9449', sim_item_item_optimized))"
   ]
  },
  {
   "cell_type": "markdown",
   "metadata": {
    "id": "Ore9XTFgv5Np"
   },
   "source": [
    "**Observations and Insights:**\n",
    "- Interestingly, the item-item model recommends a completely different top 10 songs than the user-user model"
   ]
  },
  {
   "cell_type": "markdown",
   "metadata": {
    "id": "rKgJpSA9vOOL"
   },
   "source": [
    "### Model Based Collaborative Filtering - Matrix Factorization"
   ]
  },
  {
   "cell_type": "markdown",
   "metadata": {
    "id": "hJynidJCw-ti"
   },
   "source": [
    "Model-based Collaborative Filtering is a **personalized recommendation system**, the recommendations are based on the past behavior of the user and it is not dependent on any additional information. We use **latent features** to find recommendations for each user."
   ]
  },
  {
   "cell_type": "code",
   "execution_count": 102,
   "metadata": {
    "id": "07-2PT5Ssjqm"
   },
   "outputs": [
    {
     "name": "stdout",
     "output_type": "stream",
     "text": [
      "RMSE: 2.7215\n",
      "MAE:  2.1682\n",
      "             algorithm      rmse       mae  precision  recall  f1_score  \\\n",
      "0             KNNbasic  3.185239  2.575525      0.682   0.772     0.724   \n",
      "1       KNNbasic_tuned  2.830942  2.254989      0.698   0.799     0.745   \n",
      "2        KNNbasic_item  2.998977  2.254952      0.658   0.736     0.695   \n",
      "3  KNNbasic_item_tuned  2.903997  2.301706      0.688   0.785     0.733   \n",
      "4                  SVD  2.721453  2.168153      0.696   0.798     0.744   \n",
      "\n",
      "   popularity  \n",
      "0        24.3  \n",
      "1        64.9  \n",
      "2        25.1  \n",
      "3        25.5  \n",
      "4       138.3  \n"
     ]
    }
   ],
   "source": [
    "# Build baseline model using SVD matrix factorization\n",
    "svd = SVD(random_state = 1)\n",
    "\n",
    "# Training the algorithm on the train set\n",
    "svd.fit(trainset)\n",
    "\n",
    "# Let us compute precision@k, recall@k, and F_1 score with k = 10, and return the top 10 recommended songs:\n",
    "rmse, mae, precision, recall, f1_score = precision_recall_at_k(svd)\n",
    "popularity = ranking_songs(get_recommendations(cdf_filtered,'6d625c6557df84b60d90426c0116138b617b9449', svd))['count_plays'].mean()\n",
    "mod_comp = model_compare(mod_comp,'SVD',rmse, mae, precision, recall, f1_score, popularity, clean='no')\n",
    "print(mod_comp)"
   ]
  },
  {
   "cell_type": "markdown",
   "metadata": {},
   "source": [
    "**Observations and Insights:**\n",
    "- The SVD model has the best RMSE and MAE of any models yet\n",
    "- The f1 score is higher than any other untuned models\n",
    "- The popularity of recommended songs is far higher than the other models"
   ]
  },
  {
   "cell_type": "code",
   "execution_count": 103,
   "metadata": {
    "id": "yWIhfdxXsjqm"
   },
   "outputs": [
    {
     "name": "stdout",
     "output_type": "stream",
     "text": [
      "predictions using <surprise.prediction_algorithms.matrix_factorization.SVD object at 0x18bad1330> for user 6d625c6557df84b60d90426c0116138b617b9449:\n",
      "*************************\n",
      "prediction for Red Dirt Road by Brooks and Dunn\n",
      "user: 6d625c6557df84b60d90426c0116138b617b9449 item: SODBSUF12A8C141975 r_ui = 10.00   est = 8.95   {'was_impossible': False}\n",
      "*************************\n",
      "predictions for Till I collapse by Eminem and Nate Dogg\n",
      "user: 6d625c6557df84b60d90426c0116138b617b9449 item: SOBPKPW12A6701E8F9 r_ui = 1.00   est = 2.06   {'was_impossible': False}\n",
      "*************************\n",
      "prediction for SOTTGXB12A6701FA0B by Phoenix (other pheonix songs are 7.6\n",
      "user: 6d625c6557df84b60d90426c0116138b617b9449 item: SOTTGXB12A6701FA0B r_ui = None   est = 5.39   {'was_impossible': False}\n"
     ]
    }
   ],
   "source": [
    "# Predict the play count for a user for heard and unheard songs\n",
    "make_pred(svd)"
   ]
  },
  {
   "cell_type": "markdown",
   "metadata": {},
   "source": [
    "**Observations and Insights:**\n",
    "- The predictions for the heard song with rating 10 is 8.95\n",
    "- The predictions for the heard song with rating 1 is 2.06\n",
    "- The prediciton for the unheard song is 5.39\n",
    "- These are the most accurate predictions yet of any of the models"
   ]
  },
  {
   "cell_type": "markdown",
   "metadata": {
    "id": "23tnRUJJxWTR"
   },
   "source": [
    "#### Improving matrix factorization based recommendation system by tuning its hyperparameters"
   ]
  },
  {
   "cell_type": "markdown",
   "metadata": {},
   "source": [
    "Function to Tune the number of factors:"
   ]
  },
  {
   "cell_type": "code",
   "execution_count": 104,
   "metadata": {},
   "outputs": [],
   "source": [
    "# Just checking the effect of number of latent factors k on the model's performance.\n",
    "def rmse_vs_factors(algorithm, data):\n",
    "    \"\"\"Returns: rmse_algorithm i.e. a list of mean RMSE of CV = 5 in cross_validate() for each  factor k in range(1, 101, 1) 100 values \n",
    "    Arg:  i.) algorithm = Matrix factoization algorithm, e.g SVD/NMF/PMF, ii.)  data = surprise.dataset.DatasetAutoFolds\n",
    "    \"\"\"\n",
    "    rmse_algorithm = []\n",
    "    \n",
    "    for k in range(1, 100, 1):\n",
    "        algo = algorithm(n_factors = k)\n",
    "\n",
    "        #[\"test_rmse\"] is a numpy array with min accuracy value for each testset\n",
    "        loss_fce = cross_validate(algo, data, measures=['RMSE'], cv=3, verbose=False)[\"test_rmse\"].mean() \n",
    "        rmse_algorithm.append(loss_fce)\n",
    "  \n",
    "    return rmse_algorithm"
   ]
  },
  {
   "cell_type": "markdown",
   "metadata": {},
   "source": [
    "Function to plot the number of factor tuning:"
   ]
  },
  {
   "cell_type": "code",
   "execution_count": 105,
   "metadata": {},
   "outputs": [],
   "source": [
    "def plot_rmse(rmse, algorithm, k):\n",
    "    plt.figure(num=None, figsize=(15, 5), dpi=80, facecolor='w', edgecolor='k')\n",
    "    \n",
    "    plt.plot(rmse)\n",
    "    plt.title(\"{0} Performance: RMSE Against Number of Factors\".format(algorithm), size = 20 )\n",
    "\n",
    "    plt.xlim(0,k+2)\n",
    "    plt.xticks(np.arange(0, k, step=2))\n",
    "\n",
    "    plt.xlabel(\"{0}(n_factor = k)\".format(algorithm))\n",
    "    plt.ylabel(\"Mean RMSE (cv=3)\")\n",
    "    plt.axvline(np.argmin(rmse), color = \"r\")"
   ]
  },
  {
   "cell_type": "markdown",
   "metadata": {},
   "source": [
    "Lets run the factor checking function and see if there is an ideal number of latent features we can specify in our tuned model:"
   ]
  },
  {
   "cell_type": "code",
   "execution_count": 106,
   "metadata": {},
   "outputs": [
    {
     "data": {
      "image/png": "[encoded data removed]",
      "text/plain": [
       "<Figure size 1200x400 with 1 Axes>"
      ]
     },
     "metadata": {},
     "output_type": "display_data"
    }
   ],
   "source": [
    "# initialize and run the feature checking function\n",
    "rmse_svd = rmse_vs_factors(SVD,data)\n",
    "# plot the results\n",
    "plot_rmse(rmse_svd,\"SVD\", 100)"
   ]
  },
  {
   "cell_type": "markdown",
   "metadata": {},
   "source": [
    "According to the figure, there is a decreasing trend of better performance with higher k. The lowest RMSE is achieved when \n",
    "k\n",
    "=\n",
    "80\n",
    ". However, it is worth mentioning that \n",
    "k\n",
    "=\n",
    "52 and >84 are also good. The result suggests a range of values which can be used in GridSearchCV()for parameter tunning."
   ]
  },
  {
   "cell_type": "code",
   "execution_count": 107,
   "metadata": {
    "id": "4bM81V_hvtwv"
   },
   "outputs": [
    {
     "name": "stdout",
     "output_type": "stream",
     "text": [
      "2.7097656150739744\n",
      "{'n_epochs': 30, 'lr_all': 0.01, 'reg_all': 0.4, 'n_factors': 80}\n"
     ]
    }
   ],
   "source": [
    "# Set the parameter space to tune\n",
    "param_grid = {'n_epochs': [10, 20, 30, 50], 'lr_all': [0.001, 0.005, 0.01, .1],\n",
    "              'reg_all': [0.2, 0.4, 0.6], 'n_factors': [36,52,80,98,100]}\n",
    "\n",
    "# Performing 3-fold gridsearch cross-validation\n",
    "gs_ = GridSearchCV(SVD, param_grid, measures = ['rmse'], cv = 3, n_jobs = -1)\n",
    "\n",
    "# Fitting data\n",
    "gs_.fit(data)\n",
    "\n",
    "# Best RMSE score\n",
    "print(gs_.best_score['rmse'])\n",
    "\n",
    "# Combination of parameters that gave the best RMSE score\n",
    "print(gs_.best_params['rmse'])"
   ]
  },
  {
   "cell_type": "code",
   "execution_count": 108,
   "metadata": {
    "id": "TA_7xe-nnhuu"
   },
   "outputs": [
    {
     "name": "stdout",
     "output_type": "stream",
     "text": [
      "RMSE: 2.6736\n",
      "MAE:  2.1434\n",
      "             algorithm      rmse       mae  precision  recall  f1_score  \\\n",
      "0             KNNbasic  3.185239  2.575525      0.682   0.772     0.724   \n",
      "1       KNNbasic_tuned  2.830942  2.254989      0.698   0.799     0.745   \n",
      "2        KNNbasic_item  2.998977  2.254952      0.658   0.736     0.695   \n",
      "3  KNNbasic_item_tuned  2.903997  2.301706      0.688   0.785     0.733   \n",
      "4                  SVD  2.721453  2.168153      0.696   0.798     0.744   \n",
      "5            SVD_tuned  2.673590  2.143426      0.694   0.799     0.743   \n",
      "\n",
      "   popularity  \n",
      "0        24.3  \n",
      "1        64.9  \n",
      "2        25.1  \n",
      "3        25.5  \n",
      "4       138.3  \n",
      "5        43.2  \n"
     ]
    }
   ],
   "source": [
    "# Build the optimized SVD model using optimal hyperparameter search\n",
    "svd_optimized = SVD(n_epochs = 30, lr_all = 0.01, reg_all = 0.4, n_factors = 80, random_state = 1)\n",
    "\n",
    "# Train the algorithm on the train set\n",
    "svd_optimized = svd_optimized.fit(trainset)\n",
    "\n",
    "\n",
    "# Let us compute precision@k, recall@k, and F_1 score with k = 10, and return the top 10 recommended songs:\n",
    "rmse, mae, precision, recall, f1_score = precision_recall_at_k(svd_optimized)\n",
    "popularity = ranking_songs(get_recommendations(cdf_filtered,'6d625c6557df84b60d90426c0116138b617b9449', svd_optimized))['count_plays'].mean()\n",
    "mod_comp = model_compare(mod_comp,'SVD_tuned',rmse, mae, precision, recall, f1_score, popularity, clean='no')\n",
    "print(mod_comp)"
   ]
  },
  {
   "cell_type": "markdown",
   "metadata": {
    "id": "l3t5JdBmxz8l"
   },
   "source": [
    "**Observations and Insights:**\n",
    "- The tuned SVD model has a slightly lower RMSE and MAE than the base SVD model\n",
    "- the f1_score of the the tuned SVD model increased .01\n",
    "- The popularity of the tuned model dropped significantly\n",
    "- The popularity of the base model may have been affected by a single highly rated song."
   ]
  },
  {
   "cell_type": "code",
   "execution_count": 109,
   "metadata": {
    "id": "s6C1PAfboM8_"
   },
   "outputs": [
    {
     "name": "stdout",
     "output_type": "stream",
     "text": [
      "predictions using <surprise.prediction_algorithms.matrix_factorization.SVD object at 0x18ed870a0> for user 6d625c6557df84b60d90426c0116138b617b9449:\n",
      "*************************\n",
      "prediction for Red Dirt Road by Brooks and Dunn\n",
      "user: 6d625c6557df84b60d90426c0116138b617b9449 item: SODBSUF12A8C141975 r_ui = 10.00   est = 8.22   {'was_impossible': False}\n",
      "*************************\n",
      "predictions for Till I collapse by Eminem and Nate Dogg\n",
      "user: 6d625c6557df84b60d90426c0116138b617b9449 item: SOBPKPW12A6701E8F9 r_ui = 1.00   est = 4.71   {'was_impossible': False}\n",
      "*************************\n",
      "prediction for SOTTGXB12A6701FA0B by Phoenix (other pheonix songs are 7.6\n",
      "user: 6d625c6557df84b60d90426c0116138b617b9449 item: SOTTGXB12A6701FA0B r_ui = None   est = 5.13   {'was_impossible': False}\n"
     ]
    }
   ],
   "source": [
    "# Using svd_algo_optimized model to recommend for user heard and unheard songs\n",
    "make_pred(svd_optimized)"
   ]
  },
  {
   "cell_type": "markdown",
   "metadata": {
    "id": "Qm732Wuvy76R"
   },
   "source": [
    "**Observations and Insights:**\n",
    "- The predictions for the heard song with rating 10 is about the same as the untuned model\n",
    "- the prediction for the heard song with rating 1 came up a bit to 2\n",
    "- In general the predicted ratings are much better than the non matrix factorization models, but tuning the SVD model did not improve performance much if at all."
   ]
  },
  {
   "cell_type": "code",
   "execution_count": 111,
   "metadata": {},
   "outputs": [
    {
     "data": {
      "text/html": [
       "<div>\n",
       "<style scoped>\n",
       "    .dataframe tbody tr th:only-of-type {\n",
       "        vertical-align: middle;\n",
       "    }\n",
       "\n",
       "    .dataframe tbody tr th {\n",
       "        vertical-align: top;\n",
       "    }\n",
       "\n",
       "    .dataframe thead th {\n",
       "        text-align: right;\n",
       "    }\n",
       "</style>\n",
       "<table border=\"1\" class=\"dataframe\">\n",
       "  <thead>\n",
       "    <tr style=\"text-align: right;\">\n",
       "      <th></th>\n",
       "      <th>title</th>\n",
       "      <th>artist_name</th>\n",
       "      <th>count_plays</th>\n",
       "      <th>predicted_interaction</th>\n",
       "      <th>corrected_ratings</th>\n",
       "    </tr>\n",
       "  </thead>\n",
       "  <tbody>\n",
       "    <tr>\n",
       "      <th>0</th>\n",
       "      <td>Catch You Baby (Steve Pitron &amp; Max Sanna Radio...</td>\n",
       "      <td>Lonnie Gordon</td>\n",
       "      <td>616</td>\n",
       "      <td>10.000000</td>\n",
       "      <td>9.959709</td>\n",
       "    </tr>\n",
       "    <tr>\n",
       "      <th>1</th>\n",
       "      <td>Clara meets Slope - Hard To Say</td>\n",
       "      <td>Clara Hill</td>\n",
       "      <td>89</td>\n",
       "      <td>9.879379</td>\n",
       "      <td>9.773379</td>\n",
       "    </tr>\n",
       "    <tr>\n",
       "      <th>2</th>\n",
       "      <td>Make Her Say</td>\n",
       "      <td>Kid Cudi / Kanye West / Common</td>\n",
       "      <td>156</td>\n",
       "      <td>9.186673</td>\n",
       "      <td>9.106609</td>\n",
       "    </tr>\n",
       "    <tr>\n",
       "      <th>3</th>\n",
       "      <td>Something (Album Version)</td>\n",
       "      <td>Jaci Velasquez</td>\n",
       "      <td>95</td>\n",
       "      <td>8.532769</td>\n",
       "      <td>8.430171</td>\n",
       "    </tr>\n",
       "    <tr>\n",
       "      <th>4</th>\n",
       "      <td>Electric Feel</td>\n",
       "      <td>MGMT</td>\n",
       "      <td>179</td>\n",
       "      <td>8.380396</td>\n",
       "      <td>8.305653</td>\n",
       "    </tr>\n",
       "    <tr>\n",
       "      <th>5</th>\n",
       "      <td>He's A Pirate</td>\n",
       "      <td>Klaus Badelt</td>\n",
       "      <td>20</td>\n",
       "      <td>8.514556</td>\n",
       "      <td>8.290949</td>\n",
       "    </tr>\n",
       "    <tr>\n",
       "      <th>6</th>\n",
       "      <td>221</td>\n",
       "      <td>keller williams</td>\n",
       "      <td>51</td>\n",
       "      <td>8.379492</td>\n",
       "      <td>8.239464</td>\n",
       "    </tr>\n",
       "    <tr>\n",
       "      <th>7</th>\n",
       "      <td>Gunn Clapp</td>\n",
       "      <td>O.G.C.</td>\n",
       "      <td>86</td>\n",
       "      <td>8.313128</td>\n",
       "      <td>8.205295</td>\n",
       "    </tr>\n",
       "    <tr>\n",
       "      <th>8</th>\n",
       "      <td>Call It Off (Album Version)</td>\n",
       "      <td>Tegan And Sara</td>\n",
       "      <td>66</td>\n",
       "      <td>8.098702</td>\n",
       "      <td>7.975610</td>\n",
       "    </tr>\n",
       "    <tr>\n",
       "      <th>9</th>\n",
       "      <td>Girls</td>\n",
       "      <td>Death In Vegas</td>\n",
       "      <td>25</td>\n",
       "      <td>8.072738</td>\n",
       "      <td>7.872738</td>\n",
       "    </tr>\n",
       "  </tbody>\n",
       "</table>\n",
       "</div>"
      ],
      "text/plain": [
       "                                               title  \\\n",
       "0  Catch You Baby (Steve Pitron & Max Sanna Radio...   \n",
       "1                    Clara meets Slope - Hard To Say   \n",
       "2                                       Make Her Say   \n",
       "3                          Something (Album Version)   \n",
       "4                                      Electric Feel   \n",
       "5                                      He's A Pirate   \n",
       "6                                                221   \n",
       "7                                         Gunn Clapp   \n",
       "8                        Call It Off (Album Version)   \n",
       "9                                              Girls   \n",
       "\n",
       "                      artist_name  count_plays  predicted_interaction  \\\n",
       "0                   Lonnie Gordon          616              10.000000   \n",
       "1                      Clara Hill           89               9.879379   \n",
       "2  Kid Cudi / Kanye West / Common          156               9.186673   \n",
       "3                  Jaci Velasquez           95               8.532769   \n",
       "4                            MGMT          179               8.380396   \n",
       "5                    Klaus Badelt           20               8.514556   \n",
       "6                 keller williams           51               8.379492   \n",
       "7                          O.G.C.           86               8.313128   \n",
       "8                  Tegan And Sara           66               8.098702   \n",
       "9                  Death In Vegas           25               8.072738   \n",
       "\n",
       "   corrected_ratings  \n",
       "0           9.959709  \n",
       "1           9.773379  \n",
       "2           9.106609  \n",
       "3           8.430171  \n",
       "4           8.305653  \n",
       "5           8.290949  \n",
       "6           8.239464  \n",
       "7           8.205295  \n",
       "8           7.975610  \n",
       "9           7.872738  "
      ]
     },
     "execution_count": 111,
     "metadata": {},
     "output_type": "execute_result"
    }
   ],
   "source": [
    "# Ranking songs based on above recommendations\n",
    "ranking_songs(get_recommendations(cdf_filtered,'6d625c6557df84b60d90426c0116138b617b9449', svd))"
   ]
  },
  {
   "cell_type": "code",
   "execution_count": 110,
   "metadata": {
    "id": "6ngiGSJU818M"
   },
   "outputs": [
    {
     "data": {
      "text/html": [
       "<div>\n",
       "<style scoped>\n",
       "    .dataframe tbody tr th:only-of-type {\n",
       "        vertical-align: middle;\n",
       "    }\n",
       "\n",
       "    .dataframe tbody tr th {\n",
       "        vertical-align: top;\n",
       "    }\n",
       "\n",
       "    .dataframe thead th {\n",
       "        text-align: right;\n",
       "    }\n",
       "</style>\n",
       "<table border=\"1\" class=\"dataframe\">\n",
       "  <thead>\n",
       "    <tr style=\"text-align: right;\">\n",
       "      <th></th>\n",
       "      <th>title</th>\n",
       "      <th>artist_name</th>\n",
       "      <th>count_plays</th>\n",
       "      <th>predicted_interaction</th>\n",
       "      <th>corrected_ratings</th>\n",
       "    </tr>\n",
       "  </thead>\n",
       "  <tbody>\n",
       "    <tr>\n",
       "      <th>0</th>\n",
       "      <td>False Pretense</td>\n",
       "      <td>The Red Jumpsuit Apparatus</td>\n",
       "      <td>21</td>\n",
       "      <td>7.612781</td>\n",
       "      <td>7.394563</td>\n",
       "    </tr>\n",
       "    <tr>\n",
       "      <th>1</th>\n",
       "      <td>Sorrow (1997 Digital Remaster)</td>\n",
       "      <td>David Bowie</td>\n",
       "      <td>77</td>\n",
       "      <td>6.734795</td>\n",
       "      <td>6.620835</td>\n",
       "    </tr>\n",
       "    <tr>\n",
       "      <th>2</th>\n",
       "      <td>I'd Hate To Be You When People Find Out What T...</td>\n",
       "      <td>Mayday Parade</td>\n",
       "      <td>21</td>\n",
       "      <td>6.831190</td>\n",
       "      <td>6.612972</td>\n",
       "    </tr>\n",
       "    <tr>\n",
       "      <th>3</th>\n",
       "      <td>Recado Falado (Metrô Da Saudade)</td>\n",
       "      <td>Alceu Valença</td>\n",
       "      <td>143</td>\n",
       "      <td>6.648431</td>\n",
       "      <td>6.564807</td>\n",
       "    </tr>\n",
       "    <tr>\n",
       "      <th>4</th>\n",
       "      <td>Q-Ball</td>\n",
       "      <td>Brotha Lynch Hung</td>\n",
       "      <td>33</td>\n",
       "      <td>6.705204</td>\n",
       "      <td>6.531126</td>\n",
       "    </tr>\n",
       "    <tr>\n",
       "      <th>5</th>\n",
       "      <td>Underground</td>\n",
       "      <td>Eminem</td>\n",
       "      <td>24</td>\n",
       "      <td>6.631778</td>\n",
       "      <td>6.427654</td>\n",
       "    </tr>\n",
       "    <tr>\n",
       "      <th>6</th>\n",
       "      <td>Cold Blooded (Acid Cleanse)</td>\n",
       "      <td>The fFormula</td>\n",
       "      <td>38</td>\n",
       "      <td>6.565968</td>\n",
       "      <td>6.403747</td>\n",
       "    </tr>\n",
       "    <tr>\n",
       "      <th>7</th>\n",
       "      <td>Walk Through Hell (featuring Max Bemis Acousti...</td>\n",
       "      <td>Say Anything</td>\n",
       "      <td>31</td>\n",
       "      <td>6.578550</td>\n",
       "      <td>6.398944</td>\n",
       "    </tr>\n",
       "    <tr>\n",
       "      <th>8</th>\n",
       "      <td>Night Village</td>\n",
       "      <td>Deep Forest</td>\n",
       "      <td>20</td>\n",
       "      <td>6.575026</td>\n",
       "      <td>6.351420</td>\n",
       "    </tr>\n",
       "    <tr>\n",
       "      <th>9</th>\n",
       "      <td>Drive</td>\n",
       "      <td>Savatage</td>\n",
       "      <td>24</td>\n",
       "      <td>6.539166</td>\n",
       "      <td>6.335042</td>\n",
       "    </tr>\n",
       "  </tbody>\n",
       "</table>\n",
       "</div>"
      ],
      "text/plain": [
       "                                               title  \\\n",
       "0                                     False Pretense   \n",
       "1                     Sorrow (1997 Digital Remaster)   \n",
       "2  I'd Hate To Be You When People Find Out What T...   \n",
       "3                   Recado Falado (Metrô Da Saudade)   \n",
       "4                                             Q-Ball   \n",
       "5                                        Underground   \n",
       "6                        Cold Blooded (Acid Cleanse)   \n",
       "7  Walk Through Hell (featuring Max Bemis Acousti...   \n",
       "8                                      Night Village   \n",
       "9                                              Drive   \n",
       "\n",
       "                  artist_name  count_plays  predicted_interaction  \\\n",
       "0  The Red Jumpsuit Apparatus           21               7.612781   \n",
       "1                 David Bowie           77               6.734795   \n",
       "2               Mayday Parade           21               6.831190   \n",
       "3               Alceu Valença          143               6.648431   \n",
       "4           Brotha Lynch Hung           33               6.705204   \n",
       "5                      Eminem           24               6.631778   \n",
       "6                The fFormula           38               6.565968   \n",
       "7                Say Anything           31               6.578550   \n",
       "8                 Deep Forest           20               6.575026   \n",
       "9                    Savatage           24               6.539166   \n",
       "\n",
       "   corrected_ratings  \n",
       "0           7.394563  \n",
       "1           6.620835  \n",
       "2           6.612972  \n",
       "3           6.564807  \n",
       "4           6.531126  \n",
       "5           6.427654  \n",
       "6           6.403747  \n",
       "7           6.398944  \n",
       "8           6.351420  \n",
       "9           6.335042  "
      ]
     },
     "execution_count": 110,
     "metadata": {},
     "output_type": "execute_result"
    }
   ],
   "source": [
    "# Ranking songs based on above recommendations\n",
    "ranking_songs(get_recommendations(cdf_filtered,'6d625c6557df84b60d90426c0116138b617b9449', svd_optimized))"
   ]
  },
  {
   "cell_type": "markdown",
   "metadata": {
    "id": "SepUU1Efy_9Z"
   },
   "source": [
    "**Observations and Insights:**\n",
    "- The recommended songs from the tuned svd model are much different than the untuned svd model\n",
    "- In general, it seems that the tuned model is recommending less popular songs"
   ]
  },
  {
   "cell_type": "markdown",
   "metadata": {
    "id": "57b31de5"
   },
   "source": [
    "### Cluster Based Recommendation System"
   ]
  },
  {
   "cell_type": "markdown",
   "metadata": {
    "id": "9Xv2AZCszCdN"
   },
   "source": [
    "In **clustering-based recommendation systems**, we explore the **similarities and differences** in people's tastes in songs based on how they rate different songs. We cluster similar users together and recommend songs to a user based on play_counts from other users in the same cluster."
   ]
  },
  {
   "cell_type": "code",
   "execution_count": 112,
   "metadata": {
    "id": "0c4b20e4"
   },
   "outputs": [
    {
     "name": "stdout",
     "output_type": "stream",
     "text": [
      "RMSE: 2.9591\n",
      "MAE:  2.2116\n",
      "             algorithm      rmse       mae  precision  recall  f1_score  \\\n",
      "0             KNNbasic  3.185239  2.575525      0.682   0.772     0.724   \n",
      "1       KNNbasic_tuned  2.830942  2.254989      0.698   0.799     0.745   \n",
      "2        KNNbasic_item  2.998977  2.254952      0.658   0.736     0.695   \n",
      "3  KNNbasic_item_tuned  2.903997  2.301706      0.688   0.785     0.733   \n",
      "4                  SVD  2.721453  2.168153      0.696   0.798     0.744   \n",
      "5            SVD_tuned  2.673590  2.143426      0.694   0.799     0.743   \n",
      "6         CoClustering  2.959111  2.211564      0.622   0.666     0.643   \n",
      "\n",
      "   popularity  \n",
      "0        24.3  \n",
      "1        64.9  \n",
      "2        25.1  \n",
      "3        25.5  \n",
      "4       138.3  \n",
      "5        43.2  \n",
      "6        37.3  \n"
     ]
    }
   ],
   "source": [
    "# Make baseline clustering model\n",
    "# Using CoClustering algorithm\n",
    "clust_baseline = CoClustering(random_state = 1)\n",
    "\n",
    "# Training the algorithm on the train set\n",
    "clust_baseline.fit(trainset)\n",
    "\n",
    "# Let us compute precision@k, recall@k, and F_1 score with k = 10, and return the top 10 recommended songs:\n",
    "rmse, mae, precision, recall, f1_score = precision_recall_at_k(clust_baseline)\n",
    "popularity = ranking_songs(get_recommendations(cdf_filtered,'6d625c6557df84b60d90426c0116138b617b9449', clust_baseline))['count_plays'].mean()\n",
    "mod_comp = model_compare(mod_comp,'CoClustering',rmse, mae, precision, recall, f1_score, popularity, clean='no')\n",
    "print(mod_comp)"
   ]
  },
  {
   "cell_type": "markdown",
   "metadata": {},
   "source": [
    "**Observations and Insights:**\n",
    "- The clustering model has an RMSE of 2.9 and MAE of 2.2\n",
    "- The f1 score is .643\n",
    "- Overal the clustering metrics are performing similarly slightly poorer compared to other models"
   ]
  },
  {
   "cell_type": "code",
   "execution_count": 113,
   "metadata": {
    "id": "11dbdc0f"
   },
   "outputs": [
    {
     "name": "stdout",
     "output_type": "stream",
     "text": [
      "predictions using <surprise.prediction_algorithms.co_clustering.CoClustering object at 0x18ed866e0> for user 6d625c6557df84b60d90426c0116138b617b9449:\n",
      "*************************\n",
      "prediction for Red Dirt Road by Brooks and Dunn\n",
      "user: 6d625c6557df84b60d90426c0116138b617b9449 item: SODBSUF12A8C141975 r_ui = 10.00   est = 4.71   {'was_impossible': False}\n",
      "*************************\n",
      "predictions for Till I collapse by Eminem and Nate Dogg\n",
      "user: 6d625c6557df84b60d90426c0116138b617b9449 item: SOBPKPW12A6701E8F9 r_ui = 1.00   est = 4.00   {'was_impossible': False}\n",
      "*************************\n",
      "prediction for SOTTGXB12A6701FA0B by Phoenix (other pheonix songs are 7.6\n",
      "user: 6d625c6557df84b60d90426c0116138b617b9449 item: SOTTGXB12A6701FA0B r_ui = None   est = 3.17   {'was_impossible': False}\n"
     ]
    }
   ],
   "source": [
    "# Making predictions for heard and unheard songs\n",
    "make_pred(clust_baseline)"
   ]
  },
  {
   "cell_type": "markdown",
   "metadata": {},
   "source": [
    "**Observations and Insights:**\n",
    "- The predicted rating for the song with rating 10 is 4.71\n",
    "- The predictions for the other heard song with raitng 1 is 4"
   ]
  },
  {
   "cell_type": "markdown",
   "metadata": {
    "id": "c2fd66f5"
   },
   "source": [
    "#### Improving clustering-based recommendation system by tuning its hyper-parameters"
   ]
  },
  {
   "cell_type": "code",
   "execution_count": 114,
   "metadata": {
    "id": "efe7d8e6"
   },
   "outputs": [
    {
     "name": "stdout",
     "output_type": "stream",
     "text": [
      "3.0094114249385258\n",
      "{'n_cltr_u': 3, 'n_cltr_i': 3, 'n_epochs': 40}\n"
     ]
    }
   ],
   "source": [
    "# Set the parameter space to tune\n",
    "param_grid = {'n_cltr_u': [3, 9, 18, 36], 'n_cltr_i': [3, 9, 18, 36], 'n_epochs': [30, 40, 50]}\n",
    "\n",
    "# Performing 3-Fold gridsearch cross-validation\n",
    "gs = GridSearchCV(CoClustering, param_grid, measures = ['rmse'], cv = 3, n_jobs = -1)\n",
    "\n",
    "# Fitting data\n",
    "gs.fit(data)\n",
    "\n",
    "# Printing the best RMSE score\n",
    "print(gs.best_score['rmse'])\n",
    "\n",
    "# Printing the combination of parameters that gives the best RMSE score\n",
    "print(gs.best_params['rmse'])"
   ]
  },
  {
   "cell_type": "markdown",
   "metadata": {
    "id": "CS6aMVJLyj21"
   },
   "source": [
    "**Think About It**: How do the parameters affect the performance of the model? Can we improve the performance of the model further? Check the available hyperparameters [here](https://surprise.readthedocs.io/en/stable/co_clustering.html)."
   ]
  },
  {
   "cell_type": "code",
   "execution_count": 116,
   "metadata": {
    "id": "5a7a8a30"
   },
   "outputs": [
    {
     "name": "stdout",
     "output_type": "stream",
     "text": [
      "RMSE: 2.9613\n",
      "MAE:  2.2139\n",
      "             algorithm      rmse       mae  precision  recall  f1_score  \\\n",
      "0             KNNbasic  3.185239  2.575525      0.682   0.772     0.724   \n",
      "1       KNNbasic_tuned  2.830942  2.254989      0.698   0.799     0.745   \n",
      "2        KNNbasic_item  2.998977  2.254952      0.658   0.736     0.695   \n",
      "3  KNNbasic_item_tuned  2.903997  2.301706      0.688   0.785     0.733   \n",
      "4                  SVD  2.721453  2.168153      0.696   0.798     0.744   \n",
      "5            SVD_tuned  2.673590  2.143426      0.694   0.799     0.743   \n",
      "6         CoClustering  2.959111  2.211564      0.622   0.666     0.643   \n",
      "7   CoClustering_tuned  2.961292  2.213922      0.622   0.666     0.643   \n",
      "\n",
      "   popularity  \n",
      "0        24.3  \n",
      "1        64.9  \n",
      "2        25.1  \n",
      "3        25.5  \n",
      "4       138.3  \n",
      "5        43.2  \n",
      "6        37.3  \n",
      "7        37.3  \n"
     ]
    }
   ],
   "source": [
    "# Using tuned Coclustering algorithm\n",
    "clust_tuned = CoClustering(n_cltr_u = 3, n_cltr_i = 3, n_epochs = 40, random_state = 1)\n",
    "\n",
    "# Training the algorithm on the train set\n",
    "clust_tuned.fit(trainset)\n",
    "\n",
    "# Let us compute precision@k, recall@k, and F_1 score with k = 10, and return the top 10 recommended songs:\n",
    "rmse, mae, precision, recall, f1_score = precision_recall_at_k(clust_tuned)\n",
    "popularity = ranking_songs(get_recommendations(cdf_filtered,'6d625c6557df84b60d90426c0116138b617b9449', clust_tuned))['count_plays'].mean()\n",
    "mod_comp = model_compare(mod_comp,'CoClustering_tuned',rmse, mae, precision, recall, f1_score, popularity, clean='no')\n",
    "print(mod_comp)"
   ]
  },
  {
   "cell_type": "markdown",
   "metadata": {
    "id": "l-Jvce1gznKa"
   },
   "source": [
    "**Observations and Insights:**\n",
    "- Tuning the clustering model has not improved it"
   ]
  },
  {
   "cell_type": "code",
   "execution_count": 117,
   "metadata": {
    "id": "6ba5b26b"
   },
   "outputs": [
    {
     "name": "stdout",
     "output_type": "stream",
     "text": [
      "predictions using <surprise.prediction_algorithms.co_clustering.CoClustering object at 0x18ed86d10> for user 6d625c6557df84b60d90426c0116138b617b9449:\n",
      "*************************\n",
      "prediction for Red Dirt Road by Brooks and Dunn\n",
      "user: 6d625c6557df84b60d90426c0116138b617b9449 item: SODBSUF12A8C141975 r_ui = 10.00   est = 4.70   {'was_impossible': False}\n",
      "*************************\n",
      "predictions for Till I collapse by Eminem and Nate Dogg\n",
      "user: 6d625c6557df84b60d90426c0116138b617b9449 item: SOBPKPW12A6701E8F9 r_ui = 1.00   est = 3.99   {'was_impossible': False}\n",
      "*************************\n",
      "prediction for SOTTGXB12A6701FA0B by Phoenix (other pheonix songs are 7.6\n",
      "user: 6d625c6557df84b60d90426c0116138b617b9449 item: SOTTGXB12A6701FA0B r_ui = None   est = 3.23   {'was_impossible': False}\n"
     ]
    }
   ],
   "source": [
    "# Using co_clustering_optimized model to recommend for user heard and unheard songs\n",
    "make_pred(clust_tuned)"
   ]
  },
  {
   "cell_type": "markdown",
   "metadata": {
    "id": "rjGUSMqrzoDH"
   },
   "source": [
    "**Observations and Insights:**\n",
    "- The prediction for the heard song with rating 10 is 3.7"
   ]
  },
  {
   "cell_type": "markdown",
   "metadata": {
    "id": "f1696941"
   },
   "source": [
    "### Correcting the play_count and Ranking the above songs"
   ]
  },
  {
   "cell_type": "code",
   "execution_count": 118,
   "metadata": {},
   "outputs": [
    {
     "data": {
      "text/html": [
       "<div>\n",
       "<style scoped>\n",
       "    .dataframe tbody tr th:only-of-type {\n",
       "        vertical-align: middle;\n",
       "    }\n",
       "\n",
       "    .dataframe tbody tr th {\n",
       "        vertical-align: top;\n",
       "    }\n",
       "\n",
       "    .dataframe thead th {\n",
       "        text-align: right;\n",
       "    }\n",
       "</style>\n",
       "<table border=\"1\" class=\"dataframe\">\n",
       "  <thead>\n",
       "    <tr style=\"text-align: right;\">\n",
       "      <th></th>\n",
       "      <th>title</th>\n",
       "      <th>artist_name</th>\n",
       "      <th>count_plays</th>\n",
       "      <th>predicted_interaction</th>\n",
       "      <th>corrected_ratings</th>\n",
       "    </tr>\n",
       "  </thead>\n",
       "  <tbody>\n",
       "    <tr>\n",
       "      <th>0</th>\n",
       "      <td>Love Is Gone (Original Mix)</td>\n",
       "      <td>David Guetta - Joachim Garraud - Chris Willis</td>\n",
       "      <td>20</td>\n",
       "      <td>8.561523</td>\n",
       "      <td>8.337917</td>\n",
       "    </tr>\n",
       "    <tr>\n",
       "      <th>1</th>\n",
       "      <td>Cold Blooded (Acid Cleanse)</td>\n",
       "      <td>The fFormula</td>\n",
       "      <td>38</td>\n",
       "      <td>8.275809</td>\n",
       "      <td>8.113588</td>\n",
       "    </tr>\n",
       "    <tr>\n",
       "      <th>2</th>\n",
       "      <td>The World Is Mine</td>\n",
       "      <td>David Guetta</td>\n",
       "      <td>21</td>\n",
       "      <td>8.056761</td>\n",
       "      <td>7.838544</td>\n",
       "    </tr>\n",
       "    <tr>\n",
       "      <th>3</th>\n",
       "      <td>What Is Light? Where Is Laughter? (Album Version)</td>\n",
       "      <td>Twin Atlantic</td>\n",
       "      <td>20</td>\n",
       "      <td>7.872448</td>\n",
       "      <td>7.648841</td>\n",
       "    </tr>\n",
       "    <tr>\n",
       "      <th>4</th>\n",
       "      <td>Kelma</td>\n",
       "      <td>Rachid Taha</td>\n",
       "      <td>58</td>\n",
       "      <td>7.642269</td>\n",
       "      <td>7.510962</td>\n",
       "    </tr>\n",
       "    <tr>\n",
       "      <th>5</th>\n",
       "      <td>Love Is Not A Fight</td>\n",
       "      <td>Warren Barfield</td>\n",
       "      <td>36</td>\n",
       "      <td>7.561523</td>\n",
       "      <td>7.394857</td>\n",
       "    </tr>\n",
       "    <tr>\n",
       "      <th>6</th>\n",
       "      <td>I Wonder Why</td>\n",
       "      <td>Dion &amp; The Belmonts</td>\n",
       "      <td>41</td>\n",
       "      <td>7.517873</td>\n",
       "      <td>7.361699</td>\n",
       "    </tr>\n",
       "    <tr>\n",
       "      <th>7</th>\n",
       "      <td>Hasta siempre</td>\n",
       "      <td>Varios</td>\n",
       "      <td>20</td>\n",
       "      <td>7.552595</td>\n",
       "      <td>7.328988</td>\n",
       "    </tr>\n",
       "    <tr>\n",
       "      <th>8</th>\n",
       "      <td>Numb (Album Version)</td>\n",
       "      <td>Disturbed</td>\n",
       "      <td>68</td>\n",
       "      <td>7.418666</td>\n",
       "      <td>7.297398</td>\n",
       "    </tr>\n",
       "    <tr>\n",
       "      <th>9</th>\n",
       "      <td>221</td>\n",
       "      <td>keller williams</td>\n",
       "      <td>51</td>\n",
       "      <td>7.411147</td>\n",
       "      <td>7.271119</td>\n",
       "    </tr>\n",
       "  </tbody>\n",
       "</table>\n",
       "</div>"
      ],
      "text/plain": [
       "                                               title  \\\n",
       "0                        Love Is Gone (Original Mix)   \n",
       "1                        Cold Blooded (Acid Cleanse)   \n",
       "2                                  The World Is Mine   \n",
       "3  What Is Light? Where Is Laughter? (Album Version)   \n",
       "4                                              Kelma   \n",
       "5                                Love Is Not A Fight   \n",
       "6                                       I Wonder Why   \n",
       "7                                      Hasta siempre   \n",
       "8                               Numb (Album Version)   \n",
       "9                                                221   \n",
       "\n",
       "                                     artist_name  count_plays  \\\n",
       "0  David Guetta - Joachim Garraud - Chris Willis           20   \n",
       "1                                   The fFormula           38   \n",
       "2                                   David Guetta           21   \n",
       "3                                  Twin Atlantic           20   \n",
       "4                                    Rachid Taha           58   \n",
       "5                                Warren Barfield           36   \n",
       "6                            Dion & The Belmonts           41   \n",
       "7                                         Varios           20   \n",
       "8                                      Disturbed           68   \n",
       "9                                keller williams           51   \n",
       "\n",
       "   predicted_interaction  corrected_ratings  \n",
       "0               8.561523           8.337917  \n",
       "1               8.275809           8.113588  \n",
       "2               8.056761           7.838544  \n",
       "3               7.872448           7.648841  \n",
       "4               7.642269           7.510962  \n",
       "5               7.561523           7.394857  \n",
       "6               7.517873           7.361699  \n",
       "7               7.552595           7.328988  \n",
       "8               7.418666           7.297398  \n",
       "9               7.411147           7.271119  "
      ]
     },
     "execution_count": 118,
     "metadata": {},
     "output_type": "execute_result"
    }
   ],
   "source": [
    "# Ranking songs based on the above recommendations\n",
    "ranking_songs(get_recommendations(cdf_filtered,'6d625c6557df84b60d90426c0116138b617b9449', clust_tuned))"
   ]
  },
  {
   "cell_type": "markdown",
   "metadata": {
    "id": "_uJ_nZjBzvKH"
   },
   "source": [
    "**Observations and Insights:**\n",
    "- Ther top 10 recommended songs are similar to the user-user and SVD models"
   ]
  },
  {
   "cell_type": "markdown",
   "metadata": {
    "id": "5U56oSNsR-F2"
   },
   "source": [
    "# Part II: Content Based Recommendation System"
   ]
  },
  {
   "cell_type": "markdown",
   "metadata": {
    "id": "9aTEqaOjhoEg"
   },
   "source": [
    "So far we have only used the play_count of songs to find recommendations but we have other information/features on songs as well, and these features can be used to increase the personalization of the recommendation system. For example, we can use the artist name and album title to recommend songs to users from artists/albums they like but songs they have not heard yet. We can also include the year the song was released and recommedn music from the same time period. "
   ]
  },
  {
   "cell_type": "markdown",
   "metadata": {
    "id": "RhUx2jgp4frC"
   },
   "source": [
    "### Some Useful Functions"
   ]
  },
  {
   "cell_type": "markdown",
   "metadata": {},
   "source": [
    "function to pre-process the text data:"
   ]
  },
  {
   "cell_type": "code",
   "execution_count": 119,
   "metadata": {},
   "outputs": [],
   "source": [
    "# Create the tokenize function\n",
    "def tokenize(text):\n",
    "    \n",
    "    # Making each letter as lowercase and removing non-alphabetical text\n",
    "    text = re.sub(r\"[^a-zA-Z]\",\" \", text.lower())\n",
    "    \n",
    "    # Extracting each word in the text\n",
    "    tokens = word_tokenize(text)\n",
    "    \n",
    "    # Removing stopwords\n",
    "    words = [word for word in tokens if word not in stopwords.words(\"english\")]\n",
    "    \n",
    "    # Lemmatize the words\n",
    "    text_lems = [WordNetLemmatizer().lemmatize(lem).strip() for lem in words]\n",
    "\n",
    "    return text_lems"
   ]
  },
  {
   "cell_type": "markdown",
   "metadata": {},
   "source": [
    "Function to get top 20 similar songs based on text cosign similarity:"
   ]
  },
  {
   "cell_type": "code",
   "execution_count": 120,
   "metadata": {},
   "outputs": [],
   "source": [
    "# Function that takes in song_id artist and album as input and returns the top 20 recommended songs\n",
    "def text_recommendations(song_id, similar_songs):\n",
    "    \n",
    "    recommended_songs = []\n",
    "    \n",
    "    indices = pd.Series(artistAlbum_text.index)\n",
    "    \n",
    "    # Getting the index of the movie that matches the title\n",
    "    idx = indices[indices == song_id].index[0]\n",
    "\n",
    "    # Creating a Series with the similarity scores in descending order\n",
    "    score_series = pd.Series(similar_songs[idx]).sort_values(ascending = False)\n",
    "\n",
    "    # Getting the indices of 20 most similar songs\n",
    "    top_20_indexes = list(score_series.iloc[1 : 21].index)\n",
    "    # print(top_20_indexes)\n",
    "    \n",
    "    # Populating the list with the titles of the best 10 matching movies\n",
    "    for i in top_20_indexes:\n",
    "        recommended_songs.append(list(artistAlbum_text.index)[i])\n",
    "        \n",
    "    return recommended_songs"
   ]
  },
  {
   "cell_type": "markdown",
   "metadata": {},
   "source": [
    "Function to get user recommendations from cosign similarity text matrix based on a users top listened to songs:"
   ]
  },
  {
   "cell_type": "code",
   "execution_count": 121,
   "metadata": {},
   "outputs": [],
   "source": [
    "def get_text_recommendations(data, user_id, similar_songs, algo, top_n=10):\n",
    "    '''\n",
    "    This function takes a data frame, a user_id, the cosign similarity matrix, a model, and the top n songs\n",
    "    and recommends the top n songs based on the text similarity to artist and album name for a user based on their listening preferences\n",
    "    '''\n",
    "    # Creating an empty list to store the recommended song IDs\n",
    "    recommendations = []\n",
    "    \n",
    "    # Get top rated songs for a user\n",
    "    top_user_songs = data.loc[(data['user_id'] == user_id),['song_id','play_count_scaled']].drop_duplicates().sort_values('play_count_scaled', ascending=False).head(10)\n",
    "    \n",
    "    # Creating an user-item interactions matrix \n",
    "    user_item_interactions_matrix = data.pivot_table(index = 'user_id', columns = 'song_id', values = 'play_count_scaled')\n",
    "    \n",
    "    # Extracting those movie IDs which the userId has not interacted yet\n",
    "    non_interacted_songs = user_item_interactions_matrix.loc[user_id][user_item_interactions_matrix.loc[user_id].isnull()].index.tolist()\n",
    "\n",
    "    # Looping through users top songs and getting recs\n",
    "    for song in top_user_songs['song_id']:\n",
    "        songs = text_recommendations(song, similar_songs)\n",
    "        # print(songs)\n",
    "        for name in songs:\n",
    "            # Looping through each of the movie IDs which userId has not interacted yet\n",
    "            if name in non_interacted_songs:\n",
    "\n",
    "                # Predicting the ratings for those non interacted movie IDs by this user\n",
    "                est = algo.predict(user_id, name).est\n",
    "\n",
    "                # Appending the predicted ratings\n",
    "                recommendations.append((name, est))\n",
    "\n",
    "    # tuples from list of tuples\n",
    "    recommendations = [t for t in (set(tuple(i) for i in recommendations))]\n",
    "     \n",
    "    # Sorting the predicted ratings in descending order\n",
    "    recommendations.sort(key = lambda x: x[1], reverse = True)\n",
    "\n",
    "    # # This is for making a rec list with actually song names instead of song id's:\n",
    "    # df_recs = pd.DataFrame(recommendations[:top_n], columns = ['song_id','plays_count_scaled'])\n",
    "    # df_recs = pd.merge(df_recs,data[['song_id','title','artist_name']], on ='song_id', how =\"left\")\n",
    "    # df_recs = df_recs[['title','artist_name']].drop_duplicates().reset_index(drop=True)\n",
    "    # print(df_recs)\n",
    "    # Returing top n highest predicted rating movies for this user\n",
    "    return recommendations[:top_n]"
   ]
  },
  {
   "cell_type": "markdown",
   "metadata": {},
   "source": [
    "### Preprocessing features for tf-idf"
   ]
  },
  {
   "cell_type": "code",
   "execution_count": 131,
   "metadata": {},
   "outputs": [],
   "source": [
    "# Select the columns 'song_id', 'artist_name', 'release', 'year' from cdf_filtered\n",
    "artistAlbum_text = cdf_filtered[['song_id','artist_name','release','year']].copy()\n",
    "# then create a feature where we convert the int 'year' to a text string for tf-idf\n",
    "artistAlbum_text['year_text'] = ''\n",
    "for idx,years in enumerate(artistAlbum_text['year']):\n",
    "    if years == 0:\n",
    "        artistAlbum_text.loc[idx,'year_text'] = \"\"\n",
    "    elif years < 1970:\n",
    "        artistAlbum_text.loc[idx,'year_text'] = \"nineteensixties\"\n",
    "    elif 1970 <= years < 1980:\n",
    "        artistAlbum_text.loc[idx,'year_text'] = \"nineteenseventies\"\n",
    "    elif 1980 <= years < 1990:\n",
    "        artistAlbum_text.loc[idx,'year_text'] = \"nineteeneighties\"\n",
    "    elif 1990 <= years < 2000:\n",
    "        artistAlbum_text.loc[idx,'year_text'] = \"nineteennineties\"\n",
    "    elif 2000 <= years < 2010:\n",
    "        artistAlbum_text.loc[idx,'year_text'] = \"twothousandzeros\"\n",
    "    elif 2010 <= years < 2020:\n",
    "        artistAlbum_text.loc[idx,'year_text'] = \"twothousandtens\""
   ]
  },
  {
   "cell_type": "code",
   "execution_count": 132,
   "metadata": {},
   "outputs": [
    {
     "data": {
      "text/html": [
       "<div>\n",
       "<style scoped>\n",
       "    .dataframe tbody tr th:only-of-type {\n",
       "        vertical-align: middle;\n",
       "    }\n",
       "\n",
       "    .dataframe tbody tr th {\n",
       "        vertical-align: top;\n",
       "    }\n",
       "\n",
       "    .dataframe thead th {\n",
       "        text-align: right;\n",
       "    }\n",
       "</style>\n",
       "<table border=\"1\" class=\"dataframe\">\n",
       "  <thead>\n",
       "    <tr style=\"text-align: right;\">\n",
       "      <th></th>\n",
       "      <th>song_id</th>\n",
       "      <th>artist_name</th>\n",
       "      <th>release</th>\n",
       "      <th>year</th>\n",
       "      <th>year_text</th>\n",
       "    </tr>\n",
       "  </thead>\n",
       "  <tbody>\n",
       "    <tr>\n",
       "      <th>0</th>\n",
       "      <td>SODGVGW12AC9075A8D</td>\n",
       "      <td>Justin Bieber</td>\n",
       "      <td>My Worlds</td>\n",
       "      <td>2010</td>\n",
       "      <td>twothousandtens</td>\n",
       "    </tr>\n",
       "    <tr>\n",
       "      <th>1</th>\n",
       "      <td>SODGVGW12AC9075A8D</td>\n",
       "      <td>Justin Bieber</td>\n",
       "      <td>My World 2.0</td>\n",
       "      <td>2010</td>\n",
       "      <td>twothousandtens</td>\n",
       "    </tr>\n",
       "    <tr>\n",
       "      <th>2</th>\n",
       "      <td>SOEPZQS12A8C1436C7</td>\n",
       "      <td>Deadmau5</td>\n",
       "      <td>Ghosts 'n' Stuff</td>\n",
       "      <td>2009</td>\n",
       "      <td>twothousandzeros</td>\n",
       "    </tr>\n",
       "    <tr>\n",
       "      <th>3</th>\n",
       "      <td>SOGDDKR12A6701E8FA</td>\n",
       "      <td>Eminem / Hailie Jade</td>\n",
       "      <td>The Eminem Show</td>\n",
       "      <td>2006</td>\n",
       "      <td>twothousandzeros</td>\n",
       "    </tr>\n",
       "    <tr>\n",
       "      <th>4</th>\n",
       "      <td>SOWGXOP12A6701E93A</td>\n",
       "      <td>Eminem</td>\n",
       "      <td>Without Me</td>\n",
       "      <td>2002</td>\n",
       "      <td>twothousandzeros</td>\n",
       "    </tr>\n",
       "  </tbody>\n",
       "</table>\n",
       "</div>"
      ],
      "text/plain": [
       "              song_id           artist_name           release  year  \\\n",
       "0  SODGVGW12AC9075A8D         Justin Bieber         My Worlds  2010   \n",
       "1  SODGVGW12AC9075A8D         Justin Bieber      My World 2.0  2010   \n",
       "2  SOEPZQS12A8C1436C7              Deadmau5  Ghosts 'n' Stuff  2009   \n",
       "3  SOGDDKR12A6701E8FA  Eminem / Hailie Jade   The Eminem Show  2006   \n",
       "4  SOWGXOP12A6701E93A                Eminem        Without Me  2002   \n",
       "\n",
       "          year_text  \n",
       "0   twothousandtens  \n",
       "1   twothousandtens  \n",
       "2  twothousandzeros  \n",
       "3  twothousandzeros  \n",
       "4  twothousandzeros  "
      ]
     },
     "execution_count": 132,
     "metadata": {},
     "output_type": "execute_result"
    }
   ],
   "source": [
    "artistAlbum_text.head()"
   ]
  },
  {
   "cell_type": "code",
   "execution_count": 133,
   "metadata": {
    "id": "WdXw4U-wR-F4"
   },
   "outputs": [
    {
     "data": {
      "text/html": [
       "<div>\n",
       "<style scoped>\n",
       "    .dataframe tbody tr th:only-of-type {\n",
       "        vertical-align: middle;\n",
       "    }\n",
       "\n",
       "    .dataframe tbody tr th {\n",
       "        vertical-align: top;\n",
       "    }\n",
       "\n",
       "    .dataframe thead th {\n",
       "        text-align: right;\n",
       "    }\n",
       "</style>\n",
       "<table border=\"1\" class=\"dataframe\">\n",
       "  <thead>\n",
       "    <tr style=\"text-align: right;\">\n",
       "      <th></th>\n",
       "      <th>year_text</th>\n",
       "      <th>text</th>\n",
       "    </tr>\n",
       "    <tr>\n",
       "      <th>song_id</th>\n",
       "      <th></th>\n",
       "      <th></th>\n",
       "    </tr>\n",
       "  </thead>\n",
       "  <tbody>\n",
       "    <tr>\n",
       "      <th>SODGVGW12AC9075A8D</th>\n",
       "      <td>twothousandtens</td>\n",
       "      <td>Justin Bieber My Worlds twothousandtens</td>\n",
       "    </tr>\n",
       "    <tr>\n",
       "      <th>SODGVGW12AC9075A8D</th>\n",
       "      <td>twothousandtens</td>\n",
       "      <td>Justin Bieber My World 2.0 twothousandtens</td>\n",
       "    </tr>\n",
       "    <tr>\n",
       "      <th>SOEPZQS12A8C1436C7</th>\n",
       "      <td>twothousandzeros</td>\n",
       "      <td>Deadmau5 Ghosts 'n' Stuff twothousandzeros</td>\n",
       "    </tr>\n",
       "    <tr>\n",
       "      <th>SOGDDKR12A6701E8FA</th>\n",
       "      <td>twothousandzeros</td>\n",
       "      <td>Eminem / Hailie Jade The Eminem Show twothousa...</td>\n",
       "    </tr>\n",
       "    <tr>\n",
       "      <th>SOWGXOP12A6701E93A</th>\n",
       "      <td>twothousandzeros</td>\n",
       "      <td>Eminem Without Me twothousandzeros</td>\n",
       "    </tr>\n",
       "  </tbody>\n",
       "</table>\n",
       "</div>"
      ],
      "text/plain": [
       "                           year_text  \\\n",
       "song_id                                \n",
       "SODGVGW12AC9075A8D   twothousandtens   \n",
       "SODGVGW12AC9075A8D   twothousandtens   \n",
       "SOEPZQS12A8C1436C7  twothousandzeros   \n",
       "SOGDDKR12A6701E8FA  twothousandzeros   \n",
       "SOWGXOP12A6701E93A  twothousandzeros   \n",
       "\n",
       "                                                                 text  \n",
       "song_id                                                                \n",
       "SODGVGW12AC9075A8D            Justin Bieber My Worlds twothousandtens  \n",
       "SODGVGW12AC9075A8D         Justin Bieber My World 2.0 twothousandtens  \n",
       "SOEPZQS12A8C1436C7         Deadmau5 Ghosts 'n' Stuff twothousandzeros  \n",
       "SOGDDKR12A6701E8FA  Eminem / Hailie Jade The Eminem Show twothousa...  \n",
       "SOWGXOP12A6701E93A                 Eminem Without Me twothousandzeros  "
      ]
     },
     "execution_count": 133,
     "metadata": {},
     "output_type": "execute_result"
    }
   ],
   "source": [
    "# concatentate the artist_name and release (album) name into a 'text' feature\n",
    "artistAlbum_text['text'] = artistAlbum_text['artist_name']+' '+artistAlbum_text['release']+' '+artistAlbum_text['year_text']\n",
    "\n",
    "# drop the artist_name and release columns\n",
    "artistAlbum_text.drop(columns = ['artist_name','release','year'], inplace = True)\n",
    "\n",
    "# Let's drop the duplicate records\n",
    "artistAlbum_text.drop_duplicates(inplace = True)\n",
    "\n",
    "# Set the index\n",
    "artistAlbum_text = artistAlbum_text.set_index('song_id')\n",
    "\n",
    "# look at first 5 records\n",
    "artistAlbum_text.head()"
   ]
  },
  {
   "cell_type": "markdown",
   "metadata": {},
   "source": [
    "### tfidf and cosign similarity"
   ]
  },
  {
   "cell_type": "code",
   "execution_count": 134,
   "metadata": {
    "id": "RI_onIGdR-F6"
   },
   "outputs": [],
   "source": [
    "# Create tfidf vectorizer \n",
    "tfidf = TfidfVectorizer(tokenizer = tokenize)\n",
    "# Fit_transfrom the above vectorizer on the text column and then convert the output into an array\n",
    "song_tfidf = tfidf.fit_transform(artistAlbum_text['text'].values).toarray()"
   ]
  },
  {
   "cell_type": "code",
   "execution_count": 135,
   "metadata": {
    "id": "Beak6ODRR-F7"
   },
   "outputs": [],
   "source": [
    "# Compute the cosine similarity for the tfidf above \n",
    "similar_songs = cosine_similarity(song_tfidf, song_tfidf)"
   ]
  },
  {
   "cell_type": "markdown",
   "metadata": {
    "id": "o4EINBmkR-F8"
   },
   "source": [
    "We can now either get recommendations based on a song, or get recommendations for a user with the function we made based on that users top songs"
   ]
  },
  {
   "cell_type": "code",
   "execution_count": 176,
   "metadata": {
    "id": "ohEK5dkVR-F8"
   },
   "outputs": [
    {
     "data": {
      "text/html": [
       "<div>\n",
       "<style scoped>\n",
       "    .dataframe tbody tr th:only-of-type {\n",
       "        vertical-align: middle;\n",
       "    }\n",
       "\n",
       "    .dataframe tbody tr th {\n",
       "        vertical-align: top;\n",
       "    }\n",
       "\n",
       "    .dataframe thead th {\n",
       "        text-align: right;\n",
       "    }\n",
       "</style>\n",
       "<table border=\"1\" class=\"dataframe\">\n",
       "  <thead>\n",
       "    <tr style=\"text-align: right;\">\n",
       "      <th></th>\n",
       "      <th>title</th>\n",
       "      <th>artist_name</th>\n",
       "      <th>count_plays</th>\n",
       "      <th>predicted_interaction</th>\n",
       "      <th>corrected_ratings</th>\n",
       "    </tr>\n",
       "  </thead>\n",
       "  <tbody>\n",
       "    <tr>\n",
       "      <th>0</th>\n",
       "      <td>Cats In The Cradle</td>\n",
       "      <td>Ugly Kid Joe</td>\n",
       "      <td>30</td>\n",
       "      <td>7.789474</td>\n",
       "      <td>7.606899</td>\n",
       "    </tr>\n",
       "    <tr>\n",
       "      <th>1</th>\n",
       "      <td>Cold Blooded (Acid Cleanse)</td>\n",
       "      <td>The fFormula</td>\n",
       "      <td>38</td>\n",
       "      <td>7.000000</td>\n",
       "      <td>6.837779</td>\n",
       "    </tr>\n",
       "    <tr>\n",
       "      <th>2</th>\n",
       "      <td>Hold Me_ Thrill Me_ Kiss Me_ Kill Me</td>\n",
       "      <td>U2</td>\n",
       "      <td>33</td>\n",
       "      <td>6.770725</td>\n",
       "      <td>6.596648</td>\n",
       "    </tr>\n",
       "    <tr>\n",
       "      <th>3</th>\n",
       "      <td>Twilight Galaxy</td>\n",
       "      <td>Metric</td>\n",
       "      <td>28</td>\n",
       "      <td>6.696697</td>\n",
       "      <td>6.507715</td>\n",
       "    </tr>\n",
       "    <tr>\n",
       "      <th>4</th>\n",
       "      <td>Last Nite</td>\n",
       "      <td>The Strokes</td>\n",
       "      <td>21</td>\n",
       "      <td>6.724206</td>\n",
       "      <td>6.505988</td>\n",
       "    </tr>\n",
       "    <tr>\n",
       "      <th>5</th>\n",
       "      <td>The Calculation (Album Version)</td>\n",
       "      <td>Regina Spektor</td>\n",
       "      <td>44</td>\n",
       "      <td>6.636842</td>\n",
       "      <td>6.486086</td>\n",
       "    </tr>\n",
       "    <tr>\n",
       "      <th>6</th>\n",
       "      <td>Mansard Roof (Album)</td>\n",
       "      <td>Vampire Weekend</td>\n",
       "      <td>26</td>\n",
       "      <td>6.587426</td>\n",
       "      <td>6.391310</td>\n",
       "    </tr>\n",
       "    <tr>\n",
       "      <th>7</th>\n",
       "      <td>Face To Face</td>\n",
       "      <td>Daft Punk</td>\n",
       "      <td>32</td>\n",
       "      <td>6.525241</td>\n",
       "      <td>6.348465</td>\n",
       "    </tr>\n",
       "    <tr>\n",
       "      <th>8</th>\n",
       "      <td>Injection</td>\n",
       "      <td>Rise Against</td>\n",
       "      <td>23</td>\n",
       "      <td>6.485387</td>\n",
       "      <td>6.276872</td>\n",
       "    </tr>\n",
       "    <tr>\n",
       "      <th>9</th>\n",
       "      <td>Chinese</td>\n",
       "      <td>Lily Allen</td>\n",
       "      <td>14</td>\n",
       "      <td>6.092105</td>\n",
       "      <td>5.824844</td>\n",
       "    </tr>\n",
       "  </tbody>\n",
       "</table>\n",
       "</div>"
      ],
      "text/plain": [
       "                                  title      artist_name  count_plays  \\\n",
       "0                    Cats In The Cradle     Ugly Kid Joe           30   \n",
       "1           Cold Blooded (Acid Cleanse)     The fFormula           38   \n",
       "2  Hold Me_ Thrill Me_ Kiss Me_ Kill Me               U2           33   \n",
       "3                       Twilight Galaxy           Metric           28   \n",
       "4                             Last Nite      The Strokes           21   \n",
       "5       The Calculation (Album Version)   Regina Spektor           44   \n",
       "6                  Mansard Roof (Album)  Vampire Weekend           26   \n",
       "7                          Face To Face        Daft Punk           32   \n",
       "8                             Injection     Rise Against           23   \n",
       "9                               Chinese       Lily Allen           14   \n",
       "\n",
       "   predicted_interaction  corrected_ratings  \n",
       "0               7.789474           7.606899  \n",
       "1               7.000000           6.837779  \n",
       "2               6.770725           6.596648  \n",
       "3               6.696697           6.507715  \n",
       "4               6.724206           6.505988  \n",
       "5               6.636842           6.486086  \n",
       "6               6.587426           6.391310  \n",
       "7               6.525241           6.348465  \n",
       "8               6.485387           6.276872  \n",
       "9               6.092105           5.824844  "
      ]
     },
     "execution_count": 176,
     "metadata": {},
     "output_type": "execute_result"
    }
   ],
   "source": [
    "# Make recommendation for user \n",
    "ranking_songs(get_text_recommendations(cdf_filtered,'6d625c6557df84b60d90426c0116138b617b9449', similar_songs, sim_item_item_optimized, top_n = 10))"
   ]
  },
  {
   "cell_type": "markdown",
   "metadata": {
    "id": "UQ7iI5QJ0oem"
   },
   "source": [
    "**Observations and Insights:**\n",
    "- This is excellent, we are recommending songs by the same artists/albums the user has likes and adding in some weight for the decade of the users song preferences. \n",
    "- We are also ranking the recommendations based on song popularity, so more listened to songs by other users will be weighted heavier for this user"
   ]
  },
  {
   "cell_type": "markdown",
   "metadata": {},
   "source": [
    "# Part III: hybrid recommendation system\n",
    "We have explored five different recommender methods (six if you include the popularity-based method) for recommending songs to a user in a personalized way. This is all well and good, but how do we know which method is recommending songs the user will actualy listen to? As an avid listener of music, is it not also true that a users preferences can change, and may change drastically during the day or from day to day? It also seems that the models we have presented so far sometimes recommend similar songs, but other models are drastically different as in the item-item recommendations and content based recommendations. In this section, I build a hybrid recommender system which takes into account recommendations from multiple models, applys weights based on which models we want to be most represented in the results, and then provides a 'hybrid' recommendation. "
   ]
  },
  {
   "cell_type": "markdown",
   "metadata": {},
   "source": [
    "### Functions"
   ]
  },
  {
   "cell_type": "markdown",
   "metadata": {},
   "source": [
    "define a function to combine the predictions using the weights to combine recommender matrices from multiple models and compute the RMSE score:"
   ]
  },
  {
   "cell_type": "code",
   "execution_count": 177,
   "metadata": {},
   "outputs": [],
   "source": [
    "def hybrid_prediction(pred_a, pred_b, wA, wB):\n",
    "    \"\"\"\n",
    "    Combines the predictions of Algorithm A and Algorithm B using weights wA and wB, respectively.\n",
    "    Returns the combined predictions and the RMSE score.\n",
    "    \"\"\"\n",
    "    # combine predictions as dataframes\n",
    "    df_a = pd.DataFrame(pred_a)\n",
    "    df_b = pd.DataFrame(pred_b)\n",
    "    \n",
    "    df_hybrid = pd.merge(df_a,df_b, on = ['uid','iid'], how = 'inner')\n",
    "    # print(df_hybrid.head())\n",
    "    # iterate through predictions, apply weight, and add together into hybrid prediction\n",
    "    for i in range(len(df_hybrid)):\n",
    "        df_hybrid.loc[i,'hybrid_rating'] = (wA * df_hybrid.est_x[i]) + (wB * df_hybrid.est_y[i])\n",
    "    # to turn it back into a suprise list of tuples, first slim down and rename columns\n",
    "    df_hybrid = df_hybrid[['uid', 'iid', 'r_ui_x', 'hybrid_rating', 'details_x']].rename(columns={'uid' : 'uid', 'iid' : 'iid', 'r_ui_x' : 'r_ui', 'hybrid_rating' : 'est', 'details_x' : 'details'})\n",
    "    #then convert df to list of tuples\n",
    "    pred_hybrid = list(df_hybrid.itertuples(index=False,name='predictions'))\n",
    "    # return metrics \n",
    "    rmse_score=rmse(pred_hybrid)\n",
    "    mae_score=mae(pred_hybrid)\n",
    "    return df_hybrid, pred_hybrid, rmse_score, mae_score"
   ]
  },
  {
   "cell_type": "markdown",
   "metadata": {},
   "source": [
    "Function to combine matrices from multiple models, with specified weightings, and Content Based recommendations, and output hybrid recommendation list:"
   ]
  },
  {
   "cell_type": "code",
   "execution_count": 184,
   "metadata": {},
   "outputs": [],
   "source": [
    "def hybrid_recommendations(data, user_id, algo_a, algo_b, wA, wB, top_n=10):\n",
    "    '''\n",
    "    Combines the predictions of Algorithm A and Algorithm B using weights wA and wB, respectively.\n",
    "    merges recs from weighted models and Content Based (artist/release) mrecommendations into a single hybrid rec list\n",
    "    Returns the hybrid recommendation list of songs for user.\n",
    "    '''\n",
    "    # Creating an empty list to store the recommended song IDs\n",
    "    recommendations = []\n",
    "    \n",
    "    # Creating an user-item interactions matrix \n",
    "    user_item_interactions_matrix = data.pivot_table(index = 'user_id', columns = 'song_id', values = 'play_count_scaled')\n",
    "    \n",
    "    # Extracting those song IDs which the userId has not interacted yet\n",
    "    non_interacted_movies = user_item_interactions_matrix.loc[user_id][user_item_interactions_matrix.loc[user_id].isnull()].index.tolist()\n",
    "    \n",
    "    # Looping through each of the song IDs which userId has not interacted yet\n",
    "    for item_id in non_interacted_movies:\n",
    "        \n",
    "        # Predicting the ratings for those non interacted song IDs by this user\n",
    "        est_a = algo_a.predict(user_id, item_id).est\n",
    "        est_b = algo_b.predict(user_id, item_id).est\n",
    "        est = wA * est_a + wB * est_b\n",
    "        # Appending the predicted ratings\n",
    "        recommendations.append((item_id, est))\n",
    "\n",
    "    # Sorting the predicted ratings in descending order\n",
    "    recommendations.sort(key = lambda x: x[1], reverse = True)\n",
    "    n = top_n/2\n",
    "    p = top_n/5\n",
    "    u = int(n+p)\n",
    "    v = int(n-p)\n",
    "    play_count_recs = recommendations[:u]\n",
    "    text_recs = get_text_recommendations(data,user_id, similar_songs, sim_item_item_optimized, top_n = v) #  svd_optimized\n",
    "    final_recs = play_count_recs + text_recs\n",
    "\n",
    "    return final_recs"
   ]
  },
  {
   "cell_type": "markdown",
   "metadata": {},
   "source": [
    "Here I fit models and make predictions for two models:\n",
    "- SVD (default settings)\n",
    "- User-User collaborative Filtering (tuned)<br>\n",
    "\n",
    "I chose these two models because both had the best F1_scores metrics, both had fairly good predictions, and both recommended markedly different songs. \n",
    "\n",
    "- I then add in a subset of recommendations from the content-based filtering method to increase the 'familiarity' for the user of the recommended songs/artists\n",
    "\n",
    "This will hopefully provide a highly personalized recommendation for a user with a balance of new songs and familiar artists to give choices based on potential dynamic user preferences.\n",
    "\n"
   ]
  },
  {
   "cell_type": "code",
   "execution_count": 180,
   "metadata": {},
   "outputs": [],
   "source": [
    "# Train Algorithm A\n",
    "algo_a =  SVD(random_state = 1)\n",
    "algo_a.fit(trainset)\n",
    "pred_a = algo_a.test(testset)\n",
    "\n",
    "# Train Algorithm B\n",
    "sim_options = {'name': 'msd', 'user_based': True}\n",
    "algo_b = KNNBasic(sim_options = sim_options, k = 50, min_k = 9, random_state = 1, verbose = False)\n",
    "algo_b.fit(trainset)\n",
    "pred_b = algo_b.test(testset)"
   ]
  },
  {
   "cell_type": "markdown",
   "metadata": {},
   "source": [
    "now evaluate the performance of different weight combinations using the hold-out set. For example, we can try different combinations of wA and wB, ranging from (0.1, 0.9) to (0.9, 0.1), and compute their respective RMSE scores:"
   ]
  },
  {
   "cell_type": "code",
   "execution_count": 181,
   "metadata": {},
   "outputs": [
    {
     "name": "stdout",
     "output_type": "stream",
     "text": [
      "RMSE: 2.7976\n",
      "MAE:  2.2302\n",
      "Weight combination (0.1, 0.9): RMSE = 2.7976, MAE = 2.2302\n",
      "RMSE: 2.7495\n",
      "MAE:  2.1971\n",
      "Weight combination (0.3, 0.7): RMSE = 2.7495, MAE = 2.1971\n",
      "RMSE: 2.7186\n",
      "MAE:  2.1749\n",
      "Weight combination (0.5, 0.5): RMSE = 2.7186, MAE = 2.1749\n",
      "RMSE: 2.7057\n",
      "MAE:  2.1634\n",
      "Weight combination (0.7, 0.3): RMSE = 2.7057, MAE = 2.1634\n",
      "RMSE: 2.7110\n",
      "MAE:  2.1619\n",
      "Weight combination (0.9, 0.1): RMSE = 2.7110, MAE = 2.1619\n"
     ]
    }
   ],
   "source": [
    "# Define the weight combinations to try\n",
    "weights = [(0.1, 0.9), (0.3, 0.7), (0.5, 0.5), (0.7, 0.3), (0.9, 0.1)]\n",
    "\n",
    "# Compute the RMSE score for each weight combination\n",
    "# NOTE: If this function fails with a 'TypeError' np.float64, reload the packages and run again\n",
    "for wA, wB in weights:\n",
    "    df_hybrid, pred_hybrid, rmse_score, mae_score = hybrid_prediction(pred_a, pred_b, wA, wB) \n",
    "    print(f'Weight combination ({wA}, {wB}): RMSE = {rmse_score:.4f}, MAE = {mae_score:.4f}')"
   ]
  },
  {
   "cell_type": "markdown",
   "metadata": {},
   "source": [
    "**Observations and Insights:**\n",
    "- there is not much difference in RMSE for the different combinations of model weights\n",
    "- The 'best' weight combination is SVD .7 - collaborative filtering .3"
   ]
  },
  {
   "cell_type": "code",
   "execution_count": 189,
   "metadata": {},
   "outputs": [
    {
     "name": "stdout",
     "output_type": "stream",
     "text": [
      "popularity of recommended songs:  85.1\n"
     ]
    },
    {
     "data": {
      "text/html": [
       "<div>\n",
       "<style scoped>\n",
       "    .dataframe tbody tr th:only-of-type {\n",
       "        vertical-align: middle;\n",
       "    }\n",
       "\n",
       "    .dataframe tbody tr th {\n",
       "        vertical-align: top;\n",
       "    }\n",
       "\n",
       "    .dataframe thead th {\n",
       "        text-align: right;\n",
       "    }\n",
       "</style>\n",
       "<table border=\"1\" class=\"dataframe\">\n",
       "  <thead>\n",
       "    <tr style=\"text-align: right;\">\n",
       "      <th></th>\n",
       "      <th>title</th>\n",
       "      <th>artist_name</th>\n",
       "      <th>count_plays</th>\n",
       "      <th>predicted_interaction</th>\n",
       "      <th>corrected_ratings</th>\n",
       "    </tr>\n",
       "  </thead>\n",
       "  <tbody>\n",
       "    <tr>\n",
       "      <th>0</th>\n",
       "      <td>Clara meets Slope - Hard To Say</td>\n",
       "      <td>Clara Hill</td>\n",
       "      <td>89</td>\n",
       "      <td>9.677092</td>\n",
       "      <td>9.571092</td>\n",
       "    </tr>\n",
       "    <tr>\n",
       "      <th>1</th>\n",
       "      <td>Catch You Baby (Steve Pitron &amp; Max Sanna Radio...</td>\n",
       "      <td>Lonnie Gordon</td>\n",
       "      <td>616</td>\n",
       "      <td>8.470891</td>\n",
       "      <td>8.430600</td>\n",
       "    </tr>\n",
       "    <tr>\n",
       "      <th>2</th>\n",
       "      <td>Make Her Say</td>\n",
       "      <td>Kid Cudi / Kanye West / Common</td>\n",
       "      <td>156</td>\n",
       "      <td>7.772713</td>\n",
       "      <td>7.692649</td>\n",
       "    </tr>\n",
       "    <tr>\n",
       "      <th>3</th>\n",
       "      <td>Cats In The Cradle</td>\n",
       "      <td>Ugly Kid Joe</td>\n",
       "      <td>30</td>\n",
       "      <td>7.789474</td>\n",
       "      <td>7.606899</td>\n",
       "    </tr>\n",
       "    <tr>\n",
       "      <th>4</th>\n",
       "      <td>Recado Falado (Metrô Da Saudade)</td>\n",
       "      <td>Alceu Valença</td>\n",
       "      <td>143</td>\n",
       "      <td>7.642525</td>\n",
       "      <td>7.558901</td>\n",
       "    </tr>\n",
       "    <tr>\n",
       "      <th>5</th>\n",
       "      <td>#40</td>\n",
       "      <td>DAVE MATTHEWS BAND</td>\n",
       "      <td>72</td>\n",
       "      <td>7.661807</td>\n",
       "      <td>7.543956</td>\n",
       "    </tr>\n",
       "    <tr>\n",
       "      <th>6</th>\n",
       "      <td>Walk Through Hell (featuring Max Bemis Acousti...</td>\n",
       "      <td>Say Anything</td>\n",
       "      <td>31</td>\n",
       "      <td>7.678929</td>\n",
       "      <td>7.499324</td>\n",
       "    </tr>\n",
       "    <tr>\n",
       "      <th>7</th>\n",
       "      <td>Eternal Flame (Single Version)</td>\n",
       "      <td>Atomic Kitten</td>\n",
       "      <td>49</td>\n",
       "      <td>7.411352</td>\n",
       "      <td>7.268495</td>\n",
       "    </tr>\n",
       "    <tr>\n",
       "      <th>8</th>\n",
       "      <td>Love Is Not A Fight</td>\n",
       "      <td>Warren Barfield</td>\n",
       "      <td>36</td>\n",
       "      <td>7.379032</td>\n",
       "      <td>7.212366</td>\n",
       "    </tr>\n",
       "    <tr>\n",
       "      <th>9</th>\n",
       "      <td>Voices On A String (Album Version)</td>\n",
       "      <td>Thursday</td>\n",
       "      <td>128</td>\n",
       "      <td>7.295797</td>\n",
       "      <td>7.207409</td>\n",
       "    </tr>\n",
       "    <tr>\n",
       "      <th>10</th>\n",
       "      <td>The Quest</td>\n",
       "      <td>HYPOCRISY</td>\n",
       "      <td>27</td>\n",
       "      <td>7.333201</td>\n",
       "      <td>7.140751</td>\n",
       "    </tr>\n",
       "    <tr>\n",
       "      <th>11</th>\n",
       "      <td>Hasta La Vista</td>\n",
       "      <td>Jordan Francis/Roshon Bernard Fegan</td>\n",
       "      <td>53</td>\n",
       "      <td>7.219907</td>\n",
       "      <td>7.082546</td>\n",
       "    </tr>\n",
       "    <tr>\n",
       "      <th>12</th>\n",
       "      <td>(Nice Dream)</td>\n",
       "      <td>Radiohead</td>\n",
       "      <td>73</td>\n",
       "      <td>7.133452</td>\n",
       "      <td>7.016411</td>\n",
       "    </tr>\n",
       "    <tr>\n",
       "      <th>13</th>\n",
       "      <td>He's A Pirate</td>\n",
       "      <td>Klaus Badelt</td>\n",
       "      <td>20</td>\n",
       "      <td>7.165812</td>\n",
       "      <td>6.942205</td>\n",
       "    </tr>\n",
       "    <tr>\n",
       "      <th>14</th>\n",
       "      <td>Sunburn</td>\n",
       "      <td>Muse</td>\n",
       "      <td>15</td>\n",
       "      <td>7.181355</td>\n",
       "      <td>6.923156</td>\n",
       "    </tr>\n",
       "    <tr>\n",
       "      <th>15</th>\n",
       "      <td>Cold Blooded (Acid Cleanse)</td>\n",
       "      <td>The fFormula</td>\n",
       "      <td>38</td>\n",
       "      <td>7.000000</td>\n",
       "      <td>6.837779</td>\n",
       "    </tr>\n",
       "    <tr>\n",
       "      <th>16</th>\n",
       "      <td>Hold Me_ Thrill Me_ Kiss Me_ Kill Me</td>\n",
       "      <td>U2</td>\n",
       "      <td>33</td>\n",
       "      <td>6.770725</td>\n",
       "      <td>6.596648</td>\n",
       "    </tr>\n",
       "    <tr>\n",
       "      <th>17</th>\n",
       "      <td>Twilight Galaxy</td>\n",
       "      <td>Metric</td>\n",
       "      <td>28</td>\n",
       "      <td>6.696697</td>\n",
       "      <td>6.507715</td>\n",
       "    </tr>\n",
       "    <tr>\n",
       "      <th>18</th>\n",
       "      <td>Last Nite</td>\n",
       "      <td>The Strokes</td>\n",
       "      <td>21</td>\n",
       "      <td>6.724206</td>\n",
       "      <td>6.505988</td>\n",
       "    </tr>\n",
       "    <tr>\n",
       "      <th>19</th>\n",
       "      <td>The Calculation (Album Version)</td>\n",
       "      <td>Regina Spektor</td>\n",
       "      <td>44</td>\n",
       "      <td>6.636842</td>\n",
       "      <td>6.486086</td>\n",
       "    </tr>\n",
       "  </tbody>\n",
       "</table>\n",
       "</div>"
      ],
      "text/plain": [
       "                                                title  \\\n",
       "0                     Clara meets Slope - Hard To Say   \n",
       "1   Catch You Baby (Steve Pitron & Max Sanna Radio...   \n",
       "2                                        Make Her Say   \n",
       "3                                  Cats In The Cradle   \n",
       "4                    Recado Falado (Metrô Da Saudade)   \n",
       "5                                                 #40   \n",
       "6   Walk Through Hell (featuring Max Bemis Acousti...   \n",
       "7                      Eternal Flame (Single Version)   \n",
       "8                                 Love Is Not A Fight   \n",
       "9                  Voices On A String (Album Version)   \n",
       "10                                          The Quest   \n",
       "11                                     Hasta La Vista   \n",
       "12                                       (Nice Dream)   \n",
       "13                                      He's A Pirate   \n",
       "14                                            Sunburn   \n",
       "15                        Cold Blooded (Acid Cleanse)   \n",
       "16               Hold Me_ Thrill Me_ Kiss Me_ Kill Me   \n",
       "17                                    Twilight Galaxy   \n",
       "18                                          Last Nite   \n",
       "19                    The Calculation (Album Version)   \n",
       "\n",
       "                            artist_name  count_plays  predicted_interaction  \\\n",
       "0                            Clara Hill           89               9.677092   \n",
       "1                         Lonnie Gordon          616               8.470891   \n",
       "2        Kid Cudi / Kanye West / Common          156               7.772713   \n",
       "3                          Ugly Kid Joe           30               7.789474   \n",
       "4                         Alceu Valença          143               7.642525   \n",
       "5                    DAVE MATTHEWS BAND           72               7.661807   \n",
       "6                          Say Anything           31               7.678929   \n",
       "7                         Atomic Kitten           49               7.411352   \n",
       "8                       Warren Barfield           36               7.379032   \n",
       "9                              Thursday          128               7.295797   \n",
       "10                            HYPOCRISY           27               7.333201   \n",
       "11  Jordan Francis/Roshon Bernard Fegan           53               7.219907   \n",
       "12                            Radiohead           73               7.133452   \n",
       "13                         Klaus Badelt           20               7.165812   \n",
       "14                                 Muse           15               7.181355   \n",
       "15                         The fFormula           38               7.000000   \n",
       "16                                   U2           33               6.770725   \n",
       "17                               Metric           28               6.696697   \n",
       "18                          The Strokes           21               6.724206   \n",
       "19                       Regina Spektor           44               6.636842   \n",
       "\n",
       "    corrected_ratings  \n",
       "0            9.571092  \n",
       "1            8.430600  \n",
       "2            7.692649  \n",
       "3            7.606899  \n",
       "4            7.558901  \n",
       "5            7.543956  \n",
       "6            7.499324  \n",
       "7            7.268495  \n",
       "8            7.212366  \n",
       "9            7.207409  \n",
       "10           7.140751  \n",
       "11           7.082546  \n",
       "12           7.016411  \n",
       "13           6.942205  \n",
       "14           6.923156  \n",
       "15           6.837779  \n",
       "16           6.596648  \n",
       "17           6.507715  \n",
       "18           6.505988  \n",
       "19           6.486086  "
      ]
     },
     "execution_count": 189,
     "metadata": {},
     "output_type": "execute_result"
    }
   ],
   "source": [
    "# tune the hybrid recommender with the weights from the previous step and run it:\n",
    "results = ranking_songs(hybrid_recommendations(cdf_filtered,'6d625c6557df84b60d90426c0116138b617b9449', algo_a, algo_b, 0.7, 0.3, top_n=20))\n",
    "print('popularity of recommended songs: ',results['count_plays'].mean())\n",
    "results"
   ]
  },
  {
   "cell_type": "markdown",
   "metadata": {
    "id": "73367782"
   },
   "source": [
    "## **Conclusion and Recommendations**"
   ]
  },
  {
   "cell_type": "markdown",
   "metadata": {
    "id": "N5BT7Ocwqf5x"
   },
   "source": [
    "**1. Comparison of various techniques and their relative performance based on chosen Metric (Measure of success)**:\n",
    "- In General the Method 2 dataset had better MSE and MAE than the method 1 dataset, but the Method 1 dataset had better f1_score and the predictions for listened to songs were closer to the actual playcounts\n",
    "- The SVD and user-user based models performed the best according to RMSE, MAE, and f1\n",
    "- The item-item model recommended different songs that the SVD, clustering, and user-user\n",
    "- In general, tuning the models did improve their performance, however it became clear that one of the biggest effects on model performance is the data going into the model. \n",
    "- The Content based recommender system, just based on artist name, album title and year does a decent job of recommending artists the user likes, and songs from albums the user has listened to.\n",
    "- Many of the songs in the SVD,clustering, collaboritive filtering recommendations were not artists in the users top listened artist/song list, therefore I added the Content Based Recommendations into the hybrid recommender system.\n",
    "- I chose to tune my hybrid recommendation system using SVD with default settings because it was the best performing model, and user-user collaborative Filtering model. Combining these added more potential song diversity that might align with the user preferences into the final recommendation. \n",
    "- I also added content-based recommendations into the hybrid model for 'familiarity'\n",
    "- There is room for improvement in the performance of the models and final recommender system:\n",
    " - more features such as genre, loudness, danceability, and lyrics could be added as features to improve Content based recommendations\n",
    " - Further improvement could be made on filtering/scaling the play_counts to achieve better predictions\n",
    " - A different approach could be tried, such as Neural Networks"
   ]
  },
  {
   "cell_type": "markdown",
   "metadata": {
    "id": "wjc6vTcoqp6v"
   },
   "source": [
    "**2. Refined insights**:\n",
    "- The impact of the Y variable - in this case play_count - cannot be understated. \n",
    "- The distribution and scarcity in the play_counts, and how I chose to filter and transform it had large impacts on the model performance\n",
    "- The Content-based recommender system, although perhaps the 'simplist' of the models besides the popularity based recommender system, performs predictably and precisely recommends songs based on content\n",
    "- matrix factorization outperformed other models. It runs quickly, and while it has only marginally better performace metrics than other collaborative or cluster-based models, its predictions were the closest to actual.\n",
    "- The metrics you choose to assess model performance with are extremely important. depending on the metrics you choose, they can change the decisions you make about models and recommendations."
   ]
  },
  {
   "cell_type": "markdown",
   "metadata": {
    "id": "hK6PMGUtoxVx"
   },
   "source": [
    "**3. Proposal for the final solution design:** \n",
    "- I am proposing the hybrid recommender system I built be adopted. It provides a good balance of artists/albums the user is known to like, but may not have listened to other songs of, and new content recommended by usesr-user collaborative filtering and matrix factorization,\n",
    "- In short, it is highly personalized!\n",
    "- This hybrid recommender system could be adjusted and improved further based on more features for content-based recommending or alternative compositions of models/weights"
   ]
  },
  {
   "cell_type": "markdown",
   "metadata": {},
   "source": [
    "**Final 10 song recommendation for user 6d625c6557df84b60d90426c0116138b617b9449:** "
   ]
  },
  {
   "cell_type": "code",
   "execution_count": 187,
   "metadata": {},
   "outputs": [
    {
     "data": {
      "text/html": [
       "<div>\n",
       "<style scoped>\n",
       "    .dataframe tbody tr th:only-of-type {\n",
       "        vertical-align: middle;\n",
       "    }\n",
       "\n",
       "    .dataframe tbody tr th {\n",
       "        vertical-align: top;\n",
       "    }\n",
       "\n",
       "    .dataframe thead th {\n",
       "        text-align: right;\n",
       "    }\n",
       "</style>\n",
       "<table border=\"1\" class=\"dataframe\">\n",
       "  <thead>\n",
       "    <tr style=\"text-align: right;\">\n",
       "      <th></th>\n",
       "      <th>title</th>\n",
       "      <th>artist_name</th>\n",
       "      <th>count_plays</th>\n",
       "      <th>predicted_interaction</th>\n",
       "      <th>corrected_ratings</th>\n",
       "    </tr>\n",
       "  </thead>\n",
       "  <tbody>\n",
       "    <tr>\n",
       "      <th>0</th>\n",
       "      <td>Clara meets Slope - Hard To Say</td>\n",
       "      <td>Clara Hill</td>\n",
       "      <td>89</td>\n",
       "      <td>9.677092</td>\n",
       "      <td>9.571092</td>\n",
       "    </tr>\n",
       "    <tr>\n",
       "      <th>1</th>\n",
       "      <td>Catch You Baby (Steve Pitron &amp; Max Sanna Radio...</td>\n",
       "      <td>Lonnie Gordon</td>\n",
       "      <td>616</td>\n",
       "      <td>8.470891</td>\n",
       "      <td>8.430600</td>\n",
       "    </tr>\n",
       "    <tr>\n",
       "      <th>2</th>\n",
       "      <td>Make Her Say</td>\n",
       "      <td>Kid Cudi / Kanye West / Common</td>\n",
       "      <td>156</td>\n",
       "      <td>7.772713</td>\n",
       "      <td>7.692649</td>\n",
       "    </tr>\n",
       "    <tr>\n",
       "      <th>3</th>\n",
       "      <td>Cats In The Cradle</td>\n",
       "      <td>Ugly Kid Joe</td>\n",
       "      <td>30</td>\n",
       "      <td>7.789474</td>\n",
       "      <td>7.606899</td>\n",
       "    </tr>\n",
       "    <tr>\n",
       "      <th>4</th>\n",
       "      <td>Recado Falado (Metrô Da Saudade)</td>\n",
       "      <td>Alceu Valença</td>\n",
       "      <td>143</td>\n",
       "      <td>7.642525</td>\n",
       "      <td>7.558901</td>\n",
       "    </tr>\n",
       "    <tr>\n",
       "      <th>5</th>\n",
       "      <td>#40</td>\n",
       "      <td>DAVE MATTHEWS BAND</td>\n",
       "      <td>72</td>\n",
       "      <td>7.661807</td>\n",
       "      <td>7.543956</td>\n",
       "    </tr>\n",
       "    <tr>\n",
       "      <th>6</th>\n",
       "      <td>Walk Through Hell (featuring Max Bemis Acousti...</td>\n",
       "      <td>Say Anything</td>\n",
       "      <td>31</td>\n",
       "      <td>7.678929</td>\n",
       "      <td>7.499324</td>\n",
       "    </tr>\n",
       "    <tr>\n",
       "      <th>7</th>\n",
       "      <td>Eternal Flame (Single Version)</td>\n",
       "      <td>Atomic Kitten</td>\n",
       "      <td>49</td>\n",
       "      <td>7.411352</td>\n",
       "      <td>7.268495</td>\n",
       "    </tr>\n",
       "    <tr>\n",
       "      <th>8</th>\n",
       "      <td>Cold Blooded (Acid Cleanse)</td>\n",
       "      <td>The fFormula</td>\n",
       "      <td>38</td>\n",
       "      <td>7.000000</td>\n",
       "      <td>6.837779</td>\n",
       "    </tr>\n",
       "    <tr>\n",
       "      <th>9</th>\n",
       "      <td>Hold Me_ Thrill Me_ Kiss Me_ Kill Me</td>\n",
       "      <td>U2</td>\n",
       "      <td>33</td>\n",
       "      <td>6.770725</td>\n",
       "      <td>6.596648</td>\n",
       "    </tr>\n",
       "  </tbody>\n",
       "</table>\n",
       "</div>"
      ],
      "text/plain": [
       "                                               title  \\\n",
       "0                    Clara meets Slope - Hard To Say   \n",
       "1  Catch You Baby (Steve Pitron & Max Sanna Radio...   \n",
       "2                                       Make Her Say   \n",
       "3                                 Cats In The Cradle   \n",
       "4                   Recado Falado (Metrô Da Saudade)   \n",
       "5                                                #40   \n",
       "6  Walk Through Hell (featuring Max Bemis Acousti...   \n",
       "7                     Eternal Flame (Single Version)   \n",
       "8                        Cold Blooded (Acid Cleanse)   \n",
       "9               Hold Me_ Thrill Me_ Kiss Me_ Kill Me   \n",
       "\n",
       "                      artist_name  count_plays  predicted_interaction  \\\n",
       "0                      Clara Hill           89               9.677092   \n",
       "1                   Lonnie Gordon          616               8.470891   \n",
       "2  Kid Cudi / Kanye West / Common          156               7.772713   \n",
       "3                    Ugly Kid Joe           30               7.789474   \n",
       "4                   Alceu Valença          143               7.642525   \n",
       "5              DAVE MATTHEWS BAND           72               7.661807   \n",
       "6                    Say Anything           31               7.678929   \n",
       "7                   Atomic Kitten           49               7.411352   \n",
       "8                    The fFormula           38               7.000000   \n",
       "9                              U2           33               6.770725   \n",
       "\n",
       "   corrected_ratings  \n",
       "0           9.571092  \n",
       "1           8.430600  \n",
       "2           7.692649  \n",
       "3           7.606899  \n",
       "4           7.558901  \n",
       "5           7.543956  \n",
       "6           7.499324  \n",
       "7           7.268495  \n",
       "8           6.837779  \n",
       "9           6.596648  "
      ]
     },
     "execution_count": 187,
     "metadata": {},
     "output_type": "execute_result"
    }
   ],
   "source": [
    "# Recommending top 10 songs for user '6ccd111af9b4baa497aacd6d1863cbf5a141acc6' with hybrid recommender system\n",
    "results = ranking_songs(hybrid_recommendations(cdf_filtered,'6d625c6557df84b60d90426c0116138b617b9449', algo_a, algo_b, 0.7, 0.3, top_n=10))\n",
    "results"
   ]
  },
  {
   "cell_type": "markdown",
   "metadata": {},
   "source": [
    "# Executive Summary"
   ]
  },
  {
   "cell_type": "markdown",
   "metadata": {},
   "source": [
    "### *Problem Summary*\n",
    "<font size=\"4\">        With the advent of smartphones and the consumer economy, there has been a revolution in the ways that people consume products and content. At the same time, digital music and digital music distribution platforms have become some of the most widely accessible and highly consumed product markets in the world. Yet with this deluge of digital music content comes a challenge: how do users find new content that they enjoy, and how do digital music platforms enable music discovery by users? These challenges are exacerbated by the fact that in the modern fast-paced world, people are often time or attention limited, there are other platforms competing for user attention, and digital content-based company's revenue often relies on the time consumers spend on, or interact with, its platform. These companies need to be able to figure out what kind of content is needed in order to increase customer time spent on their platform, the ammount of interaction had with their platform, and the overall satisfaction with a users experience on the platform. The key challenge for companies is in figuring out what kind of content their users are most likely to consume. Spotify is one such music content provider with a huge market base across the world. With the ever-increasing volume of streaming music becoming available, finding new music of interest has become a tedious task in and of itself. Spotify has grown significantly in the market because of its ability to make highly personalized music recommendations to each and every user of its platform based on a huge preference database gathered over time - millions of customers and billions of songs. This is done by using smart recommendation systems that can recommend songs based on users’ likes/dislikes, incorporating both content-based and latent features for song recommendations. However, the recommendation system used by Spotify and its parameter settings have remained a proprietary, closely-guarded secret. Here, I build a recommendation system to provide a top 10 of personalized song recommendations to a user that the user is most likely to enjoy/like/interact-with based on that users personal musical preferences. \n",
    "</font>"
   ]
  },
  {
   "cell_type": "markdown",
   "metadata": {},
   "source": [
    "### *Solution Summary*\n",
    "<font size=\"4\">       In total, I explored six recommendation systems using the 1 millions songs dataset<sup>1</sup> as part of the solution design for this project: popularity-based, user-user collaborative filtering, item-item collaborative filtering, matrix factorization, cluster-based, and content-based. To evaluate the different models analyzed here, I relied on the F1_score, model predictions of user/song interactions, and the top 10 recommended songs by each model. These metrics clearly demonstrate a higher level of performance by three of the six models: matrix factorization (Singular Value Decomposition with default settings, with a 70% weight applied), user-user collaborative filtering (KNN basic algorithm with msd distance, max cluster size of 50, minimum cluster size of 9, and 30% weight applied), and the content-based model (tf-idf encoding and cosign-similarity distance on album title, artist name, and release year). Therefore,  I propose a Hybrid-Based Recommendation System, built by combining these three models with the specified parameters, be adopted for personalized recommendations of music with maximum user interaction potential. The proposed hybrid recommendation system boasts fast computational times, high prediction accuracy of user preferences, and a balanced recommendation of familiar and diverse new music for users. However, the model is subject to limitations such as a 'cold start' problem when making predictions for new users with few listens, and with the ever-increasing volume of songs becoming available and users adopting the platform this will lead to longer and longer computation times (and presumably less user satisfaction). Addtionally, the model generally favors popular artists and songs, which could have an impact on the music industry by making it more difficult for new artists to break into the scene using this platform.<br>\n",
    "       Importantly, to reduce the computational resources required to test, train, and evaluate the solution design for this project, it was necessary to reduce the size of the dataset to make it more computationally tractable. The resulting filtered dataset reduced the original '1 million  songs' dataset (with 2 million records) to 121,900 records and increased the accuracy of predicted user interactions by reducing high degree of imbalance in the data from infrequent users and unpopular songs. While these results do not address the 'cold start' issue, they deomstrate the importance of a filtering step for making fast and relevant recommendations. Therefore, I suggest the application of a pre-recommendation filter as part of the final final solution design. Additionally, the content-based part of the recommendation system could also be improved by incorporating further features such as genre, lyrics, danceability, and encoded recordings. With these additions to the content portion of the recommendation system, the weight of the content-based model in the final hybrid recommendation system might be increased in future versions of the product. I recommend that these limitations and proposals be considered in future releases of the recommendation system for improved user personalization and increased user satisfaction.\n",
    "</font> "
   ]
  },
  {
   "cell_type": "markdown",
   "metadata": {},
   "source": [
    "### *Recommendations for implementation*\n",
    "<font size=\"4\">        In the short-term I recommend the adoption of a hybrid recommendation system based on the recommender built in part III of this analysis, but with the inclusion of multiple additional content-based features like those discussed above. However, keeping in mind that this is a minimum viable product (MVP) that has not been tested on users, I recommend this hybrid recommendation system (MVP) be launched as a development version prior to deployment into production. With the deployment of the development version, the product could be introduced to a subset of randomly selected users, who would have songs recommended to them using multiple configurations of the hybrid system. User interactions with these recommendations could then be tracked to determine which recommendation configuration is the most successful at producing user interactions with the recommended material. Following evaluation of the development deployment, I recommend the hybrid system configuration and individual model weights be adjusted for maximum user interaction/satisfaction and deployed into production on the full user platform. Finally, I recommend that all user interactions on the platform be tracked along with other user data such as age, location, and gender. These data will provide key insights for ML Ops Engineers to retrain the recommendation system for future releases of the product. \n",
    "</font>"
   ]
  },
  {
   "cell_type": "markdown",
   "metadata": {},
   "source": [
    "# References\n",
    "1. Thierry Bertin-Mahieux, Daniel P.W. Ellis, Brian Whitman, and Paul Lamere. The Million Song Dataset. In Proceedings of the 12th International Society for Music Information Retrieval Conference (ISMIR 2011), 2011."
   ]
  }
 ],
 "metadata": {
  "colab": {
   "provenance": []
  },
  "kernelspec": {
   "display_name": "Python 3 (ipykernel)",
   "language": "python",
   "name": "python3"
  },
  "language_info": {
   "codemirror_mode": {
    "name": "ipython",
    "version": 3
   },
   "file_extension": ".py",
   "mimetype": "text/x-python",
   "name": "python",
   "nbconvert_exporter": "python",
   "pygments_lexer": "ipython3",
   "version": "3.10.8"
  }
 },
 "nbformat": 4,
 "nbformat_minor": 4
}
